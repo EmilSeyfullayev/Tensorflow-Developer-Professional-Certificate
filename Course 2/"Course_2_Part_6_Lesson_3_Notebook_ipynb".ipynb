{
  "nbformat": 4,
  "nbformat_minor": 0,
  "metadata": {
    "accelerator": "GPU",
    "colab": {
      "name": "\"Course 2 - Part 6 - Lesson 3 - Notebook.ipynb\"",
      "provenance": [],
      "collapsed_sections": [],
      "include_colab_link": true
    },
    "kernelspec": {
      "display_name": "Python 3",
      "name": "python3"
    }
  },
  "cells": [
    {
      "cell_type": "markdown",
      "metadata": {
        "id": "view-in-github",
        "colab_type": "text"
      },
      "source": [
        "<a href=\"https://colab.research.google.com/github/EmilSeyfullayev/Tensorflow-Developer-Professional-Certificate/blob/main/Course%202/%22Course_2_Part_6_Lesson_3_Notebook_ipynb%22.ipynb\" target=\"_parent\"><img src=\"https://colab.research.google.com/assets/colab-badge.svg\" alt=\"Open In Colab\"/></a>"
      ]
    },
    {
      "cell_type": "markdown",
      "metadata": {
        "id": "rX8mhOLljYeM"
      },
      "source": [
        "##### Copyright 2019 The TensorFlow Authors."
      ]
    },
    {
      "cell_type": "code",
      "metadata": {
        "cellView": "form",
        "id": "BZSlp3DAjdYf"
      },
      "source": [
        "#@title Licensed under the Apache License, Version 2.0 (the \"License\");\n",
        "# you may not use this file except in compliance with the License.\n",
        "# You may obtain a copy of the License at\n",
        "#\n",
        "# https://www.apache.org/licenses/LICENSE-2.0\n",
        "#\n",
        "# Unless required by applicable law or agreed to in writing, software\n",
        "# distributed under the License is distributed on an \"AS IS\" BASIS,\n",
        "# WITHOUT WARRANTIES OR CONDITIONS OF ANY KIND, either express or implied.\n",
        "# See the License for the specific language governing permissions and\n",
        "# limitations under the License."
      ],
      "execution_count": null,
      "outputs": []
    },
    {
      "cell_type": "code",
      "metadata": {
        "id": "1xJZ5glPPCRz",
        "colab": {
          "base_uri": "https://localhost:8080/"
        },
        "outputId": "bea933fc-0178-4478-e9d6-85a1d6f9bd02"
      },
      "source": [
        "import os\n",
        "\n",
        "from tensorflow.keras import layers\n",
        "from tensorflow.keras import Model\n",
        "!wget --no-check-certificate \\\n",
        "    https://storage.googleapis.com/mledu-datasets/inception_v3_weights_tf_dim_ordering_tf_kernels_notop.h5 \\\n",
        "    -O /tmp/inception_v3_weights_tf_dim_ordering_tf_kernels_notop.h5\n",
        "  \n",
        "from tensorflow.keras.applications.inception_v3 import InceptionV3\n",
        "\n",
        "local_weights_file = '/tmp/inception_v3_weights_tf_dim_ordering_tf_kernels_notop.h5'\n",
        "\n",
        "pre_trained_model = InceptionV3(input_shape = (150, 150, 3), \n",
        "                                include_top = False, \n",
        "                                weights = None)\n",
        "\n",
        "pre_trained_model.load_weights(local_weights_file)\n",
        "\n",
        "for layer in pre_trained_model.layers:\n",
        "  layer.trainable = False\n",
        "  \n",
        "# pre_trained_model.summary()\n",
        "\n",
        "last_layer = pre_trained_model.get_layer('mixed7')\n",
        "print('last layer output shape: ', last_layer.output_shape)\n",
        "last_output = last_layer.output"
      ],
      "execution_count": null,
      "outputs": [
        {
          "output_type": "stream",
          "name": "stdout",
          "text": [
            "--2022-02-21 11:00:30--  https://storage.googleapis.com/mledu-datasets/inception_v3_weights_tf_dim_ordering_tf_kernels_notop.h5\n",
            "Resolving storage.googleapis.com (storage.googleapis.com)... 173.194.195.128, 142.250.152.128, 64.233.191.128, ...\n",
            "Connecting to storage.googleapis.com (storage.googleapis.com)|173.194.195.128|:443... connected.\n",
            "HTTP request sent, awaiting response... 200 OK\n",
            "Length: 87910968 (84M) [application/x-hdf]\n",
            "Saving to: ‘/tmp/inception_v3_weights_tf_dim_ordering_tf_kernels_notop.h5’\n",
            "\n",
            "/tmp/inception_v3_w 100%[===================>]  83.84M   156MB/s    in 0.5s    \n",
            "\n",
            "2022-02-21 11:00:31 (156 MB/s) - ‘/tmp/inception_v3_weights_tf_dim_ordering_tf_kernels_notop.h5’ saved [87910968/87910968]\n",
            "\n",
            "last layer output shape:  (None, 7, 7, 768)\n"
          ]
        }
      ]
    },
    {
      "cell_type": "code",
      "metadata": {
        "id": "BMXb913pbvFg",
        "colab": {
          "base_uri": "https://localhost:8080/"
        },
        "outputId": "1da513e9-5d0a-4b18-f844-62a29dd3a7c3"
      },
      "source": [
        "from tensorflow.keras.optimizers import RMSprop\n",
        "\n",
        "# Flatten the output layer to 1 dimension\n",
        "x = layers.Flatten()(last_output)\n",
        "# Add a fully connected layer with 1,024 hidden units and ReLU activation\n",
        "x = layers.Dense(1024, activation='relu')(x)\n",
        "# Add a dropout rate of 0.2\n",
        "x = layers.Dropout(0.2)(x)                  \n",
        "# Add a final sigmoid layer for classification\n",
        "x = layers.Dense  (1, activation='sigmoid')(x)           \n",
        "\n",
        "model = Model( pre_trained_model.input, x) \n",
        "\n",
        "model.compile(optimizer = RMSprop(lr=0.0001), \n",
        "              loss = 'binary_crossentropy', \n",
        "              metrics = ['accuracy'])\n"
      ],
      "execution_count": null,
      "outputs": [
        {
          "output_type": "stream",
          "name": "stderr",
          "text": [
            "/usr/local/lib/python3.7/dist-packages/keras/optimizer_v2/rmsprop.py:130: UserWarning: The `lr` argument is deprecated, use `learning_rate` instead.\n",
            "  super(RMSprop, self).__init__(name, **kwargs)\n"
          ]
        }
      ]
    },
    {
      "cell_type": "code",
      "metadata": {
        "id": "O4s8HckqGlnb",
        "colab": {
          "base_uri": "https://localhost:8080/"
        },
        "outputId": "acd8a60d-ab3f-4da2-da4f-52678cc4392c"
      },
      "source": [
        "!wget --no-check-certificate \\\n",
        "        https://storage.googleapis.com/mledu-datasets/cats_and_dogs_filtered.zip \\\n",
        "       -O /tmp/cats_and_dogs_filtered.zip\n",
        "\n",
        "from tensorflow.keras.preprocessing.image import ImageDataGenerator\n",
        "\n",
        "import os\n",
        "import zipfile\n",
        "\n",
        "local_zip = '//tmp/cats_and_dogs_filtered.zip'\n",
        "\n",
        "zip_ref = zipfile.ZipFile(local_zip, 'r')\n",
        "\n",
        "zip_ref.extractall('/tmp')\n",
        "zip_ref.close()\n",
        "\n",
        "# Define our example directories and files\n",
        "base_dir = '/tmp/cats_and_dogs_filtered'\n",
        "\n",
        "train_dir = os.path.join( base_dir, 'train')\n",
        "validation_dir = os.path.join( base_dir, 'validation')\n",
        "\n",
        "\n",
        "train_cats_dir = os.path.join(train_dir, 'cats') # Directory with our training cat pictures\n",
        "train_dogs_dir = os.path.join(train_dir, 'dogs') # Directory with our training dog pictures\n",
        "validation_cats_dir = os.path.join(validation_dir, 'cats') # Directory with our validation cat pictures\n",
        "validation_dogs_dir = os.path.join(validation_dir, 'dogs')# Directory with our validation dog pictures\n",
        "\n",
        "train_cat_fnames = os.listdir(train_cats_dir)\n",
        "train_dog_fnames = os.listdir(train_dogs_dir)\n",
        "\n",
        "# Add our data-augmentation parameters to ImageDataGenerator\n",
        "train_datagen = ImageDataGenerator(rescale = 1./255.,\n",
        "                                   rotation_range = 40,\n",
        "                                   width_shift_range = 0.2,\n",
        "                                   height_shift_range = 0.2,\n",
        "                                   shear_range = 0.2,\n",
        "                                   zoom_range = 0.2,\n",
        "                                   horizontal_flip = True)\n",
        "\n",
        "# Note that the validation data should not be augmented!\n",
        "test_datagen = ImageDataGenerator( rescale = 1.0/255. )\n",
        "\n",
        "# Flow training images in batches of 20 using train_datagen generator\n",
        "train_generator = train_datagen.flow_from_directory(train_dir,\n",
        "                                                    batch_size = 20,\n",
        "                                                    class_mode = 'binary', \n",
        "                                                    target_size = (150, 150))     \n",
        "\n",
        "# Flow validation images in batches of 20 using test_datagen generator\n",
        "validation_generator =  test_datagen.flow_from_directory( validation_dir,\n",
        "                                                          batch_size  = 20,\n",
        "                                                          class_mode  = 'binary', \n",
        "                                                          target_size = (150, 150))"
      ],
      "execution_count": null,
      "outputs": [
        {
          "output_type": "stream",
          "name": "stdout",
          "text": [
            "--2022-02-21 11:00:40--  https://storage.googleapis.com/mledu-datasets/cats_and_dogs_filtered.zip\n",
            "Resolving storage.googleapis.com (storage.googleapis.com)... 142.251.6.128, 142.250.159.128, 142.251.120.128, ...\n",
            "Connecting to storage.googleapis.com (storage.googleapis.com)|142.251.6.128|:443... connected.\n",
            "HTTP request sent, awaiting response... 200 OK\n",
            "Length: 68606236 (65M) [application/zip]\n",
            "Saving to: ‘/tmp/cats_and_dogs_filtered.zip’\n",
            "\n",
            "/tmp/cats_and_dogs_ 100%[===================>]  65.43M  98.5MB/s    in 0.7s    \n",
            "\n",
            "2022-02-21 11:00:40 (98.5 MB/s) - ‘/tmp/cats_and_dogs_filtered.zip’ saved [68606236/68606236]\n",
            "\n",
            "Found 2000 images belonging to 2 classes.\n",
            "Found 1000 images belonging to 2 classes.\n"
          ]
        }
      ]
    },
    {
      "cell_type": "code",
      "metadata": {
        "id": "Blhq2MAUeyGA",
        "colab": {
          "base_uri": "https://localhost:8080/"
        },
        "outputId": "466fa387-83d2-4129-9e4a-00cfaeb31282"
      },
      "source": [
        "history = model.fit(\n",
        "            train_generator,\n",
        "            validation_data = validation_generator,\n",
        "            steps_per_epoch = 100,\n",
        "            epochs = 20,\n",
        "            validation_steps = 50,\n",
        "            verbose = 2)"
      ],
      "execution_count": null,
      "outputs": [
        {
          "output_type": "stream",
          "name": "stdout",
          "text": [
            "Epoch 1/20\n",
            "100/100 - 42s - loss: 0.3397 - accuracy: 0.8660 - val_loss: 0.1490 - val_accuracy: 0.9450 - 42s/epoch - 417ms/step\n",
            "Epoch 2/20\n",
            "100/100 - 23s - loss: 0.2299 - accuracy: 0.9135 - val_loss: 0.1208 - val_accuracy: 0.9530 - 23s/epoch - 230ms/step\n",
            "Epoch 3/20\n",
            "100/100 - 25s - loss: 0.2185 - accuracy: 0.9190 - val_loss: 0.0997 - val_accuracy: 0.9640 - 25s/epoch - 246ms/step\n",
            "Epoch 4/20\n",
            "100/100 - 23s - loss: 0.1737 - accuracy: 0.9350 - val_loss: 0.1195 - val_accuracy: 0.9580 - 23s/epoch - 230ms/step\n",
            "Epoch 5/20\n",
            "100/100 - 24s - loss: 0.1973 - accuracy: 0.9270 - val_loss: 0.1124 - val_accuracy: 0.9620 - 24s/epoch - 237ms/step\n",
            "Epoch 6/20\n",
            "100/100 - 23s - loss: 0.1832 - accuracy: 0.9380 - val_loss: 0.1164 - val_accuracy: 0.9620 - 23s/epoch - 230ms/step\n",
            "Epoch 7/20\n",
            "100/100 - 24s - loss: 0.1777 - accuracy: 0.9390 - val_loss: 0.1343 - val_accuracy: 0.9540 - 24s/epoch - 236ms/step\n",
            "Epoch 8/20\n",
            "100/100 - 23s - loss: 0.1777 - accuracy: 0.9385 - val_loss: 0.1313 - val_accuracy: 0.9540 - 23s/epoch - 228ms/step\n",
            "Epoch 9/20\n",
            "100/100 - 23s - loss: 0.1540 - accuracy: 0.9460 - val_loss: 0.1784 - val_accuracy: 0.9520 - 23s/epoch - 234ms/step\n",
            "Epoch 10/20\n",
            "100/100 - 23s - loss: 0.1534 - accuracy: 0.9470 - val_loss: 0.1295 - val_accuracy: 0.9670 - 23s/epoch - 229ms/step\n",
            "Epoch 11/20\n",
            "100/100 - 23s - loss: 0.1372 - accuracy: 0.9525 - val_loss: 0.1475 - val_accuracy: 0.9600 - 23s/epoch - 233ms/step\n",
            "Epoch 12/20\n",
            "100/100 - 23s - loss: 0.1658 - accuracy: 0.9490 - val_loss: 0.1104 - val_accuracy: 0.9640 - 23s/epoch - 230ms/step\n",
            "Epoch 13/20\n",
            "100/100 - 23s - loss: 0.1726 - accuracy: 0.9410 - val_loss: 0.0985 - val_accuracy: 0.9660 - 23s/epoch - 232ms/step\n",
            "Epoch 14/20\n",
            "100/100 - 23s - loss: 0.1355 - accuracy: 0.9525 - val_loss: 0.1046 - val_accuracy: 0.9690 - 23s/epoch - 229ms/step\n",
            "Epoch 15/20\n",
            "100/100 - 23s - loss: 0.1713 - accuracy: 0.9440 - val_loss: 0.2047 - val_accuracy: 0.9440 - 23s/epoch - 230ms/step\n",
            "Epoch 16/20\n",
            "100/100 - 23s - loss: 0.1545 - accuracy: 0.9460 - val_loss: 0.1480 - val_accuracy: 0.9600 - 23s/epoch - 229ms/step\n",
            "Epoch 17/20\n",
            "100/100 - 22s - loss: 0.1494 - accuracy: 0.9525 - val_loss: 0.1317 - val_accuracy: 0.9660 - 22s/epoch - 224ms/step\n",
            "Epoch 18/20\n",
            "100/100 - 22s - loss: 0.1234 - accuracy: 0.9605 - val_loss: 0.1240 - val_accuracy: 0.9640 - 22s/epoch - 224ms/step\n",
            "Epoch 19/20\n",
            "100/100 - 23s - loss: 0.1344 - accuracy: 0.9590 - val_loss: 0.1361 - val_accuracy: 0.9590 - 23s/epoch - 225ms/step\n",
            "Epoch 20/20\n",
            "100/100 - 22s - loss: 0.1235 - accuracy: 0.9565 - val_loss: 0.1584 - val_accuracy: 0.9610 - 22s/epoch - 225ms/step\n"
          ]
        }
      ]
    },
    {
      "cell_type": "code",
      "metadata": {
        "id": "C2Fp6Se9rKuL",
        "colab": {
          "base_uri": "https://localhost:8080/",
          "height": 299
        },
        "outputId": "0d4cb0e4-aae0-45b1-abd1-dc2b768f5561"
      },
      "source": [
        "import matplotlib.pyplot as plt\n",
        "acc = history.history['accuracy']\n",
        "val_acc = history.history['val_accuracy']\n",
        "loss = history.history['loss']\n",
        "val_loss = history.history['val_loss']\n",
        "\n",
        "epochs = range(len(acc))\n",
        "\n",
        "plt.plot(epochs, acc, 'r', label='Training accuracy')\n",
        "plt.plot(epochs, val_acc, 'b', label='Validation accuracy')\n",
        "plt.title('Training and validation accuracy')\n",
        "plt.legend(loc=0)\n",
        "plt.figure()\n",
        "\n",
        "\n",
        "plt.show()"
      ],
      "execution_count": null,
      "outputs": [
        {
          "output_type": "display_data",
          "data": {
            "image/png": "[encoded data removed]",
            "text/plain": [
              "<Figure size 432x288 with 1 Axes>"
            ]
          },
          "metadata": {
            "needs_background": "light"
          }
        },
        {
          "output_type": "display_data",
          "data": {
            "text/plain": [
              "<Figure size 432x288 with 0 Axes>"
            ]
          },
          "metadata": {}
        }
      ]
    },
    {
      "cell_type": "code",
      "source": [
        ""
      ],
      "metadata": {
        "id": "LBiLDS6o8Hn8"
      },
      "execution_count": null,
      "outputs": []
    }
  ]
}