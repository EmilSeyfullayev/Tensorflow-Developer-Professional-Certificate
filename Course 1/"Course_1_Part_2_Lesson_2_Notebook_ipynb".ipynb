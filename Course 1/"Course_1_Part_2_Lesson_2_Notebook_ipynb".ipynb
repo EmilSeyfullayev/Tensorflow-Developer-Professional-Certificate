{
  "nbformat": 4,
  "nbformat_minor": 0,
  "metadata": {
    "colab": {
      "name": "\"Course 1 - Part 2 - Lesson 2 - Notebook.ipynb\"",
      "provenance": [],
      "collapsed_sections": [],
      "include_colab_link": true
    },
    "kernelspec": {
      "display_name": "Python 3",
      "name": "python3"
    }
  },
  "cells": [
    {
      "cell_type": "markdown",
      "metadata": {
        "id": "view-in-github",
        "colab_type": "text"
      },
      "source": [
        "<a href=\"https://colab.research.google.com/github/EmilSeyfullayev/Tensorflow-Developer-Professional-Certificate/blob/main/Course%201/%22Course_1_Part_2_Lesson_2_Notebook_ipynb%22.ipynb\" target=\"_parent\"><img src=\"https://colab.research.google.com/assets/colab-badge.svg\" alt=\"Open In Colab\"/></a>"
      ]
    },
    {
      "cell_type": "markdown",
      "metadata": {
        "id": "rX8mhOLljYeM"
      },
      "source": [
        "##### Copyright 2019 The TensorFlow Authors."
      ]
    },
    {
      "cell_type": "code",
      "metadata": {
        "cellView": "form",
        "id": "BZSlp3DAjdYf"
      },
      "source": [
        "#@title Licensed under the Apache License, Version 2.0 (the \"License\");\n",
        "# you may not use this file except in compliance with the License.\n",
        "# You may obtain a copy of the License at\n",
        "#\n",
        "# https://www.apache.org/licenses/LICENSE-2.0\n",
        "#\n",
        "# Unless required by applicable law or agreed to in writing, software\n",
        "# distributed under the License is distributed on an \"AS IS\" BASIS,\n",
        "# WITHOUT WARRANTIES OR CONDITIONS OF ANY KIND, either express or implied.\n",
        "# See the License for the specific language governing permissions and\n",
        "# limitations under the License."
      ],
      "execution_count": null,
      "outputs": []
    },
    {
      "cell_type": "markdown",
      "metadata": {
        "id": "ZIAkIlfmCe1B"
      },
      "source": [
        "# The Hello World of Deep Learning with Neural Networks"
      ]
    },
    {
      "cell_type": "markdown",
      "metadata": {
        "id": "fA93WUy1zzWf"
      },
      "source": [
        "Like every first app you should start with something super simple that shows the overall scaffolding for how your code works. \n",
        "\n",
        "In the case of creating neural networks, the sample I like to use is one where it learns the relationship between two numbers. So, for example, if you were writing code for a function like this, you already know the 'rules' — \n",
        "\n",
        "\n",
        "```\n",
        "float hw_function(float x){\n",
        "    float y = (2 * x) - 1;\n",
        "    return y;\n",
        "}\n",
        "```\n",
        "\n",
        "So how would you train a neural network to do the equivalent task? Using data! By feeding it with a set of Xs, and a set of Ys, it should be able to figure out the relationship between them. \n",
        "\n",
        "This is obviously a very different paradigm than what you might be used to, so let's step through it piece by piece.\n"
      ]
    },
    {
      "cell_type": "markdown",
      "metadata": {
        "id": "DzbtdRcZDO9B"
      },
      "source": [
        "## Imports\n",
        "\n",
        "Let's start with our imports. Here we are importing TensorFlow and calling it tf for ease of use.\n",
        "\n",
        "We then import a library called numpy, which helps us to represent our data as lists easily and quickly.\n",
        "\n",
        "The framework for defining a neural network as a set of Sequential layers is called keras, so we import that too."
      ]
    },
    {
      "cell_type": "code",
      "metadata": {
        "id": "X9uIpOS2zx7k"
      },
      "source": [
        "import tensorflow as tf\n",
        "import numpy as np\n",
        "from tensorflow import keras"
      ],
      "execution_count": 1,
      "outputs": []
    },
    {
      "cell_type": "markdown",
      "metadata": {
        "id": "wwJGmDrQ0EoB"
      },
      "source": [
        "## Define and Compile the Neural Network\n",
        "\n",
        "Next we will create the simplest possible neural network. It has 1 layer, and that layer has 1 neuron, and the input shape to it is just 1 value."
      ]
    },
    {
      "cell_type": "code",
      "metadata": {
        "id": "kQFAr_xo0M4T"
      },
      "source": [
        "model = tf.keras.Sequential([keras.layers.Dense(units=1, input_shape=[1])])"
      ],
      "execution_count": 2,
      "outputs": []
    },
    {
      "cell_type": "markdown",
      "metadata": {
        "id": "KhjZjZ-c0Ok9"
      },
      "source": [
        "Now we compile our Neural Network. When we do so, we have to specify 2 functions, a loss and an optimizer.\n",
        "\n",
        "If you've seen lots of math for machine learning, here's where it's usually used, but in this case it's nicely encapsulated in functions for you. But what happens here — let's explain...\n",
        "\n",
        "We know that in our function, the relationship between the numbers is y=2x-1. \n",
        "\n",
        "When the computer is trying to 'learn' that, it makes a guess...maybe y=10x+10. The LOSS function measures the guessed answers against the known correct answers and measures how well or how badly it did.\n",
        "\n",
        "It then uses the OPTIMIZER function to make another guess. Based on how the loss function went, it will try to minimize the loss. At that point maybe it will come up with somehting like y=5x+5, which, while still pretty bad, is closer to the correct result (i.e. the loss is lower)\n",
        "\n",
        "It will repeat this for the number of EPOCHS which you will see shortly. But first, here's how we tell it to use 'MEAN SQUARED ERROR' for the loss and 'STOCHASTIC GRADIENT DESCENT' for the optimizer. You don't need to understand the math for these yet, but you can see that they work! :)\n",
        "\n",
        "Over time you will learn the different and appropriate loss and optimizer functions for different scenarios. \n"
      ]
    },
    {
      "cell_type": "code",
      "metadata": {
        "id": "m8YQN1H41L-Y"
      },
      "source": [
        "model.compile(optimizer='sgd', loss='mean_squared_error')"
      ],
      "execution_count": 3,
      "outputs": []
    },
    {
      "cell_type": "markdown",
      "metadata": {
        "id": "5QyOUhFw1OUX"
      },
      "source": [
        "## Providing the Data\n",
        "\n",
        "Next up we'll feed in some data. In this case we are taking 6 xs and 6ys. You can see that the relationship between these is that y=2x-1, so where x = -1, y=-3 etc. etc. \n",
        "\n",
        "A python library called 'Numpy' provides lots of array type data structures that are a defacto standard way of doing it. We declare that we want to use these by specifying the values as an np.array[]"
      ]
    },
    {
      "cell_type": "code",
      "metadata": {
        "id": "4Dxk4q-jzEy4"
      },
      "source": [
        "xs = np.array([-1.0,  0.0, 1.0, 2.0, 3.0, 4.0, 5.0], dtype=float)\n",
        "ys = np.array([-3.0, -1.0, 1.0, 3.0, 5.0, 7.0, 9.0], dtype=float)"
      ],
      "execution_count": 4,
      "outputs": []
    },
    {
      "cell_type": "markdown",
      "metadata": {
        "id": "n_YcWRElnM_b"
      },
      "source": [
        "# Training the Neural Network"
      ]
    },
    {
      "cell_type": "markdown",
      "metadata": {
        "id": "c-Jk4dG91dvD"
      },
      "source": [
        "The process of training the neural network, where it 'learns' the relationship between the Xs and Ys is in the **model.fit**  call. This is where it will go through the loop we spoke about above, making a guess, measuring how good or bad it is (aka the loss), using the opimizer to make another guess etc. It will do it for the number of epochs you specify. When you run this code, you'll see the loss on the right hand side."
      ]
    },
    {
      "cell_type": "code",
      "source": [
        "type(xs[0])"
      ],
      "metadata": {
        "colab": {
          "base_uri": "https://localhost:8080/"
        },
        "id": "oqGUhfxznscI",
        "outputId": "a277c7b2-3ca3-405f-9e5c-21f139210cb6"
      },
      "execution_count": 5,
      "outputs": [
        {
          "output_type": "execute_result",
          "data": {
            "text/plain": [
              "numpy.float64"
            ]
          },
          "metadata": {},
          "execution_count": 5
        }
      ]
    },
    {
      "cell_type": "code",
      "metadata": {
        "id": "lpRrl7WK10Pq",
        "colab": {
          "base_uri": "https://localhost:8080/"
        },
        "outputId": "ad81fe1f-023a-4416-e3d7-2efb009a3dd3"
      },
      "source": [
        "model.fit(xs, ys, epochs=2000)"
      ],
      "execution_count": 9,
      "outputs": [
        {
          "output_type": "stream",
          "name": "stdout",
          "text": [
            "1/1 [==============================] - 0s 6ms/step - loss: 1.0479e-11\n",
            "Epoch 1951/2000\n",
            "1/1 [==============================] - 0s 5ms/step - loss: 1.0479e-11\n",
            "Epoch 1952/2000\n",
            "1/1 [==============================] - 0s 8ms/step - loss: 1.0479e-11\n",
            "Epoch 1953/2000\n",
            "1/1 [==============================] - 0s 5ms/step - loss: 1.0479e-11\n",
            "Epoch 1954/2000\n",
            "1/1 [==============================] - 0s 5ms/step - loss: 1.0479e-11\n",
            "Epoch 1955/2000\n",
            "1/1 [==============================] - 0s 5ms/step - loss: 1.0479e-11\n",
            "Epoch 1956/2000\n",
            "1/1 [==============================] - 0s 8ms/step - loss: 1.0479e-11\n",
            "Epoch 1957/2000\n",
            "1/1 [==============================] - 0s 8ms/step - loss: 1.0479e-11\n",
            "Epoch 1958/2000\n",
            "1/1 [==============================] - 0s 5ms/step - loss: 1.0479e-11\n",
            "Epoch 1959/2000\n",
            "1/1 [==============================] - 0s 13ms/step - loss: 1.0479e-11\n",
            "Epoch 1960/2000\n",
            "1/1 [==============================] - 0s 5ms/step - loss: 1.0479e-11\n",
            "Epoch 1961/2000\n",
            "1/1 [==============================] - 0s 5ms/step - loss: 1.0479e-11\n",
            "Epoch 1962/2000\n",
            "1/1 [==============================] - 0s 5ms/step - loss: 1.0479e-11\n",
            "Epoch 1963/2000\n",
            "1/1 [==============================] - 0s 12ms/step - loss: 1.0479e-11\n",
            "Epoch 1964/2000\n",
            "1/1 [==============================] - 0s 6ms/step - loss: 1.0479e-11\n",
            "Epoch 1965/2000\n",
            "1/1 [==============================] - 0s 7ms/step - loss: 1.0479e-11\n",
            "Epoch 1966/2000\n",
            "1/1 [==============================] - 0s 8ms/step - loss: 1.0479e-11\n",
            "Epoch 1967/2000\n",
            "1/1 [==============================] - 0s 6ms/step - loss: 1.0479e-11\n",
            "Epoch 1968/2000\n",
            "1/1 [==============================] - 0s 5ms/step - loss: 1.0479e-11\n",
            "Epoch 1969/2000\n",
            "1/1 [==============================] - 0s 8ms/step - loss: 1.0479e-11\n",
            "Epoch 1970/2000\n",
            "1/1 [==============================] - 0s 8ms/step - loss: 1.0479e-11\n",
            "Epoch 1971/2000\n",
            "1/1 [==============================] - 0s 9ms/step - loss: 1.0479e-11\n",
            "Epoch 1972/2000\n",
            "1/1 [==============================] - 0s 9ms/step - loss: 1.0479e-11\n",
            "Epoch 1973/2000\n",
            "1/1 [==============================] - 0s 7ms/step - loss: 1.0479e-11\n",
            "Epoch 1974/2000\n",
            "1/1 [==============================] - 0s 9ms/step - loss: 1.0479e-11\n",
            "Epoch 1975/2000\n",
            "1/1 [==============================] - 0s 8ms/step - loss: 1.0479e-11\n",
            "Epoch 1976/2000\n",
            "1/1 [==============================] - 0s 8ms/step - loss: 1.0479e-11\n",
            "Epoch 1977/2000\n",
            "1/1 [==============================] - 0s 7ms/step - loss: 1.0479e-11\n",
            "Epoch 1978/2000\n",
            "1/1 [==============================] - 0s 8ms/step - loss: 1.0479e-11\n",
            "Epoch 1979/2000\n",
            "1/1 [==============================] - 0s 6ms/step - loss: 1.0479e-11\n",
            "Epoch 1980/2000\n",
            "1/1 [==============================] - 0s 6ms/step - loss: 1.0479e-11\n",
            "Epoch 1981/2000\n",
            "1/1 [==============================] - 0s 10ms/step - loss: 1.0479e-11\n",
            "Epoch 1982/2000\n",
            "1/1 [==============================] - 0s 12ms/step - loss: 1.0479e-11\n",
            "Epoch 1983/2000\n",
            "1/1 [==============================] - 0s 9ms/step - loss: 1.0479e-11\n",
            "Epoch 1984/2000\n",
            "1/1 [==============================] - 0s 9ms/step - loss: 1.0479e-11\n",
            "Epoch 1985/2000\n",
            "1/1 [==============================] - 0s 7ms/step - loss: 1.0479e-11\n",
            "Epoch 1986/2000\n",
            "1/1 [==============================] - 0s 8ms/step - loss: 1.0479e-11\n",
            "Epoch 1987/2000\n",
            "1/1 [==============================] - 0s 7ms/step - loss: 1.0479e-11\n",
            "Epoch 1988/2000\n",
            "1/1 [==============================] - 0s 6ms/step - loss: 1.0479e-11\n",
            "Epoch 1989/2000\n",
            "1/1 [==============================] - 0s 9ms/step - loss: 1.0479e-11\n",
            "Epoch 1990/2000\n",
            "1/1 [==============================] - 0s 8ms/step - loss: 1.0479e-11\n",
            "Epoch 1991/2000\n",
            "1/1 [==============================] - 0s 11ms/step - loss: 1.0479e-11\n",
            "Epoch 1992/2000\n",
            "1/1 [==============================] - 0s 7ms/step - loss: 1.0479e-11\n",
            "Epoch 1993/2000\n",
            "1/1 [==============================] - 0s 6ms/step - loss: 1.0479e-11\n",
            "Epoch 1994/2000\n",
            "1/1 [==============================] - 0s 7ms/step - loss: 1.0479e-11\n",
            "Epoch 1995/2000\n",
            "1/1 [==============================] - 0s 8ms/step - loss: 1.0479e-11\n",
            "Epoch 1996/2000\n",
            "1/1 [==============================] - 0s 16ms/step - loss: 1.0479e-11\n",
            "Epoch 1997/2000\n",
            "1/1 [==============================] - 0s 5ms/step - loss: 1.0479e-11\n",
            "Epoch 1998/2000\n",
            "1/1 [==============================] - 0s 10ms/step - loss: 1.0479e-11\n",
            "Epoch 1999/2000\n",
            "1/1 [==============================] - 0s 6ms/step - loss: 1.0479e-11\n",
            "Epoch 2000/2000\n",
            "1/1 [==============================] - 0s 7ms/step - loss: 1.0479e-11\n"
          ]
        },
        {
          "output_type": "execute_result",
          "data": {
            "text/plain": [
              "<keras.callbacks.History at 0x7f32829b6a90>"
            ]
          },
          "metadata": {},
          "execution_count": 9
        }
      ]
    },
    {
      "cell_type": "markdown",
      "metadata": {
        "id": "kaFIr71H2OZ-"
      },
      "source": [
        "Ok, now you have a model that has been trained to learn the relationship between X and Y. You can use the **model.predict** method to have it figure out the Y for a previously unknown X. So, for example, if X = 10, what do you think Y will be? Take a guess before you run this code:"
      ]
    },
    {
      "cell_type": "code",
      "metadata": {
        "id": "oxNzL4lS2Gui",
        "colab": {
          "base_uri": "https://localhost:8080/"
        },
        "outputId": "1f32ad8d-767d-4886-9428-494e35408664"
      },
      "source": [
        "print(model.predict([10.0]))"
      ],
      "execution_count": 10,
      "outputs": [
        {
          "output_type": "stream",
          "name": "stdout",
          "text": [
            "[[18.999989]]\n"
          ]
        }
      ]
    },
    {
      "cell_type": "markdown",
      "metadata": {
        "id": "btF2CSFH2iEX"
      },
      "source": [
        "You might have thought 19, right? But it ended up being a little under. Why do you think that is? \n",
        "\n",
        "Remember that neural networks deal with probabilities, so given the data that we fed the NN with, it calculated that there is a very high probability that the relationship between X and Y is Y=2X-1, but with only 6 data points we can't know for sure. As a result, the result for 10 is very close to 19, but not necessarily 19. \n",
        "\n",
        "As you work with neural networks, you'll see this pattern recurring. You will almost always deal with probabilities, not certainties, and will do a little bit of coding to figure out what the result is based on the probabilities, particularly when it comes to classification.\n"
      ]
    }
  ]
}