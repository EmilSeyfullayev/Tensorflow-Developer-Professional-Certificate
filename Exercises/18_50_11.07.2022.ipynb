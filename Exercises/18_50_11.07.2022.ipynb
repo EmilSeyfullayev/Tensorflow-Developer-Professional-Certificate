{
  "nbformat": 4,
  "nbformat_minor": 0,
  "metadata": {
    "colab": {
      "name": "Untitled0.ipynb",
      "provenance": [],
      "collapsed_sections": []
    },
    "kernelspec": {
      "name": "python3",
      "display_name": "Python 3"
    },
    "language_info": {
      "name": "python"
    },
    "accelerator": "GPU",
    "gpuClass": "standard"
  },
  "cells": [
    {
      "cell_type": "code",
      "source": [
        "!wget --no-check-certificate \\\n",
        "    https://storage.googleapis.com/laurencemoroney-blog.appspot.com/horse-or-human.zip \\\n",
        "    -O /tmp/horse-or-human.zip"
      ],
      "metadata": {
        "id": "SE2KDA_6RgZF",
        "colab": {
          "base_uri": "https://localhost:8080/"
        },
        "outputId": "410d659a-d118-4e87-d7b6-154991b3e17a"
      },
      "execution_count": 1,
      "outputs": [
        {
          "output_type": "stream",
          "name": "stdout",
          "text": [
            "--2022-07-11 14:36:06--  https://storage.googleapis.com/laurencemoroney-blog.appspot.com/horse-or-human.zip\n",
            "Resolving storage.googleapis.com (storage.googleapis.com)... 108.177.98.128, 74.125.142.128, 74.125.195.128, ...\n",
            "Connecting to storage.googleapis.com (storage.googleapis.com)|108.177.98.128|:443... connected.\n",
            "HTTP request sent, awaiting response... 200 OK\n",
            "Length: 149574867 (143M) [application/zip]\n",
            "Saving to: ‘/tmp/horse-or-human.zip’\n",
            "\n",
            "/tmp/horse-or-human 100%[===================>] 142.65M   264MB/s    in 0.5s    \n",
            "\n",
            "2022-07-11 14:36:07 (264 MB/s) - ‘/tmp/horse-or-human.zip’ saved [149574867/149574867]\n",
            "\n"
          ]
        }
      ]
    },
    {
      "cell_type": "code",
      "source": [
        "!wget --no-check-certificate \\\n",
        "    https://storage.googleapis.com/laurencemoroney-blog.appspot.com/validation-horse-or-human.zip \\\n",
        "    -O /tmp/validation-horse-or-human.zip"
      ],
      "metadata": {
        "colab": {
          "base_uri": "https://localhost:8080/"
        },
        "id": "Q4KYRzKvcWWi",
        "outputId": "36a12d1b-6c94-41d6-d940-96096e781b8e"
      },
      "execution_count": 2,
      "outputs": [
        {
          "output_type": "stream",
          "name": "stdout",
          "text": [
            "--2022-07-11 14:36:07--  https://storage.googleapis.com/laurencemoroney-blog.appspot.com/validation-horse-or-human.zip\n",
            "Resolving storage.googleapis.com (storage.googleapis.com)... 74.125.197.128, 74.125.135.128, 74.125.142.128, ...\n",
            "Connecting to storage.googleapis.com (storage.googleapis.com)|74.125.197.128|:443... connected.\n",
            "HTTP request sent, awaiting response... 200 OK\n",
            "Length: 11480187 (11M) [application/zip]\n",
            "Saving to: ‘/tmp/validation-horse-or-human.zip’\n",
            "\n",
            "/tmp/validation-hor 100%[===================>]  10.95M  41.5MB/s    in 0.3s    \n",
            "\n",
            "2022-07-11 14:36:08 (41.5 MB/s) - ‘/tmp/validation-horse-or-human.zip’ saved [11480187/11480187]\n",
            "\n"
          ]
        }
      ]
    },
    {
      "cell_type": "code",
      "source": [
        "import os\n",
        "import zipfile"
      ],
      "metadata": {
        "id": "i6hnpl_UcYhi"
      },
      "execution_count": 3,
      "outputs": []
    },
    {
      "cell_type": "code",
      "source": [
        "zipfile.ZipFile('/tmp/horse-or-human.zip', 'r').extractall('/tmp/horse-or-human')"
      ],
      "metadata": {
        "id": "lUfuwnzzdYPk"
      },
      "execution_count": 4,
      "outputs": []
    },
    {
      "cell_type": "code",
      "source": [
        "zipfile.ZipFile('/tmp/validation-horse-or-human.zip', 'r').extractall('/tmp/validation-horse-or-human')\n",
        "zipfile.ZipFile('/tmp/validation-horse-or-human.zip', 'r').close()"
      ],
      "metadata": {
        "id": "XGCURrrKdgNC"
      },
      "execution_count": 5,
      "outputs": []
    },
    {
      "cell_type": "code",
      "source": [
        "import os"
      ],
      "metadata": {
        "id": "ZdBh10QweuSW"
      },
      "execution_count": 6,
      "outputs": []
    },
    {
      "cell_type": "code",
      "source": [
        "os.curdir"
      ],
      "metadata": {
        "colab": {
          "base_uri": "https://localhost:8080/",
          "height": 35
        },
        "id": "9OiaJz-Ugk9o",
        "outputId": "79970aba-3643-42c6-c4e1-8f9b1e243b1f"
      },
      "execution_count": 7,
      "outputs": [
        {
          "output_type": "execute_result",
          "data": {
            "text/plain": [
              "'.'"
            ],
            "application/vnd.google.colaboratory.intrinsic+json": {
              "type": "string"
            }
          },
          "metadata": {},
          "execution_count": 7
        }
      ]
    },
    {
      "cell_type": "code",
      "source": [
        "os.path.join('/tmp/horse-or-human/horses')"
      ],
      "metadata": {
        "colab": {
          "base_uri": "https://localhost:8080/",
          "height": 35
        },
        "id": "5fxxipaTglyg",
        "outputId": "3065a94e-6e91-4bfc-fcb6-78a0f36f7eda"
      },
      "execution_count": 8,
      "outputs": [
        {
          "output_type": "execute_result",
          "data": {
            "text/plain": [
              "'/tmp/horse-or-human/horses'"
            ],
            "application/vnd.google.colaboratory.intrinsic+json": {
              "type": "string"
            }
          },
          "metadata": {},
          "execution_count": 8
        }
      ]
    },
    {
      "cell_type": "code",
      "source": [
        "train_horse_dir = os.path.join('/tmp/horse-or-human/horses') #slash dont forget\n",
        "train_human_dir = os.path.join('/tmp/horse-or-human/humans')\n",
        "\n",
        "validation_horse_dir = os.path.join('/tmp/validation-horse-or-human/horses')\n",
        "validation_human_dir = os.path.join('/tmp/validation-horse-or-human/humans')"
      ],
      "metadata": {
        "id": "5Kkkd0fNg9Kj"
      },
      "execution_count": 9,
      "outputs": []
    },
    {
      "cell_type": "code",
      "source": [
        "os.listdir(train_horse_dir)[:10]"
      ],
      "metadata": {
        "colab": {
          "base_uri": "https://localhost:8080/"
        },
        "id": "Urbb9gzfhkTD",
        "outputId": "26931893-ec94-4603-eafb-4dd571c24ad3"
      },
      "execution_count": 10,
      "outputs": [
        {
          "output_type": "execute_result",
          "data": {
            "text/plain": [
              "['horse47-9.png',\n",
              " 'horse22-4.png',\n",
              " 'horse41-9.png',\n",
              " 'horse33-7.png',\n",
              " 'horse12-6.png',\n",
              " 'horse20-4.png',\n",
              " 'horse46-1.png',\n",
              " 'horse32-5.png',\n",
              " 'horse06-4.png',\n",
              " 'horse38-6.png']"
            ]
          },
          "metadata": {},
          "execution_count": 10
        }
      ]
    },
    {
      "cell_type": "code",
      "source": [
        "print(len(os.listdir(train_horse_dir)))\n",
        "print(len(os.listdir(train_human_dir)))\n",
        "print(len(os.listdir(validation_horse_dir)))\n",
        "print(len(os.listdir(validation_human_dir)))"
      ],
      "metadata": {
        "colab": {
          "base_uri": "https://localhost:8080/"
        },
        "id": "X69Bv8MBhpdd",
        "outputId": "3f493d4c-1d8d-4aa3-919c-5905e6ffbe5b"
      },
      "execution_count": 11,
      "outputs": [
        {
          "output_type": "stream",
          "name": "stdout",
          "text": [
            "500\n",
            "527\n",
            "128\n",
            "128\n"
          ]
        }
      ]
    },
    {
      "cell_type": "code",
      "execution_count": 12,
      "metadata": {
        "id": "1UVLsoIyOdAf"
      },
      "outputs": [],
      "source": [
        "import tensorflow as tf\n",
        "from tensorflow.keras.models import Sequential\n",
        "from tensorflow.keras.layers import Dense, Conv2D, MaxPool2D, Flatten, Dropout"
      ]
    },
    {
      "cell_type": "code",
      "source": [
        "model = Sequential()\n",
        "model.add(Conv2D(16, (3,3), activation = 'relu', input_shape=(300, 300, 3)))\n",
        "model.add(MaxPool2D())\n",
        "model.add(Conv2D(32, (3,3), activation='relu'))\n",
        "model.add(MaxPool2D())\n",
        "model.add(Conv2D(64, (3,3), activation='relu'))\n",
        "model.add(MaxPool2D())\n",
        "model.add(Conv2D(128, (3,3), activation='relu'))\n",
        "model.add(MaxPool2D())\n",
        "model.add(Flatten())\n",
        "model.add(Dense(512, activation='relu'))\n",
        "model.add(Dropout(0.8))\n",
        "# model.add(Dense(256, activation='relu'))\n",
        "# model.add(Dropout(0.8))\n",
        "model.add(Dense(128, activation='relu'))\n",
        "model.add(Dropout(0.8))\n",
        "model.add(Dense(1, activation='sigmoid'))"
      ],
      "metadata": {
        "id": "N6QiLWvrkgEO"
      },
      "execution_count": 26,
      "outputs": []
    },
    {
      "cell_type": "code",
      "source": [
        "model.compile(\n",
        "    optimizer = tf.keras.optimizers.RMSprop(learning_rate=0.001),\n",
        "    loss = 'binary_crossentropy',\n",
        "    metrics = ['accuracy']\n",
        ")"
      ],
      "metadata": {
        "id": "JSYyc0sepjQS"
      },
      "execution_count": 28,
      "outputs": []
    },
    {
      "cell_type": "code",
      "source": [
        "from tensorflow.keras.preprocessing.image import ImageDataGenerator"
      ],
      "metadata": {
        "id": "q9BpLApMmwOn"
      },
      "execution_count": 15,
      "outputs": []
    },
    {
      "cell_type": "code",
      "source": [
        "train_gen_tmp_var = ImageDataGenerator(rescale=1.0/255.0)"
      ],
      "metadata": {
        "id": "gE4B-1ykm7rs"
      },
      "execution_count": 16,
      "outputs": []
    },
    {
      "cell_type": "code",
      "source": [
        "train_generator = train_gen_tmp_var.flow_from_directory(\n",
        "    '/tmp/horse-or-human',\n",
        "    target_size = (300, 300),\n",
        "    batch_size = 128,\n",
        "    class_mode = 'binary'\n",
        ")"
      ],
      "metadata": {
        "colab": {
          "base_uri": "https://localhost:8080/"
        },
        "id": "9WX1b5YdoXvo",
        "outputId": "539efc58-a4f4-4e1f-da93-cf8a5b053574"
      },
      "execution_count": 17,
      "outputs": [
        {
          "output_type": "stream",
          "name": "stdout",
          "text": [
            "Found 1027 images belonging to 2 classes.\n"
          ]
        }
      ]
    },
    {
      "cell_type": "code",
      "source": [
        "validation_gen_tmp_var = ImageDataGenerator(rescale=1.0/255.0)"
      ],
      "metadata": {
        "id": "lFwcWBtIo6kF"
      },
      "execution_count": 18,
      "outputs": []
    },
    {
      "cell_type": "code",
      "source": [
        "validation_generator = validation_gen_tmp_var.flow_from_directory(\n",
        "    '/tmp/validation-horse-or-human',\n",
        "    target_size = (300, 300),\n",
        "    batch_size = 32,\n",
        "    class_mode = 'binary'\n",
        ")"
      ],
      "metadata": {
        "colab": {
          "base_uri": "https://localhost:8080/"
        },
        "id": "E18MSUGipFLZ",
        "outputId": "70b9fa69-0e16-4f78-fbbb-d0d159a6ff52"
      },
      "execution_count": 19,
      "outputs": [
        {
          "output_type": "stream",
          "name": "stdout",
          "text": [
            "Found 256 images belonging to 2 classes.\n"
          ]
        }
      ]
    },
    {
      "cell_type": "code",
      "source": [
        "model.fit(\n",
        "    train_generator,\n",
        "    steps_per_epoch = 8,\n",
        "    epochs = 20,\n",
        "    validation_data = validation_generator,\n",
        "    validation_steps = 8\n",
        ")"
      ],
      "metadata": {
        "colab": {
          "base_uri": "https://localhost:8080/"
        },
        "id": "Fyprg3txpdN-",
        "outputId": "57c01a54-00a2-487a-84db-eb1b9c33d566"
      },
      "execution_count": 29,
      "outputs": [
        {
          "output_type": "stream",
          "name": "stdout",
          "text": [
            "Epoch 1/20\n",
            "8/8 [==============================] - 9s 1s/step - loss: 1.0724 - accuracy: 0.5106 - val_loss: 0.6739 - val_accuracy: 0.5273\n",
            "Epoch 2/20\n",
            "8/8 [==============================] - 8s 957ms/step - loss: 0.6957 - accuracy: 0.6162 - val_loss: 0.5932 - val_accuracy: 0.6875\n",
            "Epoch 3/20\n",
            "8/8 [==============================] - 7s 915ms/step - loss: 0.5193 - accuracy: 0.7542 - val_loss: 0.7028 - val_accuracy: 0.8242\n",
            "Epoch 4/20\n",
            "8/8 [==============================] - 7s 892ms/step - loss: 0.3234 - accuracy: 0.8810 - val_loss: 1.8324 - val_accuracy: 0.7852\n",
            "Epoch 5/20\n",
            "8/8 [==============================] - 7s 1s/step - loss: 0.4787 - accuracy: 0.8554 - val_loss: 0.4575 - val_accuracy: 0.8438\n",
            "Epoch 6/20\n",
            "8/8 [==============================] - 7s 906ms/step - loss: 0.5174 - accuracy: 0.8554 - val_loss: 1.0243 - val_accuracy: 0.7578\n",
            "Epoch 7/20\n",
            "8/8 [==============================] - 7s 915ms/step - loss: 0.2604 - accuracy: 0.8977 - val_loss: 1.4484 - val_accuracy: 0.8008\n",
            "Epoch 8/20\n",
            "8/8 [==============================] - 7s 923ms/step - loss: 0.1989 - accuracy: 0.9288 - val_loss: 1.1689 - val_accuracy: 0.8359\n",
            "Epoch 9/20\n",
            "8/8 [==============================] - 7s 894ms/step - loss: 0.1866 - accuracy: 0.9410 - val_loss: 1.8278 - val_accuracy: 0.8164\n",
            "Epoch 10/20\n",
            "8/8 [==============================] - 7s 1s/step - loss: 0.2641 - accuracy: 0.8832 - val_loss: 1.3130 - val_accuracy: 0.8477\n",
            "Epoch 11/20\n",
            "8/8 [==============================] - 7s 907ms/step - loss: 0.3127 - accuracy: 0.8854 - val_loss: 1.3332 - val_accuracy: 0.8320\n",
            "Epoch 12/20\n",
            "8/8 [==============================] - 8s 956ms/step - loss: 0.1363 - accuracy: 0.9492 - val_loss: 1.8753 - val_accuracy: 0.8516\n",
            "Epoch 13/20\n",
            "8/8 [==============================] - 7s 897ms/step - loss: 0.1037 - accuracy: 0.9588 - val_loss: 1.0959 - val_accuracy: 0.8594\n",
            "Epoch 14/20\n",
            "8/8 [==============================] - 7s 898ms/step - loss: 0.1145 - accuracy: 0.9744 - val_loss: 2.0382 - val_accuracy: 0.7422\n",
            "Epoch 15/20\n",
            "8/8 [==============================] - 7s 912ms/step - loss: 0.1945 - accuracy: 0.9344 - val_loss: 1.9294 - val_accuracy: 0.8438\n",
            "Epoch 16/20\n",
            "8/8 [==============================] - 7s 897ms/step - loss: 0.2727 - accuracy: 0.9600 - val_loss: 1.4591 - val_accuracy: 0.8633\n",
            "Epoch 17/20\n",
            "8/8 [==============================] - 7s 1s/step - loss: 0.0678 - accuracy: 0.9822 - val_loss: 2.1617 - val_accuracy: 0.8438\n",
            "Epoch 18/20\n",
            "8/8 [==============================] - 7s 897ms/step - loss: 1.1353 - accuracy: 0.9066 - val_loss: 1.8792 - val_accuracy: 0.8320\n",
            "Epoch 19/20\n",
            "8/8 [==============================] - 8s 955ms/step - loss: 0.0477 - accuracy: 0.9844 - val_loss: 2.2156 - val_accuracy: 0.8438\n",
            "Epoch 20/20\n",
            "8/8 [==============================] - 11s 1s/step - loss: 0.0387 - accuracy: 0.9912 - val_loss: 2.2282 - val_accuracy: 0.8672\n"
          ]
        },
        {
          "output_type": "execute_result",
          "data": {
            "text/plain": [
              "<keras.callbacks.History at 0x7f239c2bdc50>"
            ]
          },
          "metadata": {},
          "execution_count": 29
        }
      ]
    },
    {
      "cell_type": "code",
      "source": [
        "import pandas as pd\n",
        "pd.DataFrame(model.history.history).plot()"
      ],
      "metadata": {
        "colab": {
          "base_uri": "https://localhost:8080/",
          "height": 282
        },
        "id": "JVGmTBVTqXuT",
        "outputId": "7fac8db5-dca6-4e1b-ba6c-be5f0db746ef"
      },
      "execution_count": 31,
      "outputs": [
        {
          "output_type": "execute_result",
          "data": {
            "text/plain": [
              "<matplotlib.axes._subplots.AxesSubplot at 0x7f238a6c4e90>"
            ]
          },
          "metadata": {},
          "execution_count": 31
        },
        {
          "output_type": "display_data",
          "data": {
            "text/plain": [
              "<Figure size 432x288 with 1 Axes>"
            ],
            "image/png": "[encoded data removed]"
          },
          "metadata": {
            "needs_background": "light"
          }
        }
      ]
    },
    {
      "cell_type": "code",
      "source": [
        ""
      ],
      "metadata": {
        "id": "j5cF2Dp6u_J6"
      },
      "execution_count": null,
      "outputs": []
    }
  ]
}