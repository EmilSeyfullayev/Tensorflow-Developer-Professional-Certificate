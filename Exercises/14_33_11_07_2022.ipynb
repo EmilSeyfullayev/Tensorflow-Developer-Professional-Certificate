{
  "nbformat": 4,
  "nbformat_minor": 0,
  "metadata": {
    "colab": {
      "name": "14_33_11.07.2022.ipynb",
      "provenance": []
    },
    "kernelspec": {
      "name": "python3",
      "display_name": "Python 3"
    },
    "language_info": {
      "name": "python"
    }
  },
  "cells": [
    {
      "cell_type": "code",
      "execution_count": 1,
      "metadata": {
        "id": "BJxEbLjSQL_L"
      },
      "outputs": [],
      "source": [
        "import tensorflow as tf\n",
        "import matplotlib.pyplot as plt\n",
        "from tensorflow.keras.layers import Dense, Dropout, Flatten, Conv2D, MaxPool2D\n",
        "from tensorflow.keras.models import Sequential"
      ]
    },
    {
      "cell_type": "code",
      "source": [
        "import os"
      ],
      "metadata": {
        "id": "8cb6nha-RHQD"
      },
      "execution_count": 2,
      "outputs": []
    },
    {
      "cell_type": "code",
      "source": [
        "dir(tf.keras.datasets)"
      ],
      "metadata": {
        "colab": {
          "base_uri": "https://localhost:8080/"
        },
        "id": "zCr3ji4aRJ3x",
        "outputId": "e99ebfef-ae4f-4109-f5e9-f5e110d87585"
      },
      "execution_count": 3,
      "outputs": [
        {
          "output_type": "execute_result",
          "data": {
            "text/plain": [
              "['__builtins__',\n",
              " '__cached__',\n",
              " '__doc__',\n",
              " '__file__',\n",
              " '__loader__',\n",
              " '__name__',\n",
              " '__package__',\n",
              " '__path__',\n",
              " '__spec__',\n",
              " '_sys',\n",
              " 'boston_housing',\n",
              " 'cifar10',\n",
              " 'cifar100',\n",
              " 'fashion_mnist',\n",
              " 'imdb',\n",
              " 'mnist',\n",
              " 'reuters']"
            ]
          },
          "metadata": {},
          "execution_count": 3
        }
      ]
    },
    {
      "cell_type": "code",
      "source": [
        "(training_images, training_labels), (test_images, test_labels) = tf.keras.datasets.fashion_mnist.load_data()"
      ],
      "metadata": {
        "id": "M6kJ2yL-RPT6"
      },
      "execution_count": 4,
      "outputs": []
    },
    {
      "cell_type": "code",
      "source": [
        "print(training_images.shape)\n",
        "print(test_images.shape)"
      ],
      "metadata": {
        "colab": {
          "base_uri": "https://localhost:8080/"
        },
        "id": "Rnucrd_YSb5p",
        "outputId": "46ee488e-6efd-4d7d-b6b0-af162aac897d"
      },
      "execution_count": 5,
      "outputs": [
        {
          "output_type": "stream",
          "name": "stdout",
          "text": [
            "(60000, 28, 28)\n",
            "(10000, 28, 28)\n"
          ]
        }
      ]
    },
    {
      "cell_type": "code",
      "source": [
        "print(training_labels.shape)\n",
        "print(test_labels.shape)"
      ],
      "metadata": {
        "colab": {
          "base_uri": "https://localhost:8080/"
        },
        "id": "-3JhgjxzSkCh",
        "outputId": "ee9e75fb-6089-4570-c44f-cf02b63df4f2"
      },
      "execution_count": 6,
      "outputs": [
        {
          "output_type": "stream",
          "name": "stdout",
          "text": [
            "(60000,)\n",
            "(10000,)\n"
          ]
        }
      ]
    },
    {
      "cell_type": "code",
      "source": [
        "import matplotlib.pyplot as plt"
      ],
      "metadata": {
        "id": "oclcfd-4Sz_n"
      },
      "execution_count": 7,
      "outputs": []
    },
    {
      "cell_type": "code",
      "source": [
        "# L\tDescription\n",
        "# 0\tT-shirt/top\n",
        "# 1\tTrouser\n",
        "# 2\tPullover\n",
        "# 3\tDress\n",
        "# 4\tCoat\n",
        "# 5\tSandal\n",
        "# 6\tShirt\n",
        "# 7\tSneaker\n",
        "# 8\tBag\n",
        "# 9\tAnkle boot"
      ],
      "metadata": {
        "id": "7Ty0cIsFUIkO"
      },
      "execution_count": 8,
      "outputs": []
    },
    {
      "cell_type": "code",
      "source": [
        "print(training_labels[203])\n",
        "plt.imshow(training_images[203], cmap='gray')\n",
        "plt.show()"
      ],
      "metadata": {
        "colab": {
          "base_uri": "https://localhost:8080/",
          "height": 283
        },
        "id": "BNeI068LS9pG",
        "outputId": "44bbd158-9d11-4630-e33b-290d0bd366ef"
      },
      "execution_count": 9,
      "outputs": [
        {
          "output_type": "stream",
          "name": "stdout",
          "text": [
            "6\n"
          ]
        },
        {
          "output_type": "display_data",
          "data": {
            "text/plain": [
              "<Figure size 432x288 with 1 Axes>"
            ],
            "image/png": "[encoded data removed]"
          },
          "metadata": {
            "needs_background": "light"
          }
        }
      ]
    },
    {
      "cell_type": "code",
      "source": [
        "training_images = training_images/255.0\n",
        "test_images = test_images/255.0"
      ],
      "metadata": {
        "id": "uD3MuJ3dTERl"
      },
      "execution_count": 10,
      "outputs": []
    },
    {
      "cell_type": "code",
      "source": [
        "training_images.shape"
      ],
      "metadata": {
        "colab": {
          "base_uri": "https://localhost:8080/"
        },
        "id": "cEXmU12GiNLD",
        "outputId": "ed3b751b-ae50-4e15-cb86-92355e793086"
      },
      "execution_count": 20,
      "outputs": [
        {
          "output_type": "execute_result",
          "data": {
            "text/plain": [
              "(60000, 28, 28)"
            ]
          },
          "metadata": {},
          "execution_count": 20
        }
      ]
    },
    {
      "cell_type": "code",
      "source": [
        "model = Sequential()\n",
        "model.add(Flatten(input_shape=(28, 28))) # [28, 28] it worked with these brackests as well\n",
        "model.add(Dense(512, activation='relu'))\n",
        "model.add(Dense(10, activation='softmax'))"
      ],
      "metadata": {
        "id": "5Rkdq1pYUVX2"
      },
      "execution_count": 29,
      "outputs": []
    },
    {
      "cell_type": "code",
      "source": [
        "model.compile(\n",
        "    optimizer='adam',\n",
        "    loss='sparse_categorical_crossentropy',\n",
        "    metrics=['accuracy']\n",
        "              )"
      ],
      "metadata": {
        "id": "qrNyXQKOUszB"
      },
      "execution_count": 30,
      "outputs": []
    },
    {
      "cell_type": "code",
      "source": [
        "model"
      ],
      "metadata": {
        "colab": {
          "base_uri": "https://localhost:8080/"
        },
        "id": "vOHRCcIkWxMj",
        "outputId": "09a344b4-8436-4258-8dd9-71e90b5f0a95"
      },
      "execution_count": 31,
      "outputs": [
        {
          "output_type": "execute_result",
          "data": {
            "text/plain": [
              "<keras.engine.sequential.Sequential at 0x7f71ff8cab50>"
            ]
          },
          "metadata": {},
          "execution_count": 31
        }
      ]
    },
    {
      "cell_type": "code",
      "source": [
        "history = model.fit(training_images, training_labels, epochs=20,\n",
        "                    validation_data = (training_images, training_labels))"
      ],
      "metadata": {
        "colab": {
          "base_uri": "https://localhost:8080/"
        },
        "id": "4AH0tIsFVW7a",
        "outputId": "1e07b7b8-e78a-487b-a1f3-d788a31dad68"
      },
      "execution_count": 32,
      "outputs": [
        {
          "output_type": "stream",
          "name": "stdout",
          "text": [
            "Epoch 1/20\n",
            "1875/1875 [==============================] - 14s 7ms/step - loss: 0.4748 - accuracy: 0.8289 - val_loss: 0.3609 - val_accuracy: 0.8702\n",
            "Epoch 2/20\n",
            "1875/1875 [==============================] - 17s 9ms/step - loss: 0.3593 - accuracy: 0.8689 - val_loss: 0.3247 - val_accuracy: 0.8818\n",
            "Epoch 3/20\n",
            "1875/1875 [==============================] - 15s 8ms/step - loss: 0.3216 - accuracy: 0.8818 - val_loss: 0.3107 - val_accuracy: 0.8839\n",
            "Epoch 4/20\n",
            "1875/1875 [==============================] - 13s 7ms/step - loss: 0.2980 - accuracy: 0.8899 - val_loss: 0.3057 - val_accuracy: 0.8885\n",
            "Epoch 5/20\n",
            "1875/1875 [==============================] - 14s 7ms/step - loss: 0.2801 - accuracy: 0.8961 - val_loss: 0.2677 - val_accuracy: 0.8973\n",
            "Epoch 6/20\n",
            "1875/1875 [==============================] - 14s 7ms/step - loss: 0.2670 - accuracy: 0.9007 - val_loss: 0.2303 - val_accuracy: 0.9155\n",
            "Epoch 7/20\n",
            "1875/1875 [==============================] - 12s 7ms/step - loss: 0.2527 - accuracy: 0.9052 - val_loss: 0.2530 - val_accuracy: 0.9094\n",
            "Epoch 8/20\n",
            "1875/1875 [==============================] - 12s 7ms/step - loss: 0.2420 - accuracy: 0.9096 - val_loss: 0.2221 - val_accuracy: 0.9153\n",
            "Epoch 9/20\n",
            "1875/1875 [==============================] - 14s 7ms/step - loss: 0.2319 - accuracy: 0.9129 - val_loss: 0.2071 - val_accuracy: 0.9218\n",
            "Epoch 10/20\n",
            "1875/1875 [==============================] - 14s 7ms/step - loss: 0.2216 - accuracy: 0.9156 - val_loss: 0.2196 - val_accuracy: 0.9176\n",
            "Epoch 11/20\n",
            "1875/1875 [==============================] - 12s 7ms/step - loss: 0.2120 - accuracy: 0.9193 - val_loss: 0.1957 - val_accuracy: 0.9264\n",
            "Epoch 12/20\n",
            "1875/1875 [==============================] - 13s 7ms/step - loss: 0.2058 - accuracy: 0.9225 - val_loss: 0.1912 - val_accuracy: 0.9287\n",
            "Epoch 13/20\n",
            "1875/1875 [==============================] - 12s 6ms/step - loss: 0.2005 - accuracy: 0.9245 - val_loss: 0.2071 - val_accuracy: 0.9220\n",
            "Epoch 14/20\n",
            "1875/1875 [==============================] - 14s 7ms/step - loss: 0.1939 - accuracy: 0.9262 - val_loss: 0.1775 - val_accuracy: 0.9333\n",
            "Epoch 15/20\n",
            "1875/1875 [==============================] - 13s 7ms/step - loss: 0.1855 - accuracy: 0.9297 - val_loss: 0.1667 - val_accuracy: 0.9382\n",
            "Epoch 16/20\n",
            "1875/1875 [==============================] - 12s 7ms/step - loss: 0.1808 - accuracy: 0.9315 - val_loss: 0.1599 - val_accuracy: 0.9396\n",
            "Epoch 17/20\n",
            "1875/1875 [==============================] - 14s 7ms/step - loss: 0.1720 - accuracy: 0.9349 - val_loss: 0.1618 - val_accuracy: 0.9379\n",
            "Epoch 18/20\n",
            "1875/1875 [==============================] - 14s 7ms/step - loss: 0.1705 - accuracy: 0.9354 - val_loss: 0.1746 - val_accuracy: 0.9340\n",
            "Epoch 19/20\n",
            "1875/1875 [==============================] - 12s 6ms/step - loss: 0.1640 - accuracy: 0.9387 - val_loss: 0.1503 - val_accuracy: 0.9446\n",
            "Epoch 20/20\n",
            "1875/1875 [==============================] - 12s 6ms/step - loss: 0.1583 - accuracy: 0.9407 - val_loss: 0.1438 - val_accuracy: 0.9450\n"
          ]
        }
      ]
    },
    {
      "cell_type": "code",
      "source": [
        "import pandas as pd"
      ],
      "metadata": {
        "id": "1m92-k1UkVV5"
      },
      "execution_count": 35,
      "outputs": []
    },
    {
      "cell_type": "code",
      "source": [
        "pd.DataFrame(history.history).plot()"
      ],
      "metadata": {
        "colab": {
          "base_uri": "https://localhost:8080/",
          "height": 283
        },
        "id": "p_-p4WBMVehz",
        "outputId": "67254b1d-2056-4b7a-9a39-7b81c5e63333"
      },
      "execution_count": 37,
      "outputs": [
        {
          "output_type": "execute_result",
          "data": {
            "text/plain": [
              "<matplotlib.axes._subplots.AxesSubplot at 0x7f71f973f550>"
            ]
          },
          "metadata": {},
          "execution_count": 37
        },
        {
          "output_type": "display_data",
          "data": {
            "text/plain": [
              "<Figure size 432x288 with 1 Axes>"
            ],
            "image/png": "[encoded data removed]"
          },
          "metadata": {
            "needs_background": "light"
          }
        }
      ]
    },
    {
      "cell_type": "code",
      "source": [
        "history2 = model.fit(training_images, training_labels, epochs=20,\n",
        "                    validation_data = (training_images, training_labels))"
      ],
      "metadata": {
        "colab": {
          "base_uri": "https://localhost:8080/"
        },
        "id": "-YjHPjsVkOwi",
        "outputId": "49857d35-8bd9-407a-e50a-f366cd5e5412"
      },
      "execution_count": 38,
      "outputs": [
        {
          "output_type": "stream",
          "name": "stdout",
          "text": [
            "Epoch 1/20\n",
            "1875/1875 [==============================] - 15s 8ms/step - loss: 0.1538 - accuracy: 0.9423 - val_loss: 0.1468 - val_accuracy: 0.9443\n",
            "Epoch 2/20\n",
            "1875/1875 [==============================] - 14s 7ms/step - loss: 0.1507 - accuracy: 0.9434 - val_loss: 0.1401 - val_accuracy: 0.9458\n",
            "Epoch 3/20\n",
            "1875/1875 [==============================] - 12s 7ms/step - loss: 0.1454 - accuracy: 0.9449 - val_loss: 0.1392 - val_accuracy: 0.9475\n",
            "Epoch 4/20\n",
            "1875/1875 [==============================] - 14s 7ms/step - loss: 0.1398 - accuracy: 0.9460 - val_loss: 0.1256 - val_accuracy: 0.9518\n",
            "Epoch 5/20\n",
            "1875/1875 [==============================] - 12s 7ms/step - loss: 0.1386 - accuracy: 0.9475 - val_loss: 0.1278 - val_accuracy: 0.9517\n",
            "Epoch 6/20\n",
            "1875/1875 [==============================] - 12s 7ms/step - loss: 0.1347 - accuracy: 0.9491 - val_loss: 0.1159 - val_accuracy: 0.9563\n",
            "Epoch 7/20\n",
            "1875/1875 [==============================] - 12s 7ms/step - loss: 0.1323 - accuracy: 0.9490 - val_loss: 0.1325 - val_accuracy: 0.9499\n",
            "Epoch 8/20\n",
            "1875/1875 [==============================] - 13s 7ms/step - loss: 0.1256 - accuracy: 0.9524 - val_loss: 0.1172 - val_accuracy: 0.9564\n",
            "Epoch 9/20\n",
            "1875/1875 [==============================] - 14s 7ms/step - loss: 0.1236 - accuracy: 0.9534 - val_loss: 0.1299 - val_accuracy: 0.9517\n",
            "Epoch 10/20\n",
            "1875/1875 [==============================] - 14s 7ms/step - loss: 0.1224 - accuracy: 0.9537 - val_loss: 0.1087 - val_accuracy: 0.9582\n",
            "Epoch 11/20\n",
            "1875/1875 [==============================] - 13s 7ms/step - loss: 0.1149 - accuracy: 0.9573 - val_loss: 0.1020 - val_accuracy: 0.9610\n",
            "Epoch 12/20\n",
            "1875/1875 [==============================] - 12s 6ms/step - loss: 0.1160 - accuracy: 0.9559 - val_loss: 0.0991 - val_accuracy: 0.9637\n",
            "Epoch 13/20\n",
            "1875/1875 [==============================] - 12s 6ms/step - loss: 0.1121 - accuracy: 0.9577 - val_loss: 0.1085 - val_accuracy: 0.9592\n",
            "Epoch 14/20\n",
            "1875/1875 [==============================] - 13s 7ms/step - loss: 0.1104 - accuracy: 0.9579 - val_loss: 0.1172 - val_accuracy: 0.9554\n",
            "Epoch 15/20\n",
            "1875/1875 [==============================] - 13s 7ms/step - loss: 0.1071 - accuracy: 0.9592 - val_loss: 0.0921 - val_accuracy: 0.9643\n",
            "Epoch 16/20\n",
            "1875/1875 [==============================] - 13s 7ms/step - loss: 0.1083 - accuracy: 0.9585 - val_loss: 0.0945 - val_accuracy: 0.9638\n",
            "Epoch 17/20\n",
            "1875/1875 [==============================] - 13s 7ms/step - loss: 0.1045 - accuracy: 0.9603 - val_loss: 0.0909 - val_accuracy: 0.9661\n",
            "Epoch 18/20\n",
            "1875/1875 [==============================] - 13s 7ms/step - loss: 0.1035 - accuracy: 0.9611 - val_loss: 0.1047 - val_accuracy: 0.9597\n",
            "Epoch 19/20\n",
            "1875/1875 [==============================] - 13s 7ms/step - loss: 0.0989 - accuracy: 0.9626 - val_loss: 0.0865 - val_accuracy: 0.9679\n",
            "Epoch 20/20\n",
            "1875/1875 [==============================] - 13s 7ms/step - loss: 0.0980 - accuracy: 0.9629 - val_loss: 0.0931 - val_accuracy: 0.9650\n"
          ]
        }
      ]
    },
    {
      "cell_type": "code",
      "source": [
        "pd.DataFrame(history2.history).plot()"
      ],
      "metadata": {
        "colab": {
          "base_uri": "https://localhost:8080/",
          "height": 285
        },
        "id": "479Q8vmpkl7y",
        "outputId": "dfb829ab-4587-421c-9855-ee5751cf7f2e"
      },
      "execution_count": 39,
      "outputs": [
        {
          "output_type": "execute_result",
          "data": {
            "text/plain": [
              "<matplotlib.axes._subplots.AxesSubplot at 0x7f71fd24a690>"
            ]
          },
          "metadata": {},
          "execution_count": 39
        },
        {
          "output_type": "display_data",
          "data": {
            "text/plain": [
              "<Figure size 432x288 with 1 Axes>"
            ],
            "image/png": "[encoded data removed]"
          },
          "metadata": {
            "needs_background": "light"
          }
        }
      ]
    },
    {
      "cell_type": "code",
      "source": [
        "history3 = model.fit(training_images, training_labels, epochs=20,\n",
        "                    validation_data = (training_images, training_labels))"
      ],
      "metadata": {
        "colab": {
          "base_uri": "https://localhost:8080/"
        },
        "id": "vrZzQWCmko6-",
        "outputId": "2dd3a945-696f-4c3d-a849-0b4cababed77"
      },
      "execution_count": 40,
      "outputs": [
        {
          "output_type": "stream",
          "name": "stdout",
          "text": [
            "Epoch 1/20\n",
            "1875/1875 [==============================] - 17s 9ms/step - loss: 0.0950 - accuracy: 0.9644 - val_loss: 0.0814 - val_accuracy: 0.9692\n",
            "Epoch 2/20\n",
            "1875/1875 [==============================] - 13s 7ms/step - loss: 0.0941 - accuracy: 0.9632 - val_loss: 0.0710 - val_accuracy: 0.9737\n",
            "Epoch 3/20\n",
            "1875/1875 [==============================] - 12s 6ms/step - loss: 0.0902 - accuracy: 0.9654 - val_loss: 0.0793 - val_accuracy: 0.9700\n",
            "Epoch 4/20\n",
            "1875/1875 [==============================] - 12s 6ms/step - loss: 0.0902 - accuracy: 0.9659 - val_loss: 0.0954 - val_accuracy: 0.9668\n",
            "Epoch 5/20\n",
            "1875/1875 [==============================] - 12s 6ms/step - loss: 0.0854 - accuracy: 0.9685 - val_loss: 0.0742 - val_accuracy: 0.9720\n",
            "Epoch 6/20\n",
            "1875/1875 [==============================] - 13s 7ms/step - loss: 0.0868 - accuracy: 0.9680 - val_loss: 0.0812 - val_accuracy: 0.9678\n",
            "Epoch 7/20\n",
            "1875/1875 [==============================] - 13s 7ms/step - loss: 0.0861 - accuracy: 0.9673 - val_loss: 0.0820 - val_accuracy: 0.9693\n",
            "Epoch 8/20\n",
            "1875/1875 [==============================] - 12s 6ms/step - loss: 0.0807 - accuracy: 0.9697 - val_loss: 0.0735 - val_accuracy: 0.9710\n",
            "Epoch 9/20\n",
            "1875/1875 [==============================] - 12s 6ms/step - loss: 0.0851 - accuracy: 0.9678 - val_loss: 0.0746 - val_accuracy: 0.9712\n",
            "Epoch 10/20\n",
            "1875/1875 [==============================] - 12s 6ms/step - loss: 0.0797 - accuracy: 0.9701 - val_loss: 0.0744 - val_accuracy: 0.9721\n",
            "Epoch 11/20\n",
            "1875/1875 [==============================] - 12s 6ms/step - loss: 0.0798 - accuracy: 0.9697 - val_loss: 0.0701 - val_accuracy: 0.9736\n",
            "Epoch 12/20\n",
            "1875/1875 [==============================] - 13s 7ms/step - loss: 0.0777 - accuracy: 0.9709 - val_loss: 0.0652 - val_accuracy: 0.9750\n",
            "Epoch 13/20\n",
            "1875/1875 [==============================] - 13s 7ms/step - loss: 0.0773 - accuracy: 0.9715 - val_loss: 0.0758 - val_accuracy: 0.9713\n",
            "Epoch 14/20\n",
            "1875/1875 [==============================] - 12s 6ms/step - loss: 0.0746 - accuracy: 0.9721 - val_loss: 0.0574 - val_accuracy: 0.9788\n",
            "Epoch 15/20\n",
            "1875/1875 [==============================] - 13s 7ms/step - loss: 0.0729 - accuracy: 0.9728 - val_loss: 0.0631 - val_accuracy: 0.9766\n",
            "Epoch 16/20\n",
            "1875/1875 [==============================] - 13s 7ms/step - loss: 0.0736 - accuracy: 0.9723 - val_loss: 0.0749 - val_accuracy: 0.9721\n",
            "Epoch 17/20\n",
            "1875/1875 [==============================] - 13s 7ms/step - loss: 0.0689 - accuracy: 0.9742 - val_loss: 0.0669 - val_accuracy: 0.9743\n",
            "Epoch 18/20\n",
            "1875/1875 [==============================] - 12s 7ms/step - loss: 0.0724 - accuracy: 0.9729 - val_loss: 0.0692 - val_accuracy: 0.9749\n",
            "Epoch 19/20\n",
            "1875/1875 [==============================] - 12s 6ms/step - loss: 0.0678 - accuracy: 0.9745 - val_loss: 0.0609 - val_accuracy: 0.9772\n",
            "Epoch 20/20\n",
            "1875/1875 [==============================] - 13s 7ms/step - loss: 0.0682 - accuracy: 0.9749 - val_loss: 0.0537 - val_accuracy: 0.9814\n"
          ]
        }
      ]
    },
    {
      "cell_type": "code",
      "source": [
        "pd.DataFrame(history3.history).plot()"
      ],
      "metadata": {
        "colab": {
          "base_uri": "https://localhost:8080/",
          "height": 283
        },
        "id": "mnFG7XoCoCgC",
        "outputId": "a2d2a01e-f46b-44fb-9a94-732f71638a46"
      },
      "execution_count": 41,
      "outputs": [
        {
          "output_type": "execute_result",
          "data": {
            "text/plain": [
              "<matplotlib.axes._subplots.AxesSubplot at 0x7f71fd16af10>"
            ]
          },
          "metadata": {},
          "execution_count": 41
        },
        {
          "output_type": "display_data",
          "data": {
            "text/plain": [
              "<Figure size 432x288 with 1 Axes>"
            ],
            "image/png": "[encoded data removed]"
          },
          "metadata": {
            "needs_background": "light"
          }
        }
      ]
    },
    {
      "cell_type": "code",
      "source": [
        "history4 = model.fit(training_images, training_labels, epochs=40,\n",
        "                    validation_data = (training_images, training_labels))"
      ],
      "metadata": {
        "colab": {
          "base_uri": "https://localhost:8080/"
        },
        "id": "ypxq5h6toDmb",
        "outputId": "e4462efc-26cf-439d-dbc8-334eccb55846"
      },
      "execution_count": 42,
      "outputs": [
        {
          "output_type": "stream",
          "name": "stdout",
          "text": [
            "Epoch 1/40\n",
            "1875/1875 [==============================] - 12s 6ms/step - loss: 0.0679 - accuracy: 0.9752 - val_loss: 0.0523 - val_accuracy: 0.9804\n",
            "Epoch 2/40\n",
            "1875/1875 [==============================] - 13s 7ms/step - loss: 0.0637 - accuracy: 0.9770 - val_loss: 0.0725 - val_accuracy: 0.9722\n",
            "Epoch 3/40\n",
            "1875/1875 [==============================] - 13s 7ms/step - loss: 0.0641 - accuracy: 0.9761 - val_loss: 0.0697 - val_accuracy: 0.9749\n",
            "Epoch 4/40\n",
            "1875/1875 [==============================] - 13s 7ms/step - loss: 0.0619 - accuracy: 0.9768 - val_loss: 0.0570 - val_accuracy: 0.9783\n",
            "Epoch 5/40\n",
            "1875/1875 [==============================] - 13s 7ms/step - loss: 0.0611 - accuracy: 0.9769 - val_loss: 0.0424 - val_accuracy: 0.9844\n",
            "Epoch 6/40\n",
            "1875/1875 [==============================] - 12s 6ms/step - loss: 0.0591 - accuracy: 0.9783 - val_loss: 0.0676 - val_accuracy: 0.9757\n",
            "Epoch 7/40\n",
            "1875/1875 [==============================] - 13s 7ms/step - loss: 0.0655 - accuracy: 0.9763 - val_loss: 0.0752 - val_accuracy: 0.9726\n",
            "Epoch 8/40\n",
            "1875/1875 [==============================] - 13s 7ms/step - loss: 0.0617 - accuracy: 0.9768 - val_loss: 0.0489 - val_accuracy: 0.9819\n",
            "Epoch 9/40\n",
            "1875/1875 [==============================] - 13s 7ms/step - loss: 0.0584 - accuracy: 0.9785 - val_loss: 0.0646 - val_accuracy: 0.9757\n",
            "Epoch 10/40\n",
            "1875/1875 [==============================] - 13s 7ms/step - loss: 0.0601 - accuracy: 0.9787 - val_loss: 0.0601 - val_accuracy: 0.9767\n",
            "Epoch 11/40\n",
            "1875/1875 [==============================] - 12s 6ms/step - loss: 0.0551 - accuracy: 0.9803 - val_loss: 0.0614 - val_accuracy: 0.9779\n",
            "Epoch 12/40\n",
            "1875/1875 [==============================] - 12s 6ms/step - loss: 0.0581 - accuracy: 0.9783 - val_loss: 0.0624 - val_accuracy: 0.9770\n",
            "Epoch 13/40\n",
            "1875/1875 [==============================] - 12s 6ms/step - loss: 0.0543 - accuracy: 0.9800 - val_loss: 0.0408 - val_accuracy: 0.9850\n",
            "Epoch 14/40\n",
            "1875/1875 [==============================] - 12s 6ms/step - loss: 0.0559 - accuracy: 0.9793 - val_loss: 0.0367 - val_accuracy: 0.9866\n",
            "Epoch 15/40\n",
            "1875/1875 [==============================] - 13s 7ms/step - loss: 0.0530 - accuracy: 0.9800 - val_loss: 0.0424 - val_accuracy: 0.9841\n",
            "Epoch 16/40\n",
            "1875/1875 [==============================] - 12s 6ms/step - loss: 0.0526 - accuracy: 0.9809 - val_loss: 0.0498 - val_accuracy: 0.9813\n",
            "Epoch 17/40\n",
            "1875/1875 [==============================] - 13s 7ms/step - loss: 0.0530 - accuracy: 0.9804 - val_loss: 0.0576 - val_accuracy: 0.9794\n",
            "Epoch 18/40\n",
            "1875/1875 [==============================] - 13s 7ms/step - loss: 0.0505 - accuracy: 0.9819 - val_loss: 0.0345 - val_accuracy: 0.9873\n",
            "Epoch 19/40\n",
            "1875/1875 [==============================] - 13s 7ms/step - loss: 0.0532 - accuracy: 0.9805 - val_loss: 0.0669 - val_accuracy: 0.9758\n",
            "Epoch 20/40\n",
            "1875/1875 [==============================] - 12s 6ms/step - loss: 0.0497 - accuracy: 0.9816 - val_loss: 0.0493 - val_accuracy: 0.9829\n",
            "Epoch 21/40\n",
            "1875/1875 [==============================] - 13s 7ms/step - loss: 0.0491 - accuracy: 0.9811 - val_loss: 0.0385 - val_accuracy: 0.9861\n",
            "Epoch 22/40\n",
            "1875/1875 [==============================] - 13s 7ms/step - loss: 0.0492 - accuracy: 0.9825 - val_loss: 0.0431 - val_accuracy: 0.9833\n",
            "Epoch 23/40\n",
            "1875/1875 [==============================] - 13s 7ms/step - loss: 0.0505 - accuracy: 0.9817 - val_loss: 0.0354 - val_accuracy: 0.9868\n",
            "Epoch 24/40\n",
            "1875/1875 [==============================] - 12s 6ms/step - loss: 0.0481 - accuracy: 0.9820 - val_loss: 0.0478 - val_accuracy: 0.9828\n",
            "Epoch 25/40\n",
            "1875/1875 [==============================] - 12s 6ms/step - loss: 0.0471 - accuracy: 0.9822 - val_loss: 0.0412 - val_accuracy: 0.9843\n",
            "Epoch 26/40\n",
            "1875/1875 [==============================] - 13s 7ms/step - loss: 0.0478 - accuracy: 0.9828 - val_loss: 0.0542 - val_accuracy: 0.9797\n",
            "Epoch 27/40\n",
            "1875/1875 [==============================] - 13s 7ms/step - loss: 0.0446 - accuracy: 0.9834 - val_loss: 0.0422 - val_accuracy: 0.9854\n",
            "Epoch 28/40\n",
            "1875/1875 [==============================] - 14s 8ms/step - loss: 0.0481 - accuracy: 0.9828 - val_loss: 0.0532 - val_accuracy: 0.9808\n",
            "Epoch 29/40\n",
            "1875/1875 [==============================] - 15s 8ms/step - loss: 0.0463 - accuracy: 0.9827 - val_loss: 0.0381 - val_accuracy: 0.9857\n",
            "Epoch 30/40\n",
            "1875/1875 [==============================] - 13s 7ms/step - loss: 0.0461 - accuracy: 0.9831 - val_loss: 0.0444 - val_accuracy: 0.9841\n",
            "Epoch 31/40\n",
            "1875/1875 [==============================] - 12s 6ms/step - loss: 0.0461 - accuracy: 0.9836 - val_loss: 0.0470 - val_accuracy: 0.9831\n",
            "Epoch 32/40\n",
            "1875/1875 [==============================] - 12s 6ms/step - loss: 0.0441 - accuracy: 0.9844 - val_loss: 0.0483 - val_accuracy: 0.9831\n",
            "Epoch 33/40\n",
            "1875/1875 [==============================] - 13s 7ms/step - loss: 0.0453 - accuracy: 0.9834 - val_loss: 0.0525 - val_accuracy: 0.9804\n",
            "Epoch 34/40\n",
            "1875/1875 [==============================] - 13s 7ms/step - loss: 0.0427 - accuracy: 0.9844 - val_loss: 0.0321 - val_accuracy: 0.9882\n",
            "Epoch 35/40\n",
            "1875/1875 [==============================] - 12s 6ms/step - loss: 0.0433 - accuracy: 0.9842 - val_loss: 0.0412 - val_accuracy: 0.9845\n",
            "Epoch 36/40\n",
            "1875/1875 [==============================] - 12s 6ms/step - loss: 0.0404 - accuracy: 0.9851 - val_loss: 0.0415 - val_accuracy: 0.9848\n",
            "Epoch 37/40\n",
            "1875/1875 [==============================] - 12s 6ms/step - loss: 0.0433 - accuracy: 0.9848 - val_loss: 0.0513 - val_accuracy: 0.9824\n",
            "Epoch 38/40\n",
            "1875/1875 [==============================] - 13s 7ms/step - loss: 0.0425 - accuracy: 0.9848 - val_loss: 0.0373 - val_accuracy: 0.9864\n",
            "Epoch 39/40\n",
            "1875/1875 [==============================] - 15s 8ms/step - loss: 0.0397 - accuracy: 0.9858 - val_loss: 0.0405 - val_accuracy: 0.9844\n",
            "Epoch 40/40\n",
            "1875/1875 [==============================] - 15s 8ms/step - loss: 0.0434 - accuracy: 0.9836 - val_loss: 0.0291 - val_accuracy: 0.9886\n"
          ]
        }
      ]
    },
    {
      "cell_type": "code",
      "source": [
        "pd.DataFrame(history3.history).plot()"
      ],
      "metadata": {
        "colab": {
          "base_uri": "https://localhost:8080/",
          "height": 283
        },
        "id": "oJ9pu2KFo2J2",
        "outputId": "1eeec193-e2e9-4458-c018-e793498d0a39"
      },
      "execution_count": 43,
      "outputs": [
        {
          "output_type": "execute_result",
          "data": {
            "text/plain": [
              "<matplotlib.axes._subplots.AxesSubplot at 0x7f71fd0df810>"
            ]
          },
          "metadata": {},
          "execution_count": 43
        },
        {
          "output_type": "display_data",
          "data": {
            "text/plain": [
              "<Figure size 432x288 with 1 Axes>"
            ],
            "image/png": "[encoded data removed]"
          },
          "metadata": {
            "needs_background": "light"
          }
        }
      ]
    },
    {
      "cell_type": "code",
      "source": [
        "history5 = model.fit(training_images, training_labels, epochs=5,\n",
        "                    validation_data = (test_images, test_labels)) # i made mistake :) lol"
      ],
      "metadata": {
        "colab": {
          "base_uri": "https://localhost:8080/"
        },
        "id": "BW3Ases5sTeN",
        "outputId": "8d26e67a-aa8f-4c29-8ed4-7da544fcc0f7"
      },
      "execution_count": 48,
      "outputs": [
        {
          "output_type": "stream",
          "name": "stdout",
          "text": [
            "Epoch 1/5\n",
            "1875/1875 [==============================] - 12s 7ms/step - loss: 0.0411 - accuracy: 0.9850 - val_loss: 0.8603 - val_accuracy: 0.8916\n",
            "Epoch 2/5\n",
            "1875/1875 [==============================] - 14s 8ms/step - loss: 0.0351 - accuracy: 0.9878 - val_loss: 0.9254 - val_accuracy: 0.8895\n",
            "Epoch 3/5\n",
            "1875/1875 [==============================] - 13s 7ms/step - loss: 0.0429 - accuracy: 0.9848 - val_loss: 0.9117 - val_accuracy: 0.8938\n",
            "Epoch 4/5\n",
            "1875/1875 [==============================] - 12s 6ms/step - loss: 0.0373 - accuracy: 0.9862 - val_loss: 0.9565 - val_accuracy: 0.8933\n",
            "Epoch 5/5\n",
            "1875/1875 [==============================] - 12s 7ms/step - loss: 0.0384 - accuracy: 0.9857 - val_loss: 0.8757 - val_accuracy: 0.8967\n"
          ]
        }
      ]
    },
    {
      "cell_type": "markdown",
      "source": [
        "### Model with convolutions and callbacks"
      ],
      "metadata": {
        "id": "CSLwW3APo4E3"
      }
    },
    {
      "cell_type": "code",
      "source": [
        "ch1 = model"
      ],
      "metadata": {
        "id": "whDDl_OVrIIm"
      },
      "execution_count": 46,
      "outputs": []
    },
    {
      "cell_type": "code",
      "source": [
        "tf.expand_dims(training_images, axis=-1)\n",
        "tf.expand_dims(test_images, axis=-1)"
      ],
      "metadata": {
        "colab": {
          "base_uri": "https://localhost:8080/"
        },
        "id": "ANnFPtXCrr0e",
        "outputId": "723c73f1-310c-4f64-8866-b72eb24a7bf5"
      },
      "execution_count": 47,
      "outputs": [
        {
          "output_type": "execute_result",
          "data": {
            "text/plain": [
              "TensorShape([60000, 28, 28, 1])"
            ]
          },
          "metadata": {},
          "execution_count": 47
        }
      ]
    },
    {
      "cell_type": "code",
      "source": [
        "model = Sequential()\n",
        "model.add(Conv2D(16, (3,3), activation='relu', input_shape=(28, 28, 1)))\n",
        "model.add(MaxPool2D(2,2))\n",
        "model.add(Conv2D(32, (3,3), activation='relu'))\n",
        "model.add(MaxPool2D(2,2))\n",
        "model.add(Conv2D(64, (3,3), activation='relu'))\n",
        "model.add(MaxPool2D(2,2))\n",
        "model.add(Flatten())\n",
        "model.add(Dense(512, activation='relu'))\n",
        "model.add(Dropout(0.75))\n",
        "model.add(Dense(256, activation='relu'))\n",
        "model.add(Dropout(.75))\n",
        "model.add(Dense(10, activation='softmax'))"
      ],
      "metadata": {
        "id": "awTvTJWmrCIm"
      },
      "execution_count": 50,
      "outputs": []
    },
    {
      "cell_type": "code",
      "source": [
        "model.compile(optimizer='adam', loss='sparse_categorical_crossentropy',\n",
        "              metrics=['accuracy'])"
      ],
      "metadata": {
        "id": "iAEpLHPrtC4o"
      },
      "execution_count": 51,
      "outputs": []
    },
    {
      "cell_type": "code",
      "source": [
        "class MyCallback(tf.keras.callbacks.Callback):\n",
        "  def on_epoch_end(self, epoch, logs={}):\n",
        "    if logs.get(\"accuracy\") > 0.9:\n",
        "      print(f'Model reached its set accuracy of {logs.get(\"accuracy\")}')\n",
        "      self.model.stop_training = True\n",
        "\n",
        "myCallBack = MyCallback()"
      ],
      "metadata": {
        "id": "BoFNSB05tp0w"
      },
      "execution_count": 53,
      "outputs": []
    },
    {
      "cell_type": "code",
      "source": [
        "model.fit(\n",
        "    training_images, training_labels,\n",
        "    batch_size= 64,\n",
        "    validation_data = (test_images, test_labels),\n",
        "    callbacks = [myCallBack],\n",
        "    epochs=100\n",
        ")"
      ],
      "metadata": {
        "colab": {
          "base_uri": "https://localhost:8080/"
        },
        "id": "CY3NYAI_vo-u",
        "outputId": "14f7151b-0744-442f-a305-392fd10795ec"
      },
      "execution_count": 54,
      "outputs": [
        {
          "output_type": "stream",
          "name": "stdout",
          "text": [
            "Epoch 1/100\n",
            "938/938 [==============================] - 40s 42ms/step - loss: 0.8857 - accuracy: 0.6697 - val_loss: 0.5516 - val_accuracy: 0.7878\n",
            "Epoch 2/100\n",
            "938/938 [==============================] - 39s 42ms/step - loss: 0.5638 - accuracy: 0.7993 - val_loss: 0.4770 - val_accuracy: 0.8178\n",
            "Epoch 3/100\n",
            "938/938 [==============================] - 38s 41ms/step - loss: 0.4913 - accuracy: 0.8264 - val_loss: 0.4162 - val_accuracy: 0.8465\n",
            "Epoch 4/100\n",
            "938/938 [==============================] - 38s 40ms/step - loss: 0.4378 - accuracy: 0.8450 - val_loss: 0.3914 - val_accuracy: 0.8579\n",
            "Epoch 5/100\n",
            "938/938 [==============================] - 38s 40ms/step - loss: 0.4038 - accuracy: 0.8560 - val_loss: 0.3706 - val_accuracy: 0.8659\n",
            "Epoch 6/100\n",
            "938/938 [==============================] - 38s 40ms/step - loss: 0.3803 - accuracy: 0.8672 - val_loss: 0.3865 - val_accuracy: 0.8522\n",
            "Epoch 7/100\n",
            "938/938 [==============================] - 38s 40ms/step - loss: 0.3608 - accuracy: 0.8725 - val_loss: 0.3518 - val_accuracy: 0.8704\n",
            "Epoch 8/100\n",
            "938/938 [==============================] - 37s 39ms/step - loss: 0.3452 - accuracy: 0.8789 - val_loss: 0.3391 - val_accuracy: 0.8725\n",
            "Epoch 9/100\n",
            "938/938 [==============================] - 37s 39ms/step - loss: 0.3352 - accuracy: 0.8817 - val_loss: 0.3468 - val_accuracy: 0.8703\n",
            "Epoch 10/100\n",
            "938/938 [==============================] - 37s 40ms/step - loss: 0.3230 - accuracy: 0.8856 - val_loss: 0.3338 - val_accuracy: 0.8800\n",
            "Epoch 11/100\n",
            "938/938 [==============================] - 38s 40ms/step - loss: 0.3172 - accuracy: 0.8891 - val_loss: 0.3387 - val_accuracy: 0.8782\n",
            "Epoch 12/100\n",
            "938/938 [==============================] - 38s 41ms/step - loss: 0.3037 - accuracy: 0.8930 - val_loss: 0.3465 - val_accuracy: 0.8720\n",
            "Epoch 13/100\n",
            "938/938 [==============================] - 38s 40ms/step - loss: 0.3005 - accuracy: 0.8945 - val_loss: 0.3404 - val_accuracy: 0.8754\n",
            "Epoch 14/100\n",
            "938/938 [==============================] - 38s 40ms/step - loss: 0.2936 - accuracy: 0.8954 - val_loss: 0.3387 - val_accuracy: 0.8826\n",
            "Epoch 15/100\n",
            "938/938 [==============================] - 37s 40ms/step - loss: 0.2845 - accuracy: 0.8984 - val_loss: 0.3436 - val_accuracy: 0.8796\n",
            "Epoch 16/100\n",
            "937/938 [============================>.] - ETA: 0s - loss: 0.2816 - accuracy: 0.9009Model reached its set accuracy of 0.900866687297821\n",
            "938/938 [==============================] - 38s 40ms/step - loss: 0.2816 - accuracy: 0.9009 - val_loss: 0.3311 - val_accuracy: 0.8838\n"
          ]
        },
        {
          "output_type": "execute_result",
          "data": {
            "text/plain": [
              "<keras.callbacks.History at 0x7f7209d86dd0>"
            ]
          },
          "metadata": {},
          "execution_count": 54
        }
      ]
    },
    {
      "cell_type": "code",
      "source": [
        "pd.DataFrame(model.history.history).plot()"
      ],
      "metadata": {
        "colab": {
          "base_uri": "https://localhost:8080/",
          "height": 283
        },
        "id": "nW3dBhm0wN08",
        "outputId": "57fc9154-b269-4d5c-8919-60afc612a0c4"
      },
      "execution_count": 59,
      "outputs": [
        {
          "output_type": "execute_result",
          "data": {
            "text/plain": [
              "<matplotlib.axes._subplots.AxesSubplot at 0x7f720d652390>"
            ]
          },
          "metadata": {},
          "execution_count": 59
        },
        {
          "output_type": "display_data",
          "data": {
            "text/plain": [
              "<Figure size 432x288 with 1 Axes>"
            ],
            "image/png": "[encoded data removed]"
          },
          "metadata": {
            "needs_background": "light"
          }
        }
      ]
    },
    {
      "cell_type": "code",
      "source": [
        ""
      ],
      "metadata": {
        "id": "xx4f33XOz1lw"
      },
      "execution_count": null,
      "outputs": []
    }
  ]
}