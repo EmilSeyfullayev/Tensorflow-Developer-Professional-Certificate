{
  "cells": [
    {
      "cell_type": "code",
      "execution_count": null,
      "metadata": {
        "id": "FCliRwPs-uBm"
      },
      "outputs": [],
      "source": [
        "import csv\n",
        "import pickle\n",
        "import numpy as np\n",
        "import tensorflow as tf\n",
        "import matplotlib.pyplot as plt\n",
        "from dataclasses import dataclass"
      ]
    },
    {
      "cell_type": "code",
      "execution_count": null,
      "metadata": {
        "id": "mrq1SpPb-9vY"
      },
      "outputs": [],
      "source": [
        "import pandas as pd"
      ]
    },
    {
      "cell_type": "code",
      "execution_count": null,
      "metadata": {
        "id": "9GRI3BTZBzrQ"
      },
      "outputs": [],
      "source": [
        "data = pd.read_csv('EURUSD1440.csv')"
      ]
    },
    {
      "cell_type": "code",
      "execution_count": null,
      "metadata": {
        "colab": {
          "base_uri": "https://localhost:8080/",
          "height": 81
        },
        "id": "0GwKX5IPB4qA",
        "outputId": "c7cff23b-26fa-4378-a98e-877553a84440"
      },
      "outputs": [
        {
          "data": {
            "text/html": [
              "\n",
              "  <div id=\"df-bbd4de0a-99ed-46f2-bf44-fcc08e75aba6\">\n",
              "    <div class=\"colab-df-container\">\n",
              "      <div>\n",
              "<style scoped>\n",
              "    .dataframe tbody tr th:only-of-type {\n",
              "        vertical-align: middle;\n",
              "    }\n",
              "\n",
              "    .dataframe tbody tr th {\n",
              "        vertical-align: top;\n",
              "    }\n",
              "\n",
              "    .dataframe thead th {\n",
              "        text-align: right;\n",
              "    }\n",
              "</style>\n",
              "<table border=\"1\" class=\"dataframe\">\n",
              "  <thead>\n",
              "    <tr style=\"text-align: right;\">\n",
              "      <th></th>\n",
              "      <th>Date</th>\n",
              "      <th>Time</th>\n",
              "      <th>Open</th>\n",
              "      <th>High</th>\n",
              "      <th>Low</th>\n",
              "      <th>Close</th>\n",
              "      <th>Volume</th>\n",
              "    </tr>\n",
              "  </thead>\n",
              "  <tbody>\n",
              "    <tr>\n",
              "      <th>0</th>\n",
              "      <td>2012.12.10</td>\n",
              "      <td>0:00</td>\n",
              "      <td>1.29054</td>\n",
              "      <td>1.29454</td>\n",
              "      <td>1.28847</td>\n",
              "      <td>1.29358</td>\n",
              "      <td>122544</td>\n",
              "    </tr>\n",
              "  </tbody>\n",
              "</table>\n",
              "</div>\n",
              "      <button class=\"colab-df-convert\" onclick=\"convertToInteractive('df-bbd4de0a-99ed-46f2-bf44-fcc08e75aba6')\"\n",
              "              title=\"Convert this dataframe to an interactive table.\"\n",
              "              style=\"display:none;\">\n",
              "        \n",
              "  <svg xmlns=\"http://www.w3.org/2000/svg\" height=\"24px\"viewBox=\"0 0 24 24\"\n",
              "       width=\"24px\">\n",
              "    <path d=\"M0 0h24v24H0V0z\" fill=\"none\"/>\n",
              "    <path d=\"M18.56 5.44l.94 2.06.94-2.06 2.06-.94-2.06-.94-.94-2.06-.94 2.06-2.06.94zm-11 1L8.5 8.5l.94-2.06 2.06-.94-2.06-.94L8.5 2.5l-.94 2.06-2.06.94zm10 10l.94 2.06.94-2.06 2.06-.94-2.06-.94-.94-2.06-.94 2.06-2.06.94z\"/><path d=\"M17.41 7.96l-1.37-1.37c-.4-.4-.92-.59-1.43-.59-.52 0-1.04.2-1.43.59L10.3 9.45l-7.72 7.72c-.78.78-.78 2.05 0 2.83L4 21.41c.39.39.9.59 1.41.59.51 0 1.02-.2 1.41-.59l7.78-7.78 2.81-2.81c.8-.78.8-2.07 0-2.86zM5.41 20L4 18.59l7.72-7.72 1.47 1.35L5.41 20z\"/>\n",
              "  </svg>\n",
              "      </button>\n",
              "      \n",
              "  <style>\n",
              "    .colab-df-container {\n",
              "      display:flex;\n",
              "      flex-wrap:wrap;\n",
              "      gap: 12px;\n",
              "    }\n",
              "\n",
              "    .colab-df-convert {\n",
              "      background-color: #E8F0FE;\n",
              "      border: none;\n",
              "      border-radius: 50%;\n",
              "      cursor: pointer;\n",
              "      display: none;\n",
              "      fill: #1967D2;\n",
              "      height: 32px;\n",
              "      padding: 0 0 0 0;\n",
              "      width: 32px;\n",
              "    }\n",
              "\n",
              "    .colab-df-convert:hover {\n",
              "      background-color: #E2EBFA;\n",
              "      box-shadow: 0px 1px 2px rgba(60, 64, 67, 0.3), 0px 1px 3px 1px rgba(60, 64, 67, 0.15);\n",
              "      fill: #174EA6;\n",
              "    }\n",
              "\n",
              "    [theme=dark] .colab-df-convert {\n",
              "      background-color: #3B4455;\n",
              "      fill: #D2E3FC;\n",
              "    }\n",
              "\n",
              "    [theme=dark] .colab-df-convert:hover {\n",
              "      background-color: #434B5C;\n",
              "      box-shadow: 0px 1px 3px 1px rgba(0, 0, 0, 0.15);\n",
              "      filter: drop-shadow(0px 1px 2px rgba(0, 0, 0, 0.3));\n",
              "      fill: #FFFFFF;\n",
              "    }\n",
              "  </style>\n",
              "\n",
              "      <script>\n",
              "        const buttonEl =\n",
              "          document.querySelector('#df-bbd4de0a-99ed-46f2-bf44-fcc08e75aba6 button.colab-df-convert');\n",
              "        buttonEl.style.display =\n",
              "          google.colab.kernel.accessAllowed ? 'block' : 'none';\n",
              "\n",
              "        async function convertToInteractive(key) {\n",
              "          const element = document.querySelector('#df-bbd4de0a-99ed-46f2-bf44-fcc08e75aba6');\n",
              "          const dataTable =\n",
              "            await google.colab.kernel.invokeFunction('convertToInteractive',\n",
              "                                                     [key], {});\n",
              "          if (!dataTable) return;\n",
              "\n",
              "          const docLinkHtml = 'Like what you see? Visit the ' +\n",
              "            '<a target=\"_blank\" href=https://colab.research.google.com/notebooks/data_table.ipynb>data table notebook</a>'\n",
              "            + ' to learn more about interactive tables.';\n",
              "          element.innerHTML = '';\n",
              "          dataTable['output_type'] = 'display_data';\n",
              "          await google.colab.output.renderOutput(dataTable, element);\n",
              "          const docLink = document.createElement('div');\n",
              "          docLink.innerHTML = docLinkHtml;\n",
              "          element.appendChild(docLink);\n",
              "        }\n",
              "      </script>\n",
              "    </div>\n",
              "  </div>\n",
              "  "
            ],
            "text/plain": [
              "         Date  Time     Open     High      Low    Close  Volume\n",
              "0  2012.12.10  0:00  1.29054  1.29454  1.28847  1.29358  122544"
            ]
          },
          "execution_count": 4,
          "metadata": {},
          "output_type": "execute_result"
        }
      ],
      "source": [
        "data.head(1)"
      ]
    },
    {
      "cell_type": "code",
      "execution_count": null,
      "metadata": {
        "colab": {
          "base_uri": "https://localhost:8080/",
          "height": 112
        },
        "id": "x5qQ0XycB7ET",
        "outputId": "f0fd2c3b-01a1-4b36-8a92-8db63bd3aa68"
      },
      "outputs": [
        {
          "data": {
            "text/html": [
              "\n",
              "  <div id=\"df-7ee013dc-4008-4d49-ac5f-1cb7f831bb7d\">\n",
              "    <div class=\"colab-df-container\">\n",
              "      <div>\n",
              "<style scoped>\n",
              "    .dataframe tbody tr th:only-of-type {\n",
              "        vertical-align: middle;\n",
              "    }\n",
              "\n",
              "    .dataframe tbody tr th {\n",
              "        vertical-align: top;\n",
              "    }\n",
              "\n",
              "    .dataframe thead th {\n",
              "        text-align: right;\n",
              "    }\n",
              "</style>\n",
              "<table border=\"1\" class=\"dataframe\">\n",
              "  <thead>\n",
              "    <tr style=\"text-align: right;\">\n",
              "      <th></th>\n",
              "      <th>Date</th>\n",
              "      <th>Time</th>\n",
              "      <th>Open</th>\n",
              "      <th>High</th>\n",
              "      <th>Low</th>\n",
              "      <th>Close</th>\n",
              "      <th>Volume</th>\n",
              "    </tr>\n",
              "  </thead>\n",
              "  <tbody>\n",
              "    <tr>\n",
              "      <th>1849</th>\n",
              "      <td>2020.06.29</td>\n",
              "      <td>0:00</td>\n",
              "      <td>1.12186</td>\n",
              "      <td>1.12874</td>\n",
              "      <td>1.12165</td>\n",
              "      <td>1.12410</td>\n",
              "      <td>149760</td>\n",
              "    </tr>\n",
              "    <tr>\n",
              "      <th>1850</th>\n",
              "      <td>2020.06.30</td>\n",
              "      <td>0:00</td>\n",
              "      <td>1.12409</td>\n",
              "      <td>1.12515</td>\n",
              "      <td>1.11993</td>\n",
              "      <td>1.12031</td>\n",
              "      <td>52087</td>\n",
              "    </tr>\n",
              "  </tbody>\n",
              "</table>\n",
              "</div>\n",
              "      <button class=\"colab-df-convert\" onclick=\"convertToInteractive('df-7ee013dc-4008-4d49-ac5f-1cb7f831bb7d')\"\n",
              "              title=\"Convert this dataframe to an interactive table.\"\n",
              "              style=\"display:none;\">\n",
              "        \n",
              "  <svg xmlns=\"http://www.w3.org/2000/svg\" height=\"24px\"viewBox=\"0 0 24 24\"\n",
              "       width=\"24px\">\n",
              "    <path d=\"M0 0h24v24H0V0z\" fill=\"none\"/>\n",
              "    <path d=\"M18.56 5.44l.94 2.06.94-2.06 2.06-.94-2.06-.94-.94-2.06-.94 2.06-2.06.94zm-11 1L8.5 8.5l.94-2.06 2.06-.94-2.06-.94L8.5 2.5l-.94 2.06-2.06.94zm10 10l.94 2.06.94-2.06 2.06-.94-2.06-.94-.94-2.06-.94 2.06-2.06.94z\"/><path d=\"M17.41 7.96l-1.37-1.37c-.4-.4-.92-.59-1.43-.59-.52 0-1.04.2-1.43.59L10.3 9.45l-7.72 7.72c-.78.78-.78 2.05 0 2.83L4 21.41c.39.39.9.59 1.41.59.51 0 1.02-.2 1.41-.59l7.78-7.78 2.81-2.81c.8-.78.8-2.07 0-2.86zM5.41 20L4 18.59l7.72-7.72 1.47 1.35L5.41 20z\"/>\n",
              "  </svg>\n",
              "      </button>\n",
              "      \n",
              "  <style>\n",
              "    .colab-df-container {\n",
              "      display:flex;\n",
              "      flex-wrap:wrap;\n",
              "      gap: 12px;\n",
              "    }\n",
              "\n",
              "    .colab-df-convert {\n",
              "      background-color: #E8F0FE;\n",
              "      border: none;\n",
              "      border-radius: 50%;\n",
              "      cursor: pointer;\n",
              "      display: none;\n",
              "      fill: #1967D2;\n",
              "      height: 32px;\n",
              "      padding: 0 0 0 0;\n",
              "      width: 32px;\n",
              "    }\n",
              "\n",
              "    .colab-df-convert:hover {\n",
              "      background-color: #E2EBFA;\n",
              "      box-shadow: 0px 1px 2px rgba(60, 64, 67, 0.3), 0px 1px 3px 1px rgba(60, 64, 67, 0.15);\n",
              "      fill: #174EA6;\n",
              "    }\n",
              "\n",
              "    [theme=dark] .colab-df-convert {\n",
              "      background-color: #3B4455;\n",
              "      fill: #D2E3FC;\n",
              "    }\n",
              "\n",
              "    [theme=dark] .colab-df-convert:hover {\n",
              "      background-color: #434B5C;\n",
              "      box-shadow: 0px 1px 3px 1px rgba(0, 0, 0, 0.15);\n",
              "      filter: drop-shadow(0px 1px 2px rgba(0, 0, 0, 0.3));\n",
              "      fill: #FFFFFF;\n",
              "    }\n",
              "  </style>\n",
              "\n",
              "      <script>\n",
              "        const buttonEl =\n",
              "          document.querySelector('#df-7ee013dc-4008-4d49-ac5f-1cb7f831bb7d button.colab-df-convert');\n",
              "        buttonEl.style.display =\n",
              "          google.colab.kernel.accessAllowed ? 'block' : 'none';\n",
              "\n",
              "        async function convertToInteractive(key) {\n",
              "          const element = document.querySelector('#df-7ee013dc-4008-4d49-ac5f-1cb7f831bb7d');\n",
              "          const dataTable =\n",
              "            await google.colab.kernel.invokeFunction('convertToInteractive',\n",
              "                                                     [key], {});\n",
              "          if (!dataTable) return;\n",
              "\n",
              "          const docLinkHtml = 'Like what you see? Visit the ' +\n",
              "            '<a target=\"_blank\" href=https://colab.research.google.com/notebooks/data_table.ipynb>data table notebook</a>'\n",
              "            + ' to learn more about interactive tables.';\n",
              "          element.innerHTML = '';\n",
              "          dataTable['output_type'] = 'display_data';\n",
              "          await google.colab.output.renderOutput(dataTable, element);\n",
              "          const docLink = document.createElement('div');\n",
              "          docLink.innerHTML = docLinkHtml;\n",
              "          element.appendChild(docLink);\n",
              "        }\n",
              "      </script>\n",
              "    </div>\n",
              "  </div>\n",
              "  "
            ],
            "text/plain": [
              "            Date  Time     Open     High      Low    Close  Volume\n",
              "1849  2020.06.29  0:00  1.12186  1.12874  1.12165  1.12410  149760\n",
              "1850  2020.06.30  0:00  1.12409  1.12515  1.11993  1.12031   52087"
            ]
          },
          "execution_count": 5,
          "metadata": {},
          "output_type": "execute_result"
        }
      ],
      "source": [
        "data.tail(2)"
      ]
    },
    {
      "cell_type": "code",
      "execution_count": null,
      "metadata": {
        "id": "jzx60DHaCgvJ"
      },
      "outputs": [],
      "source": [
        "values = data['Open'].values"
      ]
    },
    {
      "cell_type": "code",
      "execution_count": null,
      "metadata": {
        "colab": {
          "base_uri": "https://localhost:8080/"
        },
        "id": "dD04MIpmCnNl",
        "outputId": "29fa5fbd-0306-43b6-8305-d820332a9407"
      },
      "outputs": [
        {
          "data": {
            "text/plain": [
              "array([1.29054, 1.29358, 1.29671, ..., 1.12171, 1.12186, 1.12409])"
            ]
          },
          "execution_count": 7,
          "metadata": {},
          "output_type": "execute_result"
        }
      ],
      "source": [
        "values"
      ]
    },
    {
      "cell_type": "code",
      "execution_count": null,
      "metadata": {
        "colab": {
          "base_uri": "https://localhost:8080/"
        },
        "id": "q7FXIbNKDR8X",
        "outputId": "b70830b6-4134-496e-8684-94aff58415ac"
      },
      "outputs": [
        {
          "data": {
            "text/plain": [
              "1851"
            ]
          },
          "execution_count": 8,
          "metadata": {},
          "output_type": "execute_result"
        }
      ],
      "source": [
        "len(values)"
      ]
    },
    {
      "cell_type": "code",
      "execution_count": null,
      "metadata": {
        "id": "xvSuii_RDFkQ"
      },
      "outputs": [],
      "source": [
        "train = values[:int(len(values)*0.9)]\n",
        "test = values[int(len(values)*0.9):]"
      ]
    },
    {
      "cell_type": "code",
      "execution_count": null,
      "metadata": {
        "id": "TLfvPAjSC_NS"
      },
      "outputs": [],
      "source": [
        "def windowed_dataset(series, window_size, batch_size, \n",
        "                     shuffle_buffer):\n",
        "    ds = tf.data.Dataset.from_tensor_slices(series)\n",
        "    ds = ds.window(window_size + 1, shift=1, drop_remainder=True)\n",
        "    ds = ds.flat_map(lambda w: w.batch(window_size + 1))\n",
        "    ds = ds.shuffle(shuffle_buffer)\n",
        "    ds = ds.map(lambda w: (w[:-1], w[-1]))\n",
        "    ds = ds.batch(batch_size).prefetch(1)\n",
        "    return ds"
      ]
    },
    {
      "cell_type": "code",
      "execution_count": null,
      "metadata": {
        "id": "Y3OGQ4-MDxZu"
      },
      "outputs": [],
      "source": [
        "train_ds = windowed_dataset(train, 30, 5, 1000)\n",
        "test_ds = windowed_dataset(test, 30, 5, 1000)"
      ]
    },
    {
      "cell_type": "code",
      "execution_count": null,
      "metadata": {
        "id": "JQXwnGsEEBiV"
      },
      "outputs": [],
      "source": [
        "model = tf.keras.models.Sequential([\n",
        "    tf.keras.layers.Conv1D(filters = 64, kernel_size = 3, \n",
        "                            padding='causal', strides=1,\n",
        "                            activation='relu', input_shape=[30, 1]),\n",
        "    tf.keras.layers.Bidirectional(tf.keras.layers.LSTM(64, return_sequences=True)),\n",
        "    tf.keras.layers.Bidirectional(tf.keras.layers.LSTM(64)),\n",
        "    tf.keras.layers.Dense(30, activation='relu'),\n",
        "    tf.keras.layers.Dense(10, activation='relu'),\n",
        "    tf.keras.layers.Dense(1)    \n",
        "]) "
      ]
    },
    {
      "cell_type": "code",
      "execution_count": null,
      "metadata": {
        "id": "LFHTKR_aElNJ"
      },
      "outputs": [],
      "source": [
        "lr_schedule = tf.keras.callbacks.LearningRateScheduler(\n",
        "    lambda epoch: 1e-8 * 10**(epoch / 20)\n",
        ")"
      ]
    },
    {
      "cell_type": "code",
      "execution_count": null,
      "metadata": {
        "id": "w29a6E7sEYAC"
      },
      "outputs": [],
      "source": [
        "model.compile(loss=tf.keras.losses.Huber(),\n",
        "                  optimizer=tf.keras.optimizers.SGD(momentum=0.9), \n",
        "                  metrics=[\"mae\"])"
      ]
    },
    {
      "cell_type": "code",
      "execution_count": null,
      "metadata": {
        "colab": {
          "base_uri": "https://localhost:8080/"
        },
        "id": "GaKc-gefExaj",
        "outputId": "36744286-97fa-4d7f-b3e5-fd520afaa564"
      },
      "outputs": [
        {
          "name": "stdout",
          "output_type": "stream",
          "text": [
            "Epoch 1/100\n",
            "332/332 [==============================] - 19s 17ms/step - loss: 0.6904 - mae: 1.1904 - val_loss: 0.6121 - val_mae: 1.1121 - lr: 1.0000e-08\n",
            "Epoch 2/100\n",
            "332/332 [==============================] - 5s 14ms/step - loss: 0.6903 - mae: 1.1903 - val_loss: 0.6120 - val_mae: 1.1120 - lr: 1.1220e-08\n",
            "Epoch 3/100\n",
            "332/332 [==============================] - 4s 12ms/step - loss: 0.6902 - mae: 1.1902 - val_loss: 0.6119 - val_mae: 1.1119 - lr: 1.2589e-08\n",
            "Epoch 4/100\n",
            "332/332 [==============================] - 4s 12ms/step - loss: 0.6901 - mae: 1.1901 - val_loss: 0.6118 - val_mae: 1.1118 - lr: 1.4125e-08\n",
            "Epoch 5/100\n",
            "332/332 [==============================] - 4s 13ms/step - loss: 0.6900 - mae: 1.1900 - val_loss: 0.6117 - val_mae: 1.1117 - lr: 1.5849e-08\n",
            "Epoch 6/100\n",
            "332/332 [==============================] - 4s 13ms/step - loss: 0.6898 - mae: 1.1898 - val_loss: 0.6115 - val_mae: 1.1115 - lr: 1.7783e-08\n",
            "Epoch 7/100\n",
            "332/332 [==============================] - 5s 14ms/step - loss: 0.6896 - mae: 1.1896 - val_loss: 0.6113 - val_mae: 1.1113 - lr: 1.9953e-08\n",
            "Epoch 8/100\n",
            "332/332 [==============================] - 5s 13ms/step - loss: 0.6894 - mae: 1.1894 - val_loss: 0.6111 - val_mae: 1.1111 - lr: 2.2387e-08\n",
            "Epoch 9/100\n",
            "332/332 [==============================] - 4s 13ms/step - loss: 0.6892 - mae: 1.1892 - val_loss: 0.6109 - val_mae: 1.1109 - lr: 2.5119e-08\n",
            "Epoch 10/100\n",
            "332/332 [==============================] - 4s 13ms/step - loss: 0.6890 - mae: 1.1890 - val_loss: 0.6106 - val_mae: 1.1106 - lr: 2.8184e-08\n",
            "Epoch 11/100\n",
            "332/332 [==============================] - 4s 13ms/step - loss: 0.6887 - mae: 1.1887 - val_loss: 0.6104 - val_mae: 1.1104 - lr: 3.1623e-08\n",
            "Epoch 12/100\n",
            "332/332 [==============================] - 5s 16ms/step - loss: 0.6884 - mae: 1.1884 - val_loss: 0.6100 - val_mae: 1.1100 - lr: 3.5481e-08\n",
            "Epoch 13/100\n",
            "332/332 [==============================] - 4s 12ms/step - loss: 0.6881 - mae: 1.1881 - val_loss: 0.6097 - val_mae: 1.1097 - lr: 3.9811e-08\n",
            "Epoch 14/100\n",
            "332/332 [==============================] - 5s 13ms/step - loss: 0.6877 - mae: 1.1877 - val_loss: 0.6093 - val_mae: 1.1093 - lr: 4.4668e-08\n",
            "Epoch 15/100\n",
            "332/332 [==============================] - 4s 13ms/step - loss: 0.6872 - mae: 1.1872 - val_loss: 0.6088 - val_mae: 1.1088 - lr: 5.0119e-08\n",
            "Epoch 16/100\n",
            "332/332 [==============================] - 5s 13ms/step - loss: 0.6868 - mae: 1.1868 - val_loss: 0.6083 - val_mae: 1.1083 - lr: 5.6234e-08\n",
            "Epoch 17/100\n",
            "332/332 [==============================] - 4s 13ms/step - loss: 0.6862 - mae: 1.1862 - val_loss: 0.6077 - val_mae: 1.1077 - lr: 6.3096e-08\n",
            "Epoch 18/100\n",
            "332/332 [==============================] - 4s 13ms/step - loss: 0.6856 - mae: 1.1856 - val_loss: 0.6070 - val_mae: 1.1070 - lr: 7.0795e-08\n",
            "Epoch 19/100\n",
            "332/332 [==============================] - 4s 13ms/step - loss: 0.6849 - mae: 1.1849 - val_loss: 0.6063 - val_mae: 1.1063 - lr: 7.9433e-08\n",
            "Epoch 20/100\n",
            "332/332 [==============================] - 5s 13ms/step - loss: 0.6841 - mae: 1.1841 - val_loss: 0.6055 - val_mae: 1.1055 - lr: 8.9125e-08\n",
            "Epoch 21/100\n",
            "332/332 [==============================] - 5s 14ms/step - loss: 0.6832 - mae: 1.1832 - val_loss: 0.6045 - val_mae: 1.1045 - lr: 1.0000e-07\n",
            "Epoch 22/100\n",
            "332/332 [==============================] - 5s 15ms/step - loss: 0.6822 - mae: 1.1822 - val_loss: 0.6035 - val_mae: 1.1035 - lr: 1.1220e-07\n",
            "Epoch 23/100\n",
            "332/332 [==============================] - 5s 16ms/step - loss: 0.6811 - mae: 1.1811 - val_loss: 0.6023 - val_mae: 1.1023 - lr: 1.2589e-07\n",
            "Epoch 24/100\n",
            "332/332 [==============================] - 4s 12ms/step - loss: 0.6799 - mae: 1.1799 - val_loss: 0.6010 - val_mae: 1.1010 - lr: 1.4125e-07\n",
            "Epoch 25/100\n",
            "332/332 [==============================] - 5s 13ms/step - loss: 0.6785 - mae: 1.1785 - val_loss: 0.5995 - val_mae: 1.0995 - lr: 1.5849e-07\n",
            "Epoch 26/100\n",
            "332/332 [==============================] - 5s 13ms/step - loss: 0.6769 - mae: 1.1769 - val_loss: 0.5979 - val_mae: 1.0979 - lr: 1.7783e-07\n",
            "Epoch 27/100\n",
            "332/332 [==============================] - 4s 12ms/step - loss: 0.6751 - mae: 1.1751 - val_loss: 0.5960 - val_mae: 1.0960 - lr: 1.9953e-07\n",
            "Epoch 28/100\n",
            "332/332 [==============================] - 4s 13ms/step - loss: 0.6732 - mae: 1.1732 - val_loss: 0.5939 - val_mae: 1.0939 - lr: 2.2387e-07\n",
            "Epoch 29/100\n",
            "332/332 [==============================] - 5s 14ms/step - loss: 0.6709 - mae: 1.1709 - val_loss: 0.5916 - val_mae: 1.0916 - lr: 2.5119e-07\n",
            "Epoch 30/100\n",
            "332/332 [==============================] - 4s 13ms/step - loss: 0.6685 - mae: 1.1685 - val_loss: 0.5890 - val_mae: 1.0890 - lr: 2.8184e-07\n",
            "Epoch 31/100\n",
            "332/332 [==============================] - 5s 13ms/step - loss: 0.6657 - mae: 1.1657 - val_loss: 0.5860 - val_mae: 1.0860 - lr: 3.1623e-07\n",
            "Epoch 32/100\n",
            "332/332 [==============================] - 5s 14ms/step - loss: 0.6625 - mae: 1.1625 - val_loss: 0.5827 - val_mae: 1.0827 - lr: 3.5481e-07\n",
            "Epoch 33/100\n",
            "332/332 [==============================] - 5s 13ms/step - loss: 0.6590 - mae: 1.1590 - val_loss: 0.5790 - val_mae: 1.0790 - lr: 3.9811e-07\n",
            "Epoch 34/100\n",
            "332/332 [==============================] - 5s 15ms/step - loss: 0.6550 - mae: 1.1550 - val_loss: 0.5748 - val_mae: 1.0748 - lr: 4.4668e-07\n",
            "Epoch 35/100\n",
            "332/332 [==============================] - 5s 15ms/step - loss: 0.6506 - mae: 1.1506 - val_loss: 0.5702 - val_mae: 1.0702 - lr: 5.0119e-07\n",
            "Epoch 36/100\n",
            "332/332 [==============================] - 5s 16ms/step - loss: 0.6456 - mae: 1.1456 - val_loss: 0.5649 - val_mae: 1.0649 - lr: 5.6234e-07\n",
            "Epoch 37/100\n",
            "332/332 [==============================] - 4s 13ms/step - loss: 0.6401 - mae: 1.1401 - val_loss: 0.5592 - val_mae: 1.0592 - lr: 6.3096e-07\n",
            "Epoch 38/100\n",
            "332/332 [==============================] - 4s 12ms/step - loss: 0.6340 - mae: 1.1340 - val_loss: 0.5529 - val_mae: 1.0529 - lr: 7.0795e-07\n",
            "Epoch 39/100\n",
            "332/332 [==============================] - 4s 12ms/step - loss: 0.6273 - mae: 1.1273 - val_loss: 0.5459 - val_mae: 1.0459 - lr: 7.9433e-07\n",
            "Epoch 40/100\n",
            "332/332 [==============================] - 4s 13ms/step - loss: 0.6199 - mae: 1.1199 - val_loss: 0.5383 - val_mae: 1.0383 - lr: 8.9125e-07\n",
            "Epoch 41/100\n",
            "332/332 [==============================] - 5s 14ms/step - loss: 0.6118 - mae: 1.1118 - val_loss: 0.5300 - val_mae: 1.0300 - lr: 1.0000e-06\n",
            "Epoch 42/100\n",
            "332/332 [==============================] - 5s 14ms/step - loss: 0.6031 - mae: 1.1031 - val_loss: 0.5210 - val_mae: 1.0210 - lr: 1.1220e-06\n",
            "Epoch 43/100\n",
            "332/332 [==============================] - 5s 14ms/step - loss: 0.5936 - mae: 1.0935 - val_loss: 0.5110 - val_mae: 1.0110 - lr: 1.2589e-06\n",
            "Epoch 44/100\n",
            "332/332 [==============================] - 5s 14ms/step - loss: 0.5829 - mae: 1.0828 - val_loss: 0.4997 - val_mae: 0.9997 - lr: 1.4125e-06\n",
            "Epoch 45/100\n",
            "332/332 [==============================] - 4s 13ms/step - loss: 0.5711 - mae: 1.0710 - val_loss: 0.4878 - val_mae: 0.9876 - lr: 1.5849e-06\n",
            "Epoch 46/100\n",
            "332/332 [==============================] - 4s 12ms/step - loss: 0.5584 - mae: 1.0582 - val_loss: 0.4747 - val_mae: 0.9743 - lr: 1.7783e-06\n",
            "Epoch 47/100\n",
            "332/332 [==============================] - 5s 14ms/step - loss: 0.5445 - mae: 1.0441 - val_loss: 0.4609 - val_mae: 0.9600 - lr: 1.9953e-06\n",
            "Epoch 48/100\n",
            "332/332 [==============================] - 4s 13ms/step - loss: 0.5298 - mae: 1.0291 - val_loss: 0.4463 - val_mae: 0.9446 - lr: 2.2387e-06\n",
            "Epoch 49/100\n",
            "332/332 [==============================] - 4s 13ms/step - loss: 0.5138 - mae: 1.0127 - val_loss: 0.4303 - val_mae: 0.9275 - lr: 2.5119e-06\n",
            "Epoch 50/100\n",
            "332/332 [==============================] - 4s 13ms/step - loss: 0.4963 - mae: 0.9945 - val_loss: 0.4127 - val_mae: 0.9084 - lr: 2.8184e-06\n",
            "Epoch 51/100\n",
            "332/332 [==============================] - 4s 13ms/step - loss: 0.4771 - mae: 0.9742 - val_loss: 0.3937 - val_mae: 0.8872 - lr: 3.1623e-06\n",
            "Epoch 52/100\n",
            "332/332 [==============================] - 4s 13ms/step - loss: 0.4561 - mae: 0.9517 - val_loss: 0.3731 - val_mae: 0.8637 - lr: 3.5481e-06\n",
            "Epoch 53/100\n",
            "332/332 [==============================] - 5s 14ms/step - loss: 0.4332 - mae: 0.9268 - val_loss: 0.3509 - val_mae: 0.8376 - lr: 3.9811e-06\n",
            "Epoch 54/100\n",
            "332/332 [==============================] - 5s 13ms/step - loss: 0.4085 - mae: 0.8992 - val_loss: 0.3271 - val_mae: 0.8087 - lr: 4.4668e-06\n",
            "Epoch 55/100\n",
            "332/332 [==============================] - 5s 14ms/step - loss: 0.3819 - mae: 0.8687 - val_loss: 0.3018 - val_mae: 0.7768 - lr: 5.0119e-06\n",
            "Epoch 56/100\n",
            "332/332 [==============================] - 4s 12ms/step - loss: 0.3535 - mae: 0.8351 - val_loss: 0.2752 - val_mae: 0.7418 - lr: 5.6234e-06\n",
            "Epoch 57/100\n",
            "332/332 [==============================] - 5s 16ms/step - loss: 0.3234 - mae: 0.7984 - val_loss: 0.2476 - val_mae: 0.7035 - lr: 6.3096e-06\n",
            "Epoch 58/100\n",
            "332/332 [==============================] - 5s 13ms/step - loss: 0.2922 - mae: 0.7583 - val_loss: 0.2192 - val_mae: 0.6619 - lr: 7.0795e-06\n",
            "Epoch 59/100\n",
            "332/332 [==============================] - 4s 13ms/step - loss: 0.2602 - mae: 0.7148 - val_loss: 0.1904 - val_mae: 0.6169 - lr: 7.9433e-06\n",
            "Epoch 60/100\n",
            "332/332 [==============================] - 4s 13ms/step - loss: 0.2279 - mae: 0.6681 - val_loss: 0.1619 - val_mae: 0.5689 - lr: 8.9125e-06\n",
            "Epoch 61/100\n",
            "332/332 [==============================] - 4s 13ms/step - loss: 0.1957 - mae: 0.6179 - val_loss: 0.1339 - val_mae: 0.5173 - lr: 1.0000e-05\n",
            "Epoch 62/100\n",
            "332/332 [==============================] - 4s 13ms/step - loss: 0.1642 - mae: 0.5646 - val_loss: 0.1072 - val_mae: 0.4628 - lr: 1.1220e-05\n",
            "Epoch 63/100\n",
            "332/332 [==============================] - 4s 12ms/step - loss: 0.1340 - mae: 0.5085 - val_loss: 0.0824 - val_mae: 0.4057 - lr: 1.2589e-05\n",
            "Epoch 64/100\n",
            "332/332 [==============================] - 4s 13ms/step - loss: 0.1060 - mae: 0.4500 - val_loss: 0.0602 - val_mae: 0.3465 - lr: 1.4125e-05\n",
            "Epoch 65/100\n",
            "332/332 [==============================] - 4s 12ms/step - loss: 0.0807 - mae: 0.3900 - val_loss: 0.0411 - val_mae: 0.2865 - lr: 1.5849e-05\n",
            "Epoch 66/100\n",
            "332/332 [==============================] - 4s 13ms/step - loss: 0.0590 - mae: 0.3298 - val_loss: 0.0259 - val_mae: 0.2270 - lr: 1.7783e-05\n",
            "Epoch 67/100\n",
            "332/332 [==============================] - 5s 14ms/step - loss: 0.0412 - mae: 0.2706 - val_loss: 0.0145 - val_mae: 0.1696 - lr: 1.9953e-05\n",
            "Epoch 68/100\n",
            "332/332 [==============================] - 4s 13ms/step - loss: 0.0276 - mae: 0.2146 - val_loss: 0.0069 - val_mae: 0.1162 - lr: 2.2387e-05\n",
            "Epoch 69/100\n",
            "332/332 [==============================] - 4s 12ms/step - loss: 0.0179 - mae: 0.1640 - val_loss: 0.0025 - val_mae: 0.0688 - lr: 2.5119e-05\n",
            "Epoch 70/100\n",
            "332/332 [==============================] - 4s 13ms/step - loss: 0.0115 - mae: 0.1202 - val_loss: 5.1509e-04 - val_mae: 0.0288 - lr: 2.8184e-05\n",
            "Epoch 71/100\n",
            "332/332 [==============================] - 4s 13ms/step - loss: 0.0077 - mae: 0.0882 - val_loss: 1.0940e-04 - val_mae: 0.0117 - lr: 3.1623e-05\n",
            "Epoch 72/100\n",
            "332/332 [==============================] - 4s 12ms/step - loss: 0.0057 - mae: 0.0725 - val_loss: 4.8757e-04 - val_mae: 0.0279 - lr: 3.5481e-05\n",
            "Epoch 73/100\n",
            "332/332 [==============================] - 4s 12ms/step - loss: 0.0047 - mae: 0.0699 - val_loss: 0.0011 - val_mae: 0.0446 - lr: 3.9811e-05\n",
            "Epoch 74/100\n",
            "332/332 [==============================] - 4s 13ms/step - loss: 0.0043 - mae: 0.0711 - val_loss: 0.0017 - val_mae: 0.0560 - lr: 4.4668e-05\n",
            "Epoch 75/100\n",
            "332/332 [==============================] - 5s 14ms/step - loss: 0.0041 - mae: 0.0725 - val_loss: 0.0021 - val_mae: 0.0629 - lr: 5.0119e-05\n",
            "Epoch 76/100\n",
            "332/332 [==============================] - 4s 13ms/step - loss: 0.0040 - mae: 0.0735 - val_loss: 0.0023 - val_mae: 0.0667 - lr: 5.6234e-05\n",
            "Epoch 77/100\n",
            "332/332 [==============================] - 5s 13ms/step - loss: 0.0040 - mae: 0.0745 - val_loss: 0.0025 - val_mae: 0.0686 - lr: 6.3096e-05\n",
            "Epoch 78/100\n",
            "332/332 [==============================] - 5s 13ms/step - loss: 0.0040 - mae: 0.0747 - val_loss: 0.0025 - val_mae: 0.0691 - lr: 7.0795e-05\n",
            "Epoch 79/100\n",
            "332/332 [==============================] - 5s 15ms/step - loss: 0.0040 - mae: 0.0750 - val_loss: 0.0025 - val_mae: 0.0693 - lr: 7.9433e-05\n",
            "Epoch 80/100\n",
            "332/332 [==============================] - 5s 14ms/step - loss: 0.0040 - mae: 0.0751 - val_loss: 0.0024 - val_mae: 0.0684 - lr: 8.9125e-05\n",
            "Epoch 81/100\n",
            "332/332 [==============================] - 4s 13ms/step - loss: 0.0040 - mae: 0.0745 - val_loss: 0.0025 - val_mae: 0.0694 - lr: 1.0000e-04\n",
            "Epoch 82/100\n",
            "332/332 [==============================] - 4s 12ms/step - loss: 0.0040 - mae: 0.0746 - val_loss: 0.0026 - val_mae: 0.0700 - lr: 1.1220e-04\n",
            "Epoch 83/100\n",
            "332/332 [==============================] - 4s 12ms/step - loss: 0.0040 - mae: 0.0749 - val_loss: 0.0025 - val_mae: 0.0692 - lr: 1.2589e-04\n",
            "Epoch 84/100\n",
            "332/332 [==============================] - 4s 13ms/step - loss: 0.0040 - mae: 0.0746 - val_loss: 0.0025 - val_mae: 0.0692 - lr: 1.4125e-04\n",
            "Epoch 85/100\n",
            "332/332 [==============================] - 4s 13ms/step - loss: 0.0040 - mae: 0.0749 - val_loss: 0.0023 - val_mae: 0.0663 - lr: 1.5849e-04\n",
            "Epoch 86/100\n",
            "332/332 [==============================] - 4s 13ms/step - loss: 0.0040 - mae: 0.0744 - val_loss: 0.0023 - val_mae: 0.0665 - lr: 1.7783e-04\n",
            "Epoch 87/100\n",
            "332/332 [==============================] - 4s 13ms/step - loss: 0.0040 - mae: 0.0745 - val_loss: 0.0023 - val_mae: 0.0657 - lr: 1.9953e-04\n",
            "Epoch 88/100\n",
            "332/332 [==============================] - 5s 14ms/step - loss: 0.0040 - mae: 0.0745 - val_loss: 0.0022 - val_mae: 0.0647 - lr: 2.2387e-04\n",
            "Epoch 89/100\n",
            "332/332 [==============================] - 5s 14ms/step - loss: 0.0039 - mae: 0.0741 - val_loss: 0.0022 - val_mae: 0.0653 - lr: 2.5119e-04\n",
            "Epoch 90/100\n",
            "332/332 [==============================] - 4s 13ms/step - loss: 0.0039 - mae: 0.0742 - val_loss: 0.0021 - val_mae: 0.0639 - lr: 2.8184e-04\n",
            "Epoch 91/100\n",
            "332/332 [==============================] - 4s 12ms/step - loss: 0.0039 - mae: 0.0738 - val_loss: 0.0024 - val_mae: 0.0678 - lr: 3.1623e-04\n",
            "Epoch 92/100\n",
            "332/332 [==============================] - 5s 14ms/step - loss: 0.0039 - mae: 0.0741 - val_loss: 0.0020 - val_mae: 0.0620 - lr: 3.5481e-04\n",
            "Epoch 93/100\n",
            "332/332 [==============================] - 4s 12ms/step - loss: 0.0039 - mae: 0.0734 - val_loss: 0.0020 - val_mae: 0.0610 - lr: 3.9811e-04\n",
            "Epoch 94/100\n",
            "332/332 [==============================] - 4s 12ms/step - loss: 0.0039 - mae: 0.0731 - val_loss: 0.0023 - val_mae: 0.0664 - lr: 4.4668e-04\n",
            "Epoch 95/100\n",
            "332/332 [==============================] - 5s 14ms/step - loss: 0.0038 - mae: 0.0730 - val_loss: 0.0020 - val_mae: 0.0610 - lr: 5.0119e-04\n",
            "Epoch 96/100\n",
            "332/332 [==============================] - 4s 13ms/step - loss: 0.0038 - mae: 0.0730 - val_loss: 0.0023 - val_mae: 0.0659 - lr: 5.6234e-04\n",
            "Epoch 97/100\n",
            "332/332 [==============================] - 4s 13ms/step - loss: 0.0038 - mae: 0.0728 - val_loss: 0.0021 - val_mae: 0.0630 - lr: 6.3096e-04\n",
            "Epoch 98/100\n",
            "332/332 [==============================] - 4s 13ms/step - loss: 0.0037 - mae: 0.0715 - val_loss: 0.0027 - val_mae: 0.0719 - lr: 7.0795e-04\n",
            "Epoch 99/100\n",
            "332/332 [==============================] - 4s 13ms/step - loss: 0.0037 - mae: 0.0724 - val_loss: 0.0017 - val_mae: 0.0570 - lr: 7.9433e-04\n",
            "Epoch 100/100\n",
            "332/332 [==============================] - 5s 14ms/step - loss: 0.0036 - mae: 0.0709 - val_loss: 0.0016 - val_mae: 0.0552 - lr: 8.9125e-04\n"
          ]
        }
      ],
      "source": [
        "history = model.fit(train_ds, validation_data=test_ds, \n",
        "                    epochs=100, callbacks=[lr_schedule])"
      ]
    },
    {
      "cell_type": "code",
      "execution_count": null,
      "metadata": {
        "colab": {
          "base_uri": "https://localhost:8080/",
          "height": 286
        },
        "id": "mvCxf8U8E5ce",
        "outputId": "743d3310-0c77-4a54-c095-d23f4cc40200"
      },
      "outputs": [
        {
          "data": {
            "text/plain": [
              "[<matplotlib.lines.Line2D at 0x7f7ea2197b90>]"
            ]
          },
          "execution_count": 38,
          "metadata": {},
          "output_type": "execute_result"
        },
        {
          "data": {
            "image/png": "[encoded data removed]",
            "text/plain": [
              "<Figure size 432x288 with 1 Axes>"
            ]
          },
          "metadata": {},
          "output_type": "display_data"
        }
      ],
      "source": [
        "plt.semilogx(history.history[\"lr\"], history.history[\"loss\"])\n",
        "# plt.axis([1e-8, 10, 0, 10])"
      ]
    },
    {
      "cell_type": "code",
      "execution_count": null,
      "metadata": {
        "id": "EERHkq7YJI1m"
      },
      "outputs": [],
      "source": [
        "model.compile(loss=tf.keras.losses.Huber(),\n",
        "              optimizer=tf.keras.optimizers.SGD(learning_rate=1e-4, momentum=0.9),\n",
        "              metrics=[\"mae\"]) "
      ]
    },
    {
      "cell_type": "code",
      "execution_count": null,
      "metadata": {
        "colab": {
          "background_save": true,
          "base_uri": "https://localhost:8080/"
        },
        "id": "K7bqRl1CJxKy",
        "outputId": "af15711e-49ab-43b1-8219-b4f5d010cf99"
      },
      "outputs": [
        {
          "name": "stdout",
          "output_type": "stream",
          "text": [
            "Epoch 1/100\n",
            "327/327 [==============================] - 94s 56ms/step - loss: 0.0092 - mae: 0.0728 - val_loss: 4.1876e-04 - val_mae: 0.0257\n",
            "Epoch 2/100\n",
            "327/327 [==============================] - 17s 50ms/step - loss: 7.9361e-04 - mae: 0.0314 - val_loss: 1.0617e-04 - val_mae: 0.0116\n",
            "Epoch 3/100\n",
            "327/327 [==============================] - 17s 50ms/step - loss: 2.4306e-04 - mae: 0.0173 - val_loss: 1.4203e-04 - val_mae: 0.0128\n",
            "Epoch 4/100\n",
            "327/327 [==============================] - 16s 49ms/step - loss: 1.6716e-04 - mae: 0.0142 - val_loss: 2.6947e-04 - val_mae: 0.0191\n",
            "Epoch 5/100\n",
            "327/327 [==============================] - 16s 49ms/step - loss: 1.5740e-04 - mae: 0.0137 - val_loss: 1.0530e-04 - val_mae: 0.0115\n",
            "Epoch 6/100\n",
            "327/327 [==============================] - 17s 53ms/step - loss: 1.8979e-04 - mae: 0.0150 - val_loss: 1.2760e-04 - val_mae: 0.0121\n",
            "Epoch 7/100\n",
            "327/327 [==============================] - 15s 47ms/step - loss: 1.4978e-04 - mae: 0.0133 - val_loss: 1.0849e-04 - val_mae: 0.0114\n",
            "Epoch 8/100\n",
            "327/327 [==============================] - 16s 47ms/step - loss: 1.5318e-04 - mae: 0.0134 - val_loss: 1.3619e-04 - val_mae: 0.0136\n",
            "Epoch 9/100\n",
            "327/327 [==============================] - 16s 49ms/step - loss: 1.5442e-04 - mae: 0.0137 - val_loss: 1.0194e-04 - val_mae: 0.0112\n",
            "Epoch 10/100\n",
            "327/327 [==============================] - 16s 47ms/step - loss: 1.4972e-04 - mae: 0.0133 - val_loss: 1.0943e-04 - val_mae: 0.0113\n",
            "Epoch 11/100\n",
            "327/327 [==============================] - 16s 48ms/step - loss: 1.4641e-04 - mae: 0.0133 - val_loss: 1.0052e-04 - val_mae: 0.0110\n",
            "Epoch 12/100\n",
            "327/327 [==============================] - 17s 50ms/step - loss: 1.4826e-04 - mae: 0.0133 - val_loss: 1.0561e-04 - val_mae: 0.0117\n",
            "Epoch 13/100\n",
            "327/327 [==============================] - 15s 46ms/step - loss: 1.5004e-04 - mae: 0.0135 - val_loss: 2.1020e-04 - val_mae: 0.0165\n",
            "Epoch 14/100\n",
            "327/327 [==============================] - 16s 48ms/step - loss: 1.3853e-04 - mae: 0.0128 - val_loss: 1.0252e-04 - val_mae: 0.0109\n",
            "Epoch 15/100\n",
            "327/327 [==============================] - 16s 48ms/step - loss: 1.3539e-04 - mae: 0.0127 - val_loss: 9.8322e-05 - val_mae: 0.0108\n",
            "Epoch 16/100\n",
            "327/327 [==============================] - 16s 48ms/step - loss: 1.3873e-04 - mae: 0.0126 - val_loss: 2.3962e-04 - val_mae: 0.0181\n",
            "Epoch 17/100\n",
            "327/327 [==============================] - 16s 48ms/step - loss: 1.3540e-04 - mae: 0.0127 - val_loss: 1.1353e-04 - val_mae: 0.0113\n",
            "Epoch 18/100\n",
            "327/327 [==============================] - 15s 47ms/step - loss: 1.3813e-04 - mae: 0.0129 - val_loss: 1.0590e-04 - val_mae: 0.0110\n",
            "Epoch 19/100\n",
            "327/327 [==============================] - 16s 48ms/step - loss: 1.3838e-04 - mae: 0.0129 - val_loss: 2.0638e-04 - val_mae: 0.0176\n",
            "Epoch 20/100\n",
            "327/327 [==============================] - 16s 49ms/step - loss: 1.2969e-04 - mae: 0.0124 - val_loss: 1.1189e-04 - val_mae: 0.0112\n",
            "Epoch 21/100\n",
            "327/327 [==============================] - 16s 48ms/step - loss: 1.3247e-04 - mae: 0.0126 - val_loss: 9.9652e-05 - val_mae: 0.0112\n",
            "Epoch 22/100\n",
            "327/327 [==============================] - 17s 50ms/step - loss: 1.2581e-04 - mae: 0.0122 - val_loss: 2.2755e-04 - val_mae: 0.0176\n",
            "Epoch 23/100\n",
            "327/327 [==============================] - 16s 49ms/step - loss: 1.2664e-04 - mae: 0.0123 - val_loss: 9.4125e-05 - val_mae: 0.0107\n",
            "Epoch 24/100\n",
            "327/327 [==============================] - 16s 48ms/step - loss: 1.2368e-04 - mae: 0.0121 - val_loss: 9.3886e-05 - val_mae: 0.0107\n",
            "Epoch 25/100\n",
            "327/327 [==============================] - 16s 49ms/step - loss: 1.2412e-04 - mae: 0.0122 - val_loss: 9.4588e-05 - val_mae: 0.0104\n",
            "Epoch 26/100\n",
            "327/327 [==============================] - 15s 45ms/step - loss: 1.1901e-04 - mae: 0.0119 - val_loss: 1.0246e-04 - val_mae: 0.0107\n",
            "Epoch 27/100\n",
            "327/327 [==============================] - 16s 48ms/step - loss: 1.2835e-04 - mae: 0.0124 - val_loss: 9.9920e-05 - val_mae: 0.0105\n",
            "Epoch 28/100\n",
            "327/327 [==============================] - 16s 47ms/step - loss: 1.2974e-04 - mae: 0.0125 - val_loss: 9.3271e-05 - val_mae: 0.0107\n",
            "Epoch 29/100\n",
            "327/327 [==============================] - 16s 47ms/step - loss: 1.1634e-04 - mae: 0.0117 - val_loss: 9.2795e-05 - val_mae: 0.0102\n",
            "Epoch 30/100\n",
            "327/327 [==============================] - 17s 50ms/step - loss: 1.3197e-04 - mae: 0.0127 - val_loss: 1.2892e-04 - val_mae: 0.0133\n",
            "Epoch 31/100\n",
            "327/327 [==============================] - 16s 47ms/step - loss: 1.2269e-04 - mae: 0.0121 - val_loss: 1.7616e-04 - val_mae: 0.0151\n",
            "Epoch 32/100\n",
            "327/327 [==============================] - 16s 48ms/step - loss: 1.1541e-04 - mae: 0.0116 - val_loss: 1.0090e-04 - val_mae: 0.0105\n",
            "Epoch 33/100\n",
            "327/327 [==============================] - 16s 48ms/step - loss: 1.1192e-04 - mae: 0.0114 - val_loss: 8.7916e-05 - val_mae: 0.0101\n",
            "Epoch 34/100\n",
            "327/327 [==============================] - 16s 48ms/step - loss: 1.1737e-04 - mae: 0.0118 - val_loss: 8.9559e-05 - val_mae: 0.0100\n",
            "Epoch 35/100\n",
            "327/327 [==============================] - 16s 49ms/step - loss: 1.1998e-04 - mae: 0.0120 - val_loss: 1.2934e-04 - val_mae: 0.0133\n",
            "Epoch 36/100\n",
            "327/327 [==============================] - 17s 51ms/step - loss: 1.1380e-04 - mae: 0.0117 - val_loss: 1.4940e-04 - val_mae: 0.0136\n",
            "Epoch 37/100\n",
            "327/327 [==============================] - 16s 49ms/step - loss: 1.2485e-04 - mae: 0.0121 - val_loss: 1.0813e-04 - val_mae: 0.0119\n",
            "Epoch 38/100\n",
            "327/327 [==============================] - 16s 49ms/step - loss: 1.1435e-04 - mae: 0.0119 - val_loss: 1.1096e-04 - val_mae: 0.0111\n",
            "Epoch 39/100\n",
            "327/327 [==============================] - 16s 48ms/step - loss: 1.1402e-04 - mae: 0.0117 - val_loss: 8.6687e-05 - val_mae: 0.0098\n",
            "Epoch 40/100\n",
            "327/327 [==============================] - 16s 48ms/step - loss: 1.0906e-04 - mae: 0.0114 - val_loss: 9.5612e-05 - val_mae: 0.0102\n",
            "Epoch 41/100\n",
            "327/327 [==============================] - 16s 49ms/step - loss: 1.1209e-04 - mae: 0.0115 - val_loss: 9.6268e-05 - val_mae: 0.0102\n",
            "Epoch 42/100\n",
            "327/327 [==============================] - 16s 50ms/step - loss: 1.0690e-04 - mae: 0.0114 - val_loss: 1.4580e-04 - val_mae: 0.0134\n",
            "Epoch 43/100\n",
            "327/327 [==============================] - 15s 47ms/step - loss: 1.0956e-04 - mae: 0.0114 - val_loss: 8.5875e-05 - val_mae: 0.0100\n",
            "Epoch 44/100\n",
            "327/327 [==============================] - 16s 48ms/step - loss: 1.0442e-04 - mae: 0.0111 - val_loss: 1.1305e-04 - val_mae: 0.0113\n",
            "Epoch 45/100\n",
            "327/327 [==============================] - 16s 47ms/step - loss: 1.0525e-04 - mae: 0.0113 - val_loss: 9.9742e-05 - val_mae: 0.0103\n",
            "Epoch 46/100\n",
            "327/327 [==============================] - 15s 46ms/step - loss: 1.1421e-04 - mae: 0.0118 - val_loss: 8.3705e-05 - val_mae: 0.0098\n",
            "Epoch 47/100\n",
            "327/327 [==============================] - 15s 46ms/step - loss: 1.0948e-04 - mae: 0.0116 - val_loss: 9.9485e-05 - val_mae: 0.0113\n",
            "Epoch 48/100\n",
            "327/327 [==============================] - 16s 50ms/step - loss: 1.0502e-04 - mae: 0.0113 - val_loss: 8.8304e-05 - val_mae: 0.0097\n",
            "Epoch 49/100\n",
            "327/327 [==============================] - 15s 47ms/step - loss: 1.1289e-04 - mae: 0.0117 - val_loss: 8.2770e-05 - val_mae: 0.0097\n",
            "Epoch 50/100\n",
            "327/327 [==============================] - 15s 46ms/step - loss: 1.0080e-04 - mae: 0.0111 - val_loss: 1.4631e-04 - val_mae: 0.0135\n",
            "Epoch 51/100\n",
            "327/327 [==============================] - 16s 47ms/step - loss: 9.5687e-05 - mae: 0.0106 - val_loss: 8.1552e-05 - val_mae: 0.0095\n",
            "Epoch 52/100\n",
            "327/327 [==============================] - 16s 48ms/step - loss: 9.9717e-05 - mae: 0.0110 - val_loss: 1.2089e-04 - val_mae: 0.0118\n",
            "Epoch 53/100\n",
            "327/327 [==============================] - 16s 50ms/step - loss: 9.8548e-05 - mae: 0.0108 - val_loss: 8.1950e-05 - val_mae: 0.0096\n",
            "Epoch 54/100\n",
            "327/327 [==============================] - 16s 49ms/step - loss: 1.0101e-04 - mae: 0.0110 - val_loss: 9.9398e-05 - val_mae: 0.0113\n",
            "Epoch 55/100\n",
            "327/327 [==============================] - 15s 47ms/step - loss: 1.0709e-04 - mae: 0.0114 - val_loss: 8.4023e-05 - val_mae: 0.0094\n",
            "Epoch 56/100\n",
            "327/327 [==============================] - 15s 46ms/step - loss: 1.0081e-04 - mae: 0.0110 - val_loss: 8.6647e-05 - val_mae: 0.0095\n",
            "Epoch 57/100\n",
            "327/327 [==============================] - 16s 47ms/step - loss: 9.7517e-05 - mae: 0.0108 - val_loss: 9.8523e-05 - val_mae: 0.0103\n",
            "Epoch 58/100\n",
            "327/327 [==============================] - 16s 48ms/step - loss: 9.7325e-05 - mae: 0.0107 - val_loss: 1.8576e-04 - val_mae: 0.0160\n",
            "Epoch 59/100\n",
            "327/327 [==============================] - 16s 47ms/step - loss: 9.0298e-05 - mae: 0.0103 - val_loss: 8.0481e-05 - val_mae: 0.0092\n",
            "Epoch 60/100\n",
            "327/327 [==============================] - 17s 50ms/step - loss: 1.0072e-04 - mae: 0.0109 - val_loss: 8.4146e-05 - val_mae: 0.0094\n",
            "Epoch 61/100\n",
            "327/327 [==============================] - 15s 46ms/step - loss: 9.4546e-05 - mae: 0.0106 - val_loss: 8.0813e-05 - val_mae: 0.0096\n",
            "Epoch 62/100\n",
            "327/327 [==============================] - 15s 45ms/step - loss: 9.8400e-05 - mae: 0.0110 - val_loss: 7.9755e-05 - val_mae: 0.0091\n",
            "Epoch 63/100\n",
            "327/327 [==============================] - 15s 46ms/step - loss: 9.2128e-05 - mae: 0.0105 - val_loss: 8.2523e-05 - val_mae: 0.0098\n",
            "Epoch 64/100\n",
            "327/327 [==============================] - 15s 45ms/step - loss: 8.9467e-05 - mae: 0.0104 - val_loss: 7.8193e-05 - val_mae: 0.0091\n",
            "Epoch 65/100\n",
            "327/327 [==============================] - 16s 49ms/step - loss: 9.3767e-05 - mae: 0.0106 - val_loss: 1.2268e-04 - val_mae: 0.0121\n",
            "Epoch 66/100\n",
            "327/327 [==============================] - 15s 45ms/step - loss: 8.8073e-05 - mae: 0.0104 - val_loss: 8.9418e-05 - val_mae: 0.0105\n",
            "Epoch 67/100\n",
            "327/327 [==============================] - 16s 48ms/step - loss: 9.0513e-05 - mae: 0.0104 - val_loss: 7.8044e-05 - val_mae: 0.0093\n",
            "Epoch 68/100\n",
            "327/327 [==============================] - 17s 51ms/step - loss: 8.9369e-05 - mae: 0.0104 - val_loss: 1.0484e-04 - val_mae: 0.0108\n",
            "Epoch 69/100\n",
            "327/327 [==============================] - 16s 48ms/step - loss: 9.3037e-05 - mae: 0.0106 - val_loss: 1.0195e-04 - val_mae: 0.0106\n",
            "Epoch 70/100\n",
            "327/327 [==============================] - 16s 48ms/step - loss: 8.6142e-05 - mae: 0.0101 - val_loss: 7.7418e-05 - val_mae: 0.0090\n",
            "Epoch 71/100\n",
            "327/327 [==============================] - 17s 51ms/step - loss: 9.1589e-05 - mae: 0.0104 - val_loss: 8.3313e-05 - val_mae: 0.0092\n",
            "Epoch 72/100\n",
            "327/327 [==============================] - 16s 48ms/step - loss: 9.3634e-05 - mae: 0.0107 - val_loss: 1.1111e-04 - val_mae: 0.0112\n",
            "Epoch 73/100\n",
            "327/327 [==============================] - 17s 50ms/step - loss: 8.4682e-05 - mae: 0.0101 - val_loss: 8.0679e-05 - val_mae: 0.0097\n",
            "Epoch 74/100\n",
            "327/327 [==============================] - 16s 50ms/step - loss: 8.4312e-05 - mae: 0.0101 - val_loss: 7.6572e-05 - val_mae: 0.0089\n",
            "Epoch 75/100\n",
            "327/327 [==============================] - 16s 48ms/step - loss: 8.2423e-05 - mae: 0.0099 - val_loss: 7.8692e-05 - val_mae: 0.0089\n",
            "Epoch 76/100\n",
            "327/327 [==============================] - 17s 52ms/step - loss: 8.0661e-05 - mae: 0.0098 - val_loss: 7.8520e-05 - val_mae: 0.0089\n",
            "Epoch 77/100\n",
            "327/327 [==============================] - 16s 49ms/step - loss: 9.0804e-05 - mae: 0.0104 - val_loss: 7.8400e-05 - val_mae: 0.0089\n",
            "Epoch 78/100\n",
            "327/327 [==============================] - 17s 50ms/step - loss: 8.6651e-05 - mae: 0.0103 - val_loss: 7.7945e-05 - val_mae: 0.0089\n",
            "Epoch 79/100\n",
            "327/327 [==============================] - 17s 50ms/step - loss: 9.3987e-05 - mae: 0.0106 - val_loss: 7.5921e-05 - val_mae: 0.0091\n",
            "Epoch 80/100\n",
            "327/327 [==============================] - 16s 50ms/step - loss: 8.8573e-05 - mae: 0.0102 - val_loss: 8.5399e-05 - val_mae: 0.0093\n",
            "Epoch 81/100\n",
            "327/327 [==============================] - 17s 52ms/step - loss: 8.4264e-05 - mae: 0.0101 - val_loss: 7.6512e-05 - val_mae: 0.0088\n",
            "Epoch 82/100\n",
            "327/327 [==============================] - 18s 55ms/step - loss: 8.9374e-05 - mae: 0.0103 - val_loss: 9.6273e-05 - val_mae: 0.0112\n",
            "Epoch 83/100\n",
            "327/327 [==============================] - 16s 50ms/step - loss: 8.0795e-05 - mae: 0.0098 - val_loss: 7.5240e-05 - val_mae: 0.0088\n",
            "Epoch 84/100\n",
            "327/327 [==============================] - 17s 51ms/step - loss: 8.2239e-05 - mae: 0.0099 - val_loss: 7.4481e-05 - val_mae: 0.0088\n",
            "Epoch 85/100\n",
            "327/327 [==============================] - 16s 48ms/step - loss: 8.6503e-05 - mae: 0.0103 - val_loss: 9.7759e-05 - val_mae: 0.0102\n",
            "Epoch 86/100\n",
            "327/327 [==============================] - 17s 50ms/step - loss: 8.3093e-05 - mae: 0.0100 - val_loss: 7.9892e-05 - val_mae: 0.0097\n",
            "Epoch 87/100\n",
            "327/327 [==============================] - 16s 49ms/step - loss: 7.8870e-05 - mae: 0.0098 - val_loss: 7.4394e-05 - val_mae: 0.0089\n",
            "Epoch 88/100\n",
            "327/327 [==============================] - 17s 51ms/step - loss: 8.4749e-05 - mae: 0.0101 - val_loss: 7.4145e-05 - val_mae: 0.0087\n",
            "Epoch 89/100\n",
            "327/327 [==============================] - 16s 48ms/step - loss: 8.1142e-05 - mae: 0.0100 - val_loss: 7.4126e-05 - val_mae: 0.0089\n",
            "Epoch 90/100\n",
            "327/327 [==============================] - 16s 48ms/step - loss: 8.0468e-05 - mae: 0.0099 - val_loss: 8.3618e-05 - val_mae: 0.0091\n",
            "Epoch 91/100\n",
            "327/327 [==============================] - 16s 48ms/step - loss: 7.9557e-05 - mae: 0.0098 - val_loss: 9.9209e-05 - val_mae: 0.0104\n",
            "Epoch 92/100\n",
            "327/327 [==============================] - 16s 48ms/step - loss: 8.0552e-05 - mae: 0.0098 - val_loss: 7.4143e-05 - val_mae: 0.0086\n",
            "Epoch 93/100\n",
            "327/327 [==============================] - 17s 52ms/step - loss: 7.6260e-05 - mae: 0.0096 - val_loss: 1.6190e-04 - val_mae: 0.0149\n",
            "Epoch 94/100\n",
            "327/327 [==============================] - 16s 49ms/step - loss: 8.0903e-05 - mae: 0.0100 - val_loss: 9.7752e-05 - val_mae: 0.0103\n",
            "Epoch 95/100\n",
            "327/327 [==============================] - 16s 48ms/step - loss: 8.1828e-05 - mae: 0.0099 - val_loss: 7.3139e-05 - val_mae: 0.0087\n",
            "Epoch 96/100\n",
            "327/327 [==============================] - 16s 47ms/step - loss: 7.8569e-05 - mae: 0.0098 - val_loss: 7.8223e-05 - val_mae: 0.0088\n",
            "Epoch 97/100\n",
            "327/327 [==============================] - 15s 45ms/step - loss: 7.5325e-05 - mae: 0.0095 - val_loss: 7.4302e-05 - val_mae: 0.0086\n",
            "Epoch 98/100\n",
            "327/327 [==============================] - 15s 45ms/step - loss: 7.8160e-05 - mae: 0.0098 - val_loss: 9.0256e-05 - val_mae: 0.0107\n",
            "Epoch 99/100\n",
            "327/327 [==============================] - 15s 47ms/step - loss: 7.6315e-05 - mae: 0.0097 - val_loss: 8.6020e-05 - val_mae: 0.0093\n",
            "Epoch 100/100\n",
            "327/327 [==============================] - 15s 46ms/step - loss: 7.4311e-05 - mae: 0.0095 - val_loss: 8.3261e-05 - val_mae: 0.0091\n"
          ]
        }
      ],
      "source": [
        "history2 = model.fit(train_ds, validation_data=test_ds, epochs=100)"
      ]
    },
    {
      "cell_type": "code",
      "execution_count": 54,
      "metadata": {
        "id": "yVRU9BEmJ640"
      },
      "outputs": [],
      "source": [
        "model.save('EURUSD1440.h5')"
      ]
    },
    {
      "cell_type": "code",
      "source": [
        ""
      ],
      "metadata": {
        "id": "Hm-ZXW7_WfsQ"
      },
      "execution_count": null,
      "outputs": []
    }
  ],
  "metadata": {
    "colab": {
      "name": "TimeSeries-EURUSD1440.ipynb",
      "provenance": []
    },
    "kernelspec": {
      "display_name": "Python 3",
      "name": "python3"
    },
    "language_info": {
      "name": "python"
    }
  },
  "nbformat": 4,
  "nbformat_minor": 0
}