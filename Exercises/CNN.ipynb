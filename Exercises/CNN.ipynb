{
  "cells": [
    {
      "cell_type": "markdown",
      "metadata": {
        "id": "view-in-github",
        "colab_type": "text"
      },
      "source": [
        "<a href=\"https://colab.research.google.com/github/EmilSeyfullayev/Tensorflow-Developer-Professional-Certificate/blob/main/Exercises/CNN.ipynb\" target=\"_parent\"><img src=\"https://colab.research.google.com/assets/colab-badge.svg\" alt=\"Open In Colab\"/></a>"
      ]
    },
    {
      "cell_type": "code",
      "execution_count": 4,
      "metadata": {
        "colab": {
          "base_uri": "https://localhost:8080/"
        },
        "id": "XKPzHvyQ2sIS",
        "outputId": "784d6e5a-c2cd-4d0d-f6bd-520029e78fb5"
      },
      "outputs": [
        {
          "output_type": "stream",
          "name": "stdout",
          "text": [
            "--2022-03-12 14:43:37--  https://storage.googleapis.com/mledu-datasets/cats_and_dogs_filtered.zip\n",
            "Resolving storage.googleapis.com (storage.googleapis.com)... 142.251.8.128, 64.233.189.128, 108.177.97.128, ...\n",
            "Connecting to storage.googleapis.com (storage.googleapis.com)|142.251.8.128|:443... connected.\n",
            "HTTP request sent, awaiting response... 200 OK\n",
            "Length: 68606236 (65M) [application/zip]\n",
            "Saving to: ‘/tmp/cats_and_dogs_filtered.zip’\n",
            "\n",
            "/tmp/cats_and_dogs_ 100%[===================>]  65.43M   161MB/s    in 0.4s    \n",
            "\n",
            "2022-03-12 14:43:38 (161 MB/s) - ‘/tmp/cats_and_dogs_filtered.zip’ saved [68606236/68606236]\n",
            "\n"
          ]
        }
      ],
      "source": [
        "!wget --no-check-certificate \\\n",
        "    https://storage.googleapis.com/mledu-datasets/cats_and_dogs_filtered.zip \\\n",
        "    -O /tmp/cats_and_dogs_filtered.zip\n",
        "  "
      ]
    },
    {
      "cell_type": "code",
      "execution_count": 5,
      "metadata": {
        "id": "cKDFXpme2OSJ"
      },
      "outputs": [],
      "source": [
        "import os\n",
        "import zipfile\n",
        "\n",
        "local_zip = '/tmp/cats_and_dogs_filtered.zip'\n",
        "zip_ref = zipfile.ZipFile(local_zip, 'r')\n",
        "zip_ref.extractall('/tmp')\n",
        "zip_ref.close()"
      ]
    },
    {
      "cell_type": "code",
      "execution_count": 6,
      "metadata": {
        "id": "y1JdwP1g2fI5"
      },
      "outputs": [],
      "source": [
        "train_dir = '/tmp/cats_and_dogs_filtered/train'\n",
        "validation_dir = '/tmp/cats_and_dogs_filtered/validation'"
      ]
    },
    {
      "cell_type": "code",
      "execution_count": 7,
      "metadata": {
        "colab": {
          "base_uri": "https://localhost:8080/"
        },
        "id": "bSd7iwNB4G7u",
        "outputId": "e01cb2df-8ac9-4178-e420-24f7a0aaa7c0"
      },
      "outputs": [
        {
          "output_type": "execute_result",
          "data": {
            "text/plain": [
              "['cats', 'dogs']"
            ]
          },
          "metadata": {},
          "execution_count": 7
        }
      ],
      "source": [
        "os.listdir(train_dir)"
      ]
    },
    {
      "cell_type": "code",
      "execution_count": 8,
      "metadata": {
        "colab": {
          "base_uri": "https://localhost:8080/"
        },
        "id": "EmLqsjSl4I4N",
        "outputId": "78d4de1a-e229-4f53-9373-1188962db733"
      },
      "outputs": [
        {
          "output_type": "execute_result",
          "data": {
            "text/plain": [
              "2"
            ]
          },
          "metadata": {},
          "execution_count": 8
        }
      ],
      "source": [
        "len(os.listdir(train_dir))"
      ]
    },
    {
      "cell_type": "code",
      "execution_count": 9,
      "metadata": {
        "colab": {
          "base_uri": "https://localhost:8080/"
        },
        "id": "AGpmycLV48aO",
        "outputId": "5fb33b8e-eab4-48dd-9f6b-0776f468853a"
      },
      "outputs": [
        {
          "output_type": "execute_result",
          "data": {
            "text/plain": [
              "1000"
            ]
          },
          "metadata": {},
          "execution_count": 9
        }
      ],
      "source": [
        "len(os.listdir(f'{train_dir}/dogs'))"
      ]
    },
    {
      "cell_type": "code",
      "execution_count": 10,
      "metadata": {
        "id": "rNZzxJiR5IKY",
        "colab": {
          "base_uri": "https://localhost:8080/"
        },
        "outputId": "583d01ef-58c4-45e0-c1f5-9150f8e951fd"
      },
      "outputs": [
        {
          "output_type": "execute_result",
          "data": {
            "text/plain": [
              "1000"
            ]
          },
          "metadata": {},
          "execution_count": 10
        }
      ],
      "source": [
        "len(os.listdir(f'{train_dir}/cats'))"
      ]
    },
    {
      "cell_type": "code",
      "execution_count": 11,
      "metadata": {
        "id": "YcPFQHmJ5M2W"
      },
      "outputs": [],
      "source": [
        "import tensorflow as tf"
      ]
    },
    {
      "cell_type": "code",
      "execution_count": 29,
      "metadata": {
        "id": "EP_MQha_6xqk"
      },
      "outputs": [],
      "source": [
        "from tensorflow.keras.preprocessing.image import ImageDataGenerator"
      ]
    },
    {
      "cell_type": "code",
      "execution_count": 30,
      "metadata": {
        "id": "HswwEXRm6-Jb"
      },
      "outputs": [],
      "source": [
        "generator_for_train = ImageDataGenerator(\n",
        "      rescale=1./255,\n",
        "      rotation_range=40,\n",
        "      width_shift_range=0.2,\n",
        "      height_shift_range=0.2,\n",
        "      shear_range=0.2,\n",
        "      zoom_range=0.2,\n",
        "      horizontal_flip=True,\n",
        "      fill_mode='nearest')"
      ]
    },
    {
      "cell_type": "code",
      "execution_count": 31,
      "metadata": {
        "colab": {
          "base_uri": "https://localhost:8080/"
        },
        "id": "PTvB4oCp7Txh",
        "outputId": "7b6b0b00-adc2-4e89-d6b5-0adb68c45247"
      },
      "outputs": [
        {
          "output_type": "stream",
          "name": "stdout",
          "text": [
            "Found 2000 images belonging to 2 classes.\n"
          ]
        }
      ],
      "source": [
        "train_generator = generator_for_train.flow_from_directory(\n",
        "    train_dir,\n",
        "    target_size = (150, 150),\n",
        "    batch_size = 20,\n",
        "    class_mode = 'binary'\n",
        ")"
      ]
    },
    {
      "cell_type": "code",
      "execution_count": 32,
      "metadata": {
        "colab": {
          "base_uri": "https://localhost:8080/"
        },
        "id": "RcizAP2k8Ujh",
        "outputId": "f57a2c6b-e345-48b3-80c2-657a857524e3"
      },
      "outputs": [
        {
          "output_type": "stream",
          "name": "stdout",
          "text": [
            "Found 1000 images belonging to 2 classes.\n"
          ]
        }
      ],
      "source": [
        "validation_generator = ImageDataGenerator(rescale=1./255).flow_from_directory(\n",
        "    validation_dir, \n",
        "    target_size = (150, 150),\n",
        "    batch_size = 20,\n",
        "    class_mode = 'binary'\n",
        ")"
      ]
    },
    {
      "cell_type": "code",
      "execution_count": 16,
      "metadata": {
        "id": "yZg9xIR59rOr"
      },
      "outputs": [],
      "source": [
        "from tensorflow.keras.models import Sequential\n",
        "from tensorflow.keras.layers import Dense, Conv2D, MaxPooling2D, Flatten, Dropout"
      ]
    },
    {
      "cell_type": "code",
      "execution_count": null,
      "metadata": {
        "id": "TLSzfsQq-CHv"
      },
      "outputs": [],
      "source": [
        "model = Sequential([\n",
        "    Conv2D(16, (3,3), activation='relu', input_shape=(150, 150, 3)),\n",
        "    MaxPooling2D((2,2)),\n",
        "    Conv2D(32, (3,3), activation='relu'),\n",
        "    MaxPooling2D((2,2)),\n",
        "    Conv2D(64, (3,3), activation='relu'),\n",
        "    MaxPooling2D((2,2)),\n",
        "    Conv2D(128, (3,3), activation='relu'),\n",
        "    MaxPooling2D((2,2)),\n",
        "    Flatten(),\n",
        "    Dense(512, activation='relu'),\n",
        "    Dense(1, activation='sigmoid')\n",
        "])"
      ]
    },
    {
      "cell_type": "code",
      "execution_count": null,
      "metadata": {
        "colab": {
          "base_uri": "https://localhost:8080/"
        },
        "id": "ad5ZC6yP_Tcw",
        "outputId": "0be9fc36-eff8-4866-d7d7-6318a4d023c6"
      },
      "outputs": [
        {
          "name": "stdout",
          "output_type": "stream",
          "text": [
            "Model: \"sequential_1\"\n",
            "_________________________________________________________________\n",
            " Layer (type)                Output Shape              Param #   \n",
            "=================================================================\n",
            " conv2d_3 (Conv2D)           (None, 148, 148, 16)      448       \n",
            "                                                                 \n",
            " max_pooling2d_3 (MaxPooling  (None, 74, 74, 16)       0         \n",
            " 2D)                                                             \n",
            "                                                                 \n",
            " conv2d_4 (Conv2D)           (None, 72, 72, 32)        4640      \n",
            "                                                                 \n",
            " max_pooling2d_4 (MaxPooling  (None, 36, 36, 32)       0         \n",
            " 2D)                                                             \n",
            "                                                                 \n",
            " conv2d_5 (Conv2D)           (None, 34, 34, 64)        18496     \n",
            "                                                                 \n",
            " max_pooling2d_5 (MaxPooling  (None, 17, 17, 64)       0         \n",
            " 2D)                                                             \n",
            "                                                                 \n",
            " conv2d_6 (Conv2D)           (None, 15, 15, 128)       73856     \n",
            "                                                                 \n",
            " max_pooling2d_6 (MaxPooling  (None, 7, 7, 128)        0         \n",
            " 2D)                                                             \n",
            "                                                                 \n",
            " flatten_1 (Flatten)         (None, 6272)              0         \n",
            "                                                                 \n",
            " dense_2 (Dense)             (None, 512)               3211776   \n",
            "                                                                 \n",
            " dense_3 (Dense)             (None, 1)                 513       \n",
            "                                                                 \n",
            "=================================================================\n",
            "Total params: 3,309,729\n",
            "Trainable params: 3,309,729\n",
            "Non-trainable params: 0\n",
            "_________________________________________________________________\n"
          ]
        }
      ],
      "source": [
        "model.summary()"
      ]
    },
    {
      "cell_type": "code",
      "execution_count": null,
      "metadata": {
        "id": "EgFUp0bD_Wcy"
      },
      "outputs": [],
      "source": [
        "model.compile(\n",
        "    loss = 'binary_crossentropy',\n",
        "    optimizer = 'adam',\n",
        "    metrics = ['accuracy']\n",
        ")"
      ]
    },
    {
      "cell_type": "code",
      "execution_count": 19,
      "metadata": {
        "colab": {
          "base_uri": "https://localhost:8080/"
        },
        "id": "IyFIG0mO80RC",
        "outputId": "3c46b7c6-13e1-4354-fbed-99224005d42b"
      },
      "outputs": [
        {
          "output_type": "stream",
          "name": "stdout",
          "text": [
            "Epoch 1/10\n",
            "100/100 [==============================] - 17s 169ms/step - loss: 0.6026 - accuracy: 0.6815 - val_loss: 0.5820 - val_accuracy: 0.6940\n",
            "Epoch 2/10\n",
            "100/100 [==============================] - 17s 169ms/step - loss: 0.5939 - accuracy: 0.6820 - val_loss: 0.6178 - val_accuracy: 0.6500\n",
            "Epoch 3/10\n",
            "100/100 [==============================] - 17s 175ms/step - loss: 0.5921 - accuracy: 0.6835 - val_loss: 0.5644 - val_accuracy: 0.7100\n",
            "Epoch 4/10\n",
            "100/100 [==============================] - 17s 169ms/step - loss: 0.5813 - accuracy: 0.7020 - val_loss: 0.5703 - val_accuracy: 0.7030\n",
            "Epoch 5/10\n",
            "100/100 [==============================] - 17s 167ms/step - loss: 0.5858 - accuracy: 0.6855 - val_loss: 0.5369 - val_accuracy: 0.7180\n",
            "Epoch 6/10\n",
            "100/100 [==============================] - 17s 166ms/step - loss: 0.5745 - accuracy: 0.7010 - val_loss: 0.5287 - val_accuracy: 0.7380\n",
            "Epoch 7/10\n",
            "100/100 [==============================] - 17s 167ms/step - loss: 0.5600 - accuracy: 0.7055 - val_loss: 0.6742 - val_accuracy: 0.6680\n",
            "Epoch 8/10\n",
            "100/100 [==============================] - 17s 166ms/step - loss: 0.5582 - accuracy: 0.7095 - val_loss: 0.5172 - val_accuracy: 0.7320\n",
            "Epoch 9/10\n",
            "100/100 [==============================] - 17s 170ms/step - loss: 0.5413 - accuracy: 0.7250 - val_loss: 0.5847 - val_accuracy: 0.7080\n",
            "Epoch 10/10\n",
            "100/100 [==============================] - 17s 167ms/step - loss: 0.5541 - accuracy: 0.7250 - val_loss: 0.5501 - val_accuracy: 0.7380\n"
          ]
        }
      ],
      "source": [
        "history = model.fit(\n",
        "    train_generator, \n",
        "    steps_per_epoch = 100, # 2000 images divided by 20 (batch_size)\n",
        "    epochs = 10,\n",
        "    validation_data = validation_generator,\n",
        "    validation_steps = 50, # 1000 images divided by 20\n",
        ")"
      ]
    },
    {
      "cell_type": "code",
      "execution_count": 21,
      "metadata": {
        "id": "epnuq0aF_5dg",
        "colab": {
          "base_uri": "https://localhost:8080/",
          "height": 545
        },
        "outputId": "2ee16f29-9b8f-4a51-8005-7fdef3dbae15"
      },
      "outputs": [
        {
          "output_type": "display_data",
          "data": {
            "text/plain": [
              "<Figure size 432x288 with 1 Axes>"
            ],
            "image/png": "[encoded data removed]"
          },
          "metadata": {
            "needs_background": "light"
          }
        },
        {
          "output_type": "display_data",
          "data": {
            "text/plain": [
              "<Figure size 432x288 with 1 Axes>"
            ],
            "image/png": "[encoded data removed]"
          },
          "metadata": {
            "needs_background": "light"
          }
        }
      ],
      "source": [
        "import matplotlib.pyplot as plt\n",
        "acc = history.history['accuracy']\n",
        "val_acc = history.history['val_accuracy']\n",
        "loss = history.history['loss']\n",
        "val_loss = history.history['val_loss']\n",
        "\n",
        "epochs = range(len(acc))\n",
        "\n",
        "plt.plot(epochs, acc, 'bo', label='Training accuracy')\n",
        "plt.plot(epochs, val_acc, 'b', label='Validation accuracy')\n",
        "plt.title('Training and validation accuracy')\n",
        "\n",
        "plt.figure()\n",
        "\n",
        "plt.plot(epochs, loss, 'bo', label='Training Loss')\n",
        "plt.plot(epochs, val_loss, 'b', label='Validation Loss')\n",
        "plt.title('Training and validation loss')\n",
        "plt.legend()\n",
        "\n",
        "plt.show()"
      ]
    },
    {
      "cell_type": "markdown",
      "source": [
        "### Transfer Learning"
      ],
      "metadata": {
        "id": "Q6oLrbj5ll6f"
      }
    },
    {
      "cell_type": "code",
      "source": [
        "efficientb4_url = \"https://tfhub.dev/tensorflow/efficientnet/b4/classification/1\""
      ],
      "metadata": {
        "id": "_jQo4PiBgl-R"
      },
      "execution_count": 19,
      "outputs": []
    },
    {
      "cell_type": "code",
      "source": [
        "import tensorflow_hub as hub"
      ],
      "metadata": {
        "id": "KzVEmQCWhAnS"
      },
      "execution_count": 20,
      "outputs": []
    },
    {
      "cell_type": "code",
      "source": [
        "from tensorflow.keras.applications.resnet_v2 import ResNet101V2"
      ],
      "metadata": {
        "id": "7EH3V_ANhb8f"
      },
      "execution_count": 55,
      "outputs": []
    },
    {
      "cell_type": "code",
      "source": [
        "pretrained_model = ResNet101V2(\n",
        "    input_shape=(150, 150, 3),\n",
        "    include_top = False\n",
        ")"
      ],
      "metadata": {
        "colab": {
          "base_uri": "https://localhost:8080/"
        },
        "id": "6BSoCj3kil3k",
        "outputId": "b921b41d-cec1-44bf-a5d6-7f0f65bfabc7"
      },
      "execution_count": 56,
      "outputs": [
        {
          "output_type": "stream",
          "name": "stdout",
          "text": [
            "Downloading data from https://storage.googleapis.com/tensorflow/keras-applications/resnet/resnet101v2_weights_tf_dim_ordering_tf_kernels_notop.h5\n",
            "171319296/171317808 [==============================] - 5s 0us/step\n",
            "171327488/171317808 [==============================] - 5s 0us/step\n"
          ]
        }
      ]
    },
    {
      "cell_type": "code",
      "source": [
        "for layer in pretrained_model.layers:\n",
        "  layer.trainable = False"
      ],
      "metadata": {
        "id": "vDoCHuwAjDfF"
      },
      "execution_count": 57,
      "outputs": []
    },
    {
      "cell_type": "code",
      "source": [
        "last_layer = pretrained_model.layers[-1]"
      ],
      "metadata": {
        "id": "2bYPATzDjcKc"
      },
      "execution_count": 58,
      "outputs": []
    },
    {
      "cell_type": "code",
      "source": [
        "last_layer"
      ],
      "metadata": {
        "colab": {
          "base_uri": "https://localhost:8080/"
        },
        "id": "-WerxXKkjc7Z",
        "outputId": "686fe116-3a70-495f-a783-f74f04b914fa"
      },
      "execution_count": 59,
      "outputs": [
        {
          "output_type": "execute_result",
          "data": {
            "text/plain": [
              "<keras.layers.core.activation.Activation at 0x7f6bc27aae50>"
            ]
          },
          "metadata": {},
          "execution_count": 59
        }
      ]
    },
    {
      "cell_type": "code",
      "source": [
        "print('last layer output shape: ', last_layer.output_shape)\n",
        "last_output = last_layer.output"
      ],
      "metadata": {
        "colab": {
          "base_uri": "https://localhost:8080/"
        },
        "id": "Sa6f5keFjJ8n",
        "outputId": "60b00b8e-7c71-4f47-a7ae-865b987752d9"
      },
      "execution_count": 60,
      "outputs": [
        {
          "output_type": "stream",
          "name": "stdout",
          "text": [
            "last layer output shape:  (None, 5, 5, 2048)\n"
          ]
        }
      ]
    },
    {
      "cell_type": "code",
      "source": [
        "from tensorflow.keras.optimizers import RMSprop\n",
        "from tensorflow.keras import Model\n",
        "\n",
        "# Flatten the output layer to 1 dimension\n",
        "x = Flatten()(last_output)\n",
        "# Add a fully connected layer with 1,024 hidden units and ReLU activation\n",
        "x = Dense(1024, activation='relu')(x)\n",
        "# Add a dropout rate of 0.2\n",
        "x = Dropout(0.6)(x)                  \n",
        "# Add a final sigmoid layer for classification\n",
        "x = Dense  (1, activation='sigmoid')(x)           \n",
        "\n",
        "model = Model(pretrained_model.input, x) \n",
        "\n",
        "model.compile(optimizer = RMSprop(), \n",
        "              loss = 'binary_crossentropy', \n",
        "              metrics = ['accuracy'])"
      ],
      "metadata": {
        "id": "iyV4WoLWjjOo"
      },
      "execution_count": 61,
      "outputs": []
    },
    {
      "cell_type": "code",
      "source": [
        "history = model.fit(\n",
        "            train_generator,\n",
        "            validation_data = validation_generator,\n",
        "            steps_per_epoch = 100,\n",
        "            epochs = 20,\n",
        "            validation_steps = 50,\n",
        "            verbose = 2)"
      ],
      "metadata": {
        "colab": {
          "base_uri": "https://localhost:8080/"
        },
        "id": "uTWt0L4TkS-V",
        "outputId": "3894b172-5787-4870-93fe-18d31c751e45"
      },
      "execution_count": 64,
      "outputs": [
        {
          "output_type": "stream",
          "name": "stdout",
          "text": [
            "Epoch 1/20\n",
            "100/100 - 31s - loss: 0.9591 - accuracy: 0.9290 - val_loss: 0.4498 - val_accuracy: 0.9670 - 31s/epoch - 308ms/step\n",
            "Epoch 2/20\n",
            "100/100 - 31s - loss: 1.0987 - accuracy: 0.9165 - val_loss: 0.3367 - val_accuracy: 0.9740 - 31s/epoch - 307ms/step\n",
            "Epoch 3/20\n",
            "100/100 - 31s - loss: 0.8355 - accuracy: 0.9280 - val_loss: 0.3591 - val_accuracy: 0.9690 - 31s/epoch - 308ms/step\n",
            "Epoch 4/20\n",
            "100/100 - 30s - loss: 0.8530 - accuracy: 0.9235 - val_loss: 0.2653 - val_accuracy: 0.9800 - 30s/epoch - 304ms/step\n",
            "Epoch 5/20\n",
            "100/100 - 30s - loss: 0.7363 - accuracy: 0.9175 - val_loss: 0.3026 - val_accuracy: 0.9690 - 30s/epoch - 302ms/step\n",
            "Epoch 6/20\n",
            "100/100 - 31s - loss: 0.8078 - accuracy: 0.9320 - val_loss: 0.5235 - val_accuracy: 0.9570 - 31s/epoch - 308ms/step\n",
            "Epoch 7/20\n",
            "100/100 - 31s - loss: 0.7706 - accuracy: 0.9265 - val_loss: 0.4353 - val_accuracy: 0.9680 - 31s/epoch - 309ms/step\n",
            "Epoch 8/20\n",
            "100/100 - 31s - loss: 0.7953 - accuracy: 0.9315 - val_loss: 0.4175 - val_accuracy: 0.9700 - 31s/epoch - 305ms/step\n",
            "Epoch 9/20\n",
            "100/100 - 30s - loss: 0.8269 - accuracy: 0.9310 - val_loss: 0.3666 - val_accuracy: 0.9710 - 30s/epoch - 304ms/step\n",
            "Epoch 10/20\n",
            "100/100 - 30s - loss: 0.6160 - accuracy: 0.9385 - val_loss: 0.3453 - val_accuracy: 0.9740 - 30s/epoch - 304ms/step\n",
            "Epoch 11/20\n",
            "100/100 - 30s - loss: 0.7637 - accuracy: 0.9275 - val_loss: 0.3016 - val_accuracy: 0.9720 - 30s/epoch - 303ms/step\n",
            "Epoch 12/20\n",
            "100/100 - 30s - loss: 0.5678 - accuracy: 0.9380 - val_loss: 0.2754 - val_accuracy: 0.9690 - 30s/epoch - 305ms/step\n",
            "Epoch 13/20\n",
            "100/100 - 30s - loss: 0.6169 - accuracy: 0.9375 - val_loss: 0.5330 - val_accuracy: 0.9620 - 30s/epoch - 302ms/step\n",
            "Epoch 14/20\n",
            "100/100 - 31s - loss: 0.5370 - accuracy: 0.9450 - val_loss: 0.3161 - val_accuracy: 0.9760 - 31s/epoch - 306ms/step\n",
            "Epoch 15/20\n",
            "100/100 - 31s - loss: 0.6642 - accuracy: 0.9395 - val_loss: 0.3251 - val_accuracy: 0.9730 - 31s/epoch - 306ms/step\n",
            "Epoch 16/20\n",
            "100/100 - 31s - loss: 0.5457 - accuracy: 0.9460 - val_loss: 0.2734 - val_accuracy: 0.9790 - 31s/epoch - 309ms/step\n",
            "Epoch 17/20\n",
            "100/100 - 31s - loss: 0.5605 - accuracy: 0.9445 - val_loss: 0.3224 - val_accuracy: 0.9730 - 31s/epoch - 310ms/step\n",
            "Epoch 18/20\n",
            "100/100 - 31s - loss: 0.5953 - accuracy: 0.9405 - val_loss: 0.2623 - val_accuracy: 0.9710 - 31s/epoch - 308ms/step\n",
            "Epoch 19/20\n",
            "100/100 - 31s - loss: 0.4513 - accuracy: 0.9505 - val_loss: 0.3173 - val_accuracy: 0.9750 - 31s/epoch - 307ms/step\n",
            "Epoch 20/20\n",
            "100/100 - 31s - loss: 0.4268 - accuracy: 0.9530 - val_loss: 0.2904 - val_accuracy: 0.9690 - 31s/epoch - 308ms/step\n"
          ]
        }
      ]
    },
    {
      "cell_type": "code",
      "source": [
        ""
      ],
      "metadata": {
        "id": "N51bzuyDslAJ"
      },
      "execution_count": null,
      "outputs": []
    }
  ],
  "metadata": {
    "accelerator": "GPU",
    "colab": {
      "name": "CNN.ipynb",
      "provenance": [],
      "authorship_tag": "ABX9TyM+nPrhDpnGqzzSIqgzpMwo",
      "include_colab_link": true
    },
    "kernelspec": {
      "display_name": "Python 3",
      "name": "python3"
    },
    "language_info": {
      "name": "python"
    }
  },
  "nbformat": 4,
  "nbformat_minor": 0
}