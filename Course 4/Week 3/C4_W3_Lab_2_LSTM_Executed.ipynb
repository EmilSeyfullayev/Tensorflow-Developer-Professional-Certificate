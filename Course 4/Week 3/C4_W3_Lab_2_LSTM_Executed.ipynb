{
  "cells": [
    {
      "cell_type": "markdown",
      "metadata": {
        "id": "Y9fhbH_p5Mw5"
      },
      "source": [
        "<a href=\"https://colab.research.google.com/github/https-deeplearning-ai/tensorflow-1-public/blob/main/C4/W3/ungraded_labs/C4_W3_Lab_2_LSTM.ipynb\" target=\"_parent\"><img src=\"https://colab.research.google.com/assets/colab-badge.svg\" alt=\"Open In Colab\"/></a>"
      ]
    },
    {
      "cell_type": "markdown",
      "metadata": {
        "id": "sV_nvXSQGJPK"
      },
      "source": [
        "# Ungraded Lab: Using a multi-layer LSTM for forecasting\n",
        "\n",
        "In this lab, you will use the same RNN architecure in the first lab but will instead stack [LSTM](https://www.tensorflow.org/api_docs/python/tf/keras/layers/LSTM) layers instead of `SimpleRNN`."
      ]
    },
    {
      "cell_type": "markdown",
      "metadata": {
        "id": "3IMbAWETGOWD"
      },
      "source": [
        "## Imports"
      ]
    },
    {
      "cell_type": "code",
      "execution_count": 1,
      "metadata": {
        "id": "BOjujz601HcS"
      },
      "outputs": [],
      "source": [
        "import tensorflow as tf\n",
        "import numpy as np\n",
        "import matplotlib.pyplot as plt"
      ]
    },
    {
      "cell_type": "markdown",
      "metadata": {
        "id": "kD7RQQ0xGQVH"
      },
      "source": [
        "## Utilities"
      ]
    },
    {
      "cell_type": "code",
      "execution_count": 2,
      "metadata": {
        "id": "Zswl7jRtGzkk"
      },
      "outputs": [],
      "source": [
        "def plot_series(time, series, format=\"-\", start=0, end=None):\n",
        "    \"\"\"\n",
        "    Visualizes time series data\n",
        "\n",
        "    Args:\n",
        "      time (array of int) - contains the time steps\n",
        "      series (array of int) - contains the measurements for each time step\n",
        "      format - line style when plotting the graph\n",
        "      start - first time step to plot\n",
        "      end - last time step to plot\n",
        "    \"\"\"\n",
        "\n",
        "    # Setup dimensions of the graph figure\n",
        "    plt.figure(figsize=(10, 6))\n",
        "    \n",
        "    if type(series) is tuple:\n",
        "\n",
        "      for series_num in series:\n",
        "        # Plot the time series data\n",
        "        plt.plot(time[start:end], series_num[start:end], format)\n",
        "\n",
        "    else:\n",
        "      # Plot the time series data\n",
        "      plt.plot(time[start:end], series[start:end], format)\n",
        "\n",
        "    # Label the x-axis\n",
        "    plt.xlabel(\"Time\")\n",
        "\n",
        "    # Label the y-axis\n",
        "    plt.ylabel(\"Value\")\n",
        "\n",
        "    # Overlay a grid on the graph\n",
        "    plt.grid(True)\n",
        "\n",
        "    # Draw the graph on screen\n",
        "    plt.show()\n",
        "\n",
        "def trend(time, slope=0):\n",
        "    \"\"\"\n",
        "    Generates synthetic data that follows a straight line given a slope value.\n",
        "\n",
        "    Args:\n",
        "      time (array of int) - contains the time steps\n",
        "      slope (float) - determines the direction and steepness of the line\n",
        "\n",
        "    Returns:\n",
        "      series (array of float) - measurements that follow a straight line\n",
        "    \"\"\"\n",
        "\n",
        "    # Compute the linear series given the slope\n",
        "    series = slope * time\n",
        "\n",
        "    return series\n",
        "\n",
        "def seasonal_pattern(season_time):\n",
        "    \"\"\"\n",
        "    Just an arbitrary pattern, you can change it if you wish\n",
        "    \n",
        "    Args:\n",
        "      season_time (array of float) - contains the measurements per time step\n",
        "\n",
        "    Returns:\n",
        "      data_pattern (array of float) -  contains revised measurement values according \n",
        "                                  to the defined pattern\n",
        "    \"\"\"\n",
        "\n",
        "    # Generate the values using an arbitrary pattern\n",
        "    data_pattern = np.where(season_time < 0.4,\n",
        "                    np.cos(season_time * 2 * np.pi),\n",
        "                    1 / np.exp(3 * season_time))\n",
        "    \n",
        "    return data_pattern\n",
        "\n",
        "def seasonality(time, period, amplitude=1, phase=0):\n",
        "    \"\"\"\n",
        "    Repeats the same pattern at each period\n",
        "\n",
        "    Args:\n",
        "      time (array of int) - contains the time steps\n",
        "      period (int) - number of time steps before the pattern repeats\n",
        "      amplitude (int) - peak measured value in a period\n",
        "      phase (int) - number of time steps to shift the measured values\n",
        "\n",
        "    Returns:\n",
        "      data_pattern (array of float) - seasonal data scaled by the defined amplitude\n",
        "    \"\"\"\n",
        "    \n",
        "    # Define the measured values per period\n",
        "    season_time = ((time + phase) % period) / period\n",
        "\n",
        "    # Generates the seasonal data scaled by the defined amplitude\n",
        "    data_pattern = amplitude * seasonal_pattern(season_time)\n",
        "\n",
        "    return data_pattern\n",
        "\n",
        "def noise(time, noise_level=1, seed=None):\n",
        "    \"\"\"Generates a normally distributed noisy signal\n",
        "\n",
        "    Args:\n",
        "      time (array of int) - contains the time steps\n",
        "      noise_level (float) - scaling factor for the generated signal\n",
        "      seed (int) - number generator seed for repeatability\n",
        "\n",
        "    Returns:\n",
        "      noise (array of float) - the noisy signal\n",
        "    \"\"\"\n",
        "\n",
        "    # Initialize the random number generator\n",
        "    rnd = np.random.RandomState(seed)\n",
        "\n",
        "    # Generate a random number for each time step and scale by the noise level\n",
        "    noise = rnd.randn(len(time)) * noise_level\n",
        "    \n",
        "    return noise"
      ]
    },
    {
      "cell_type": "markdown",
      "metadata": {
        "id": "yxNyeFWjGSdj"
      },
      "source": [
        "## Generate the Synthetic Data"
      ]
    },
    {
      "cell_type": "code",
      "execution_count": 3,
      "metadata": {
        "id": "KYEUfDbdpHPm",
        "colab": {
          "base_uri": "https://localhost:8080/",
          "height": 388
        },
        "outputId": "3457b593-77f7-42e2-fb07-d25ef17a5c69"
      },
      "outputs": [
        {
          "output_type": "display_data",
          "data": {
            "text/plain": [
              "<Figure size 720x432 with 1 Axes>"
            ],
            "image/png": "[encoded data removed]"
          },
          "metadata": {
            "needs_background": "light"
          }
        }
      ],
      "source": [
        "# Parameters\n",
        "time = np.arange(4 * 365 + 1, dtype=\"float32\")\n",
        "baseline = 10\n",
        "amplitude = 40\n",
        "slope = 0.05\n",
        "noise_level = 5\n",
        "\n",
        "# Create the series\n",
        "series = baseline + trend(time, slope) + seasonality(time, period=365, amplitude=amplitude)\n",
        "\n",
        "# Update with noise\n",
        "series += noise(time, noise_level, seed=42)\n",
        "\n",
        "# Plot the results\n",
        "plot_series(time, series)"
      ]
    },
    {
      "cell_type": "markdown",
      "metadata": {
        "id": "MYKCvv-eGWRc"
      },
      "source": [
        "## Split the Dataset"
      ]
    },
    {
      "cell_type": "code",
      "execution_count": 4,
      "metadata": {
        "id": "hpp0slenpKVD"
      },
      "outputs": [],
      "source": [
        "# Define the split time\n",
        "split_time = 1000\n",
        "\n",
        "# Get the train set \n",
        "time_train = time[:split_time]\n",
        "x_train = series[:split_time]\n",
        "\n",
        "# Get the validation set\n",
        "time_valid = time[split_time:]\n",
        "x_valid = series[split_time:]"
      ]
    },
    {
      "cell_type": "markdown",
      "metadata": {
        "id": "cktHz9aOGYtV"
      },
      "source": [
        "## Prepare Features and Labels"
      ]
    },
    {
      "cell_type": "code",
      "execution_count": 5,
      "metadata": {
        "id": "G_j_2_Mqwn7-"
      },
      "outputs": [],
      "source": [
        "# Parameters\n",
        "window_size = 20\n",
        "batch_size = 32\n",
        "shuffle_buffer_size = 1000"
      ]
    },
    {
      "cell_type": "code",
      "execution_count": 6,
      "metadata": {
        "id": "4sTTIOCbyShY"
      },
      "outputs": [],
      "source": [
        "def windowed_dataset(series, window_size, batch_size, shuffle_buffer):\n",
        "    \"\"\"Generates dataset windows\n",
        "\n",
        "    Args:\n",
        "      series (array of float) - contains the values of the time series\n",
        "      window_size (int) - the number of time steps to include in the feature\n",
        "      batch_size (int) - the batch size\n",
        "      shuffle_buffer(int) - buffer size to use for the shuffle method\n",
        "\n",
        "    Returns:\n",
        "      dataset (TF Dataset) - TF Dataset containing time windows\n",
        "    \"\"\"\n",
        "  \n",
        "    # Generate a TF Dataset from the series values\n",
        "    dataset = tf.data.Dataset.from_tensor_slices(series)\n",
        "    \n",
        "    # Window the data but only take those with the specified size\n",
        "    dataset = dataset.window(window_size + 1, shift=1, drop_remainder=True)\n",
        "    \n",
        "    # Flatten the windows by putting its elements in a single batch\n",
        "    dataset = dataset.flat_map(lambda window: window.batch(window_size + 1))\n",
        "\n",
        "    # Create tuples with features and labels \n",
        "    dataset = dataset.map(lambda window: (window[:-1], window[-1]))\n",
        "\n",
        "    # Shuffle the windows\n",
        "    dataset = dataset.shuffle(shuffle_buffer)\n",
        "    \n",
        "    # Create batches of windows\n",
        "    dataset = dataset.batch(batch_size).prefetch(1)\n",
        "    \n",
        "    return dataset"
      ]
    },
    {
      "cell_type": "code",
      "execution_count": 7,
      "metadata": {
        "id": "vGj5-InSwtQQ"
      },
      "outputs": [],
      "source": [
        "# Generate the dataset windows\n",
        "dataset = windowed_dataset(x_train, window_size, batch_size, shuffle_buffer_size)"
      ]
    },
    {
      "cell_type": "markdown",
      "metadata": {
        "id": "p9-Ke8ZaGcjd"
      },
      "source": [
        "## Build the Model\n",
        "\n",
        "As mentioned, you will swap `SimpleRNN` for `LSTM` in this lab. It is also set as bidirectional below but feel free to revise later and see what results you get. LSTMs are much more complex in their internal architecture than simpleRNNs. It implements a cell state that allows it to remember sequences better than simple implementations. This added complexity results in a bigger set of parameters to train and you'll see that when you print the model summary below."
      ]
    },
    {
      "cell_type": "code",
      "execution_count": 8,
      "metadata": {
        "id": "A1Hl39rklkLm",
        "colab": {
          "base_uri": "https://localhost:8080/"
        },
        "outputId": "6e16d6c2-344a-4740-8d4f-c76bf4e0461f"
      },
      "outputs": [
        {
          "output_type": "stream",
          "name": "stdout",
          "text": [
            "Model: \"sequential\"\n",
            "_________________________________________________________________\n",
            " Layer (type)                Output Shape              Param #   \n",
            "=================================================================\n",
            " lambda (Lambda)             (None, 20, 1)             0         \n",
            "                                                                 \n",
            " bidirectional (Bidirectiona  (None, 20, 64)           8704      \n",
            " l)                                                              \n",
            "                                                                 \n",
            " bidirectional_1 (Bidirectio  (None, 64)               24832     \n",
            " nal)                                                            \n",
            "                                                                 \n",
            " dense (Dense)               (None, 1)                 65        \n",
            "                                                                 \n",
            " lambda_1 (Lambda)           (None, 1)                 0         \n",
            "                                                                 \n",
            "=================================================================\n",
            "Total params: 33,601\n",
            "Trainable params: 33,601\n",
            "Non-trainable params: 0\n",
            "_________________________________________________________________\n"
          ]
        }
      ],
      "source": [
        "# Build the Model\n",
        "model_tune = tf.keras.models.Sequential([\n",
        "  tf.keras.layers.Lambda(lambda x: tf.expand_dims(x, axis=-1),\n",
        "                      input_shape=[window_size]),\n",
        "    tf.keras.layers.Bidirectional(tf.keras.layers.LSTM(32, return_sequences=True)),\n",
        "  tf.keras.layers.Bidirectional(tf.keras.layers.LSTM(32)),\n",
        "  tf.keras.layers.Dense(1),\n",
        "  tf.keras.layers.Lambda(lambda x: x * 100.0)\n",
        "])\n",
        "\n",
        "# Print the model summary\n",
        "model_tune.summary()"
      ]
    },
    {
      "cell_type": "markdown",
      "metadata": {
        "id": "FHaFblbwq0GV"
      },
      "source": [
        "## Tune the Learning Rate\n",
        "\n",
        "As usual, you will pick a learning rate by running the tuning code below."
      ]
    },
    {
      "cell_type": "code",
      "execution_count": 9,
      "metadata": {
        "id": "qE7al18qw48G",
        "colab": {
          "base_uri": "https://localhost:8080/"
        },
        "outputId": "5b7f5980-c0ef-4897-a245-813fcd20dabf"
      },
      "outputs": [
        {
          "output_type": "stream",
          "name": "stdout",
          "text": [
            "31/31 [==============================] - 0s 10ms/step - loss: 7.1590 - lr: 2.2387e-04\n",
            "Epoch 89/100\n",
            "31/31 [==============================] - 0s 10ms/step - loss: 9.8982 - lr: 2.5119e-04\n",
            "Epoch 90/100\n",
            "31/31 [==============================] - 0s 10ms/step - loss: 8.2328 - lr: 2.8184e-04\n",
            "Epoch 91/100\n",
            "31/31 [==============================] - 0s 10ms/step - loss: 7.5128 - lr: 3.1623e-04\n",
            "Epoch 92/100\n",
            "31/31 [==============================] - 0s 10ms/step - loss: 5.9719 - lr: 3.5481e-04\n",
            "Epoch 93/100\n",
            "31/31 [==============================] - 0s 10ms/step - loss: 7.5051 - lr: 3.9811e-04\n",
            "Epoch 94/100\n",
            "31/31 [==============================] - 0s 10ms/step - loss: 6.9221 - lr: 4.4668e-04\n",
            "Epoch 95/100\n",
            "31/31 [==============================] - 0s 10ms/step - loss: 6.7301 - lr: 5.0119e-04\n",
            "Epoch 96/100\n",
            "31/31 [==============================] - 0s 10ms/step - loss: 7.6350 - lr: 5.6234e-04\n",
            "Epoch 97/100\n",
            "31/31 [==============================] - 0s 10ms/step - loss: 10.3055 - lr: 6.3096e-04\n",
            "Epoch 98/100\n",
            "31/31 [==============================] - 0s 11ms/step - loss: 9.8616 - lr: 7.0795e-04\n",
            "Epoch 99/100\n",
            "31/31 [==============================] - 0s 10ms/step - loss: 12.1009 - lr: 7.9433e-04\n",
            "Epoch 100/100\n",
            "31/31 [==============================] - 0s 10ms/step - loss: 9.1531 - lr: 8.9125e-04\n"
          ]
        }
      ],
      "source": [
        "# Set the learning rate scheduler\n",
        "lr_schedule = tf.keras.callbacks.LearningRateScheduler(\n",
        "    lambda epoch: 1e-8 * 10**(epoch / 20))\n",
        "\n",
        "# Initialize the optimizer\n",
        "optimizer = tf.keras.optimizers.SGD(momentum=0.9)\n",
        "\n",
        "# Set the training parameters\n",
        "model_tune.compile(loss=tf.keras.losses.Huber(), optimizer=optimizer)\n",
        "\n",
        "# Train the model\n",
        "history = model_tune.fit(dataset, epochs=100, callbacks=[lr_schedule])"
      ]
    },
    {
      "cell_type": "code",
      "source": [
        "# Define the learning rate array\n",
        "lrs = 1e-8 * (10 ** (np.arange(100) / 20))"
      ],
      "metadata": {
        "id": "hvEthDDOLWpk"
      },
      "execution_count": 11,
      "outputs": []
    },
    {
      "cell_type": "code",
      "source": [
        "plt.plot(lrs, history.history[\"loss\"])"
      ],
      "metadata": {
        "colab": {
          "base_uri": "https://localhost:8080/",
          "height": 282
        },
        "id": "E6vZjQxdIjLc",
        "outputId": "0ca1eaab-0c1f-4316-d22e-544d63caef38"
      },
      "execution_count": 12,
      "outputs": [
        {
          "output_type": "execute_result",
          "data": {
            "text/plain": [
              "[<matplotlib.lines.Line2D at 0x7f7409677210>]"
            ]
          },
          "metadata": {},
          "execution_count": 12
        },
        {
          "output_type": "display_data",
          "data": {
            "text/plain": [
              "<Figure size 432x288 with 1 Axes>"
            ],
            "image/png": "[encoded data removed]"
          },
          "metadata": {
            "needs_background": "light"
          }
        }
      ]
    },
    {
      "cell_type": "code",
      "source": [
        "plt.plot(lrs, history.history[\"loss\"])\n",
        "plt.axis([1e-8, 1e-3, 0, 30])"
      ],
      "metadata": {
        "colab": {
          "base_uri": "https://localhost:8080/",
          "height": 286
        },
        "id": "18g4eQZ2KE3t",
        "outputId": "78f8c0fc-0af3-4678-ee37-2eef7890e78b"
      },
      "execution_count": 13,
      "outputs": [
        {
          "output_type": "execute_result",
          "data": {
            "text/plain": [
              "(1e-08, 0.001, 0.0, 30.0)"
            ]
          },
          "metadata": {},
          "execution_count": 13
        },
        {
          "output_type": "display_data",
          "data": {
            "text/plain": [
              "<Figure size 432x288 with 1 Axes>"
            ],
            "image/png": "[encoded data removed]"
          },
          "metadata": {
            "needs_background": "light"
          }
        }
      ]
    },
    {
      "cell_type": "code",
      "source": [
        "plt.plot(lrs[10:], history.history[\"loss\"][10:])"
      ],
      "metadata": {
        "colab": {
          "base_uri": "https://localhost:8080/",
          "height": 282
        },
        "id": "CwCZHt2pJQ9s",
        "outputId": "87f031f5-9c83-4805-a319-915ed6d372ec"
      },
      "execution_count": 14,
      "outputs": [
        {
          "output_type": "execute_result",
          "data": {
            "text/plain": [
              "[<matplotlib.lines.Line2D at 0x7f740957e250>]"
            ]
          },
          "metadata": {},
          "execution_count": 14
        },
        {
          "output_type": "display_data",
          "data": {
            "text/plain": [
              "<Figure size 432x288 with 1 Axes>"
            ],
            "image/png": "[encoded data removed]"
          },
          "metadata": {
            "needs_background": "light"
          }
        }
      ]
    },
    {
      "cell_type": "code",
      "source": [
        "plt.plot(np.log10(lrs), history.history[\"loss\"]) # not relevant"
      ],
      "metadata": {
        "colab": {
          "base_uri": "https://localhost:8080/",
          "height": 282
        },
        "id": "hT5fqb0fIpNr",
        "outputId": "b3694fd7-c513-4cfe-beff-ad036b31cc3b"
      },
      "execution_count": 15,
      "outputs": [
        {
          "output_type": "execute_result",
          "data": {
            "text/plain": [
              "[<matplotlib.lines.Line2D at 0x7f74094e83d0>]"
            ]
          },
          "metadata": {},
          "execution_count": 15
        },
        {
          "output_type": "display_data",
          "data": {
            "text/plain": [
              "<Figure size 432x288 with 1 Axes>"
            ],
            "image/png": "[encoded data removed]"
          },
          "metadata": {
            "needs_background": "light"
          }
        }
      ]
    },
    {
      "cell_type": "code",
      "execution_count": 16,
      "metadata": {
        "id": "AkBsrsXMzoWR",
        "colab": {
          "base_uri": "https://localhost:8080/",
          "height": 405
        },
        "outputId": "931dade9-b4a9-41c1-af6b-79ebb519bf49"
      },
      "outputs": [
        {
          "output_type": "execute_result",
          "data": {
            "text/plain": [
              "(1e-08, 0.001, 0.0, 30.0)"
            ]
          },
          "metadata": {},
          "execution_count": 16
        },
        {
          "output_type": "display_data",
          "data": {
            "text/plain": [
              "<Figure size 720x432 with 1 Axes>"
            ],
            "image/png": "[encoded data removed]"
          },
          "metadata": {
            "needs_background": "light"
          }
        }
      ],
      "source": [
        "# Define the learning rate array\n",
        "lrs = 1e-8 * (10 ** (np.arange(100) / 20))\n",
        "\n",
        "# Set the figure size\n",
        "plt.figure(figsize=(10, 6))\n",
        "\n",
        "# Set the grid\n",
        "plt.grid(True)\n",
        "\n",
        "# Plot the loss in log scale\n",
        "plt.semilogx(lrs, history.history[\"loss\"])\n",
        "\n",
        "# Increase the tickmarks size\n",
        "plt.tick_params('both', length=10, width=1, which='both')\n",
        "\n",
        "# Set the plot boundaries\n",
        "plt.axis([1e-8, 1e-3, 0, 30])"
      ]
    },
    {
      "cell_type": "code",
      "source": [
        "[round(x, 4) for x in lrs][65:]"
      ],
      "metadata": {
        "colab": {
          "base_uri": "https://localhost:8080/"
        },
        "id": "n-f_ZinDHUsi",
        "outputId": "d4f78a7d-04d7-4b43-adaa-00245b9906e4"
      },
      "execution_count": 17,
      "outputs": [
        {
          "output_type": "execute_result",
          "data": {
            "text/plain": [
              "[0.0,\n",
              " 0.0,\n",
              " 0.0,\n",
              " 0.0,\n",
              " 0.0,\n",
              " 0.0,\n",
              " 0.0,\n",
              " 0.0,\n",
              " 0.0,\n",
              " 0.0001,\n",
              " 0.0001,\n",
              " 0.0001,\n",
              " 0.0001,\n",
              " 0.0001,\n",
              " 0.0001,\n",
              " 0.0001,\n",
              " 0.0001,\n",
              " 0.0001,\n",
              " 0.0001,\n",
              " 0.0002,\n",
              " 0.0002,\n",
              " 0.0002,\n",
              " 0.0002,\n",
              " 0.0003,\n",
              " 0.0003,\n",
              " 0.0003,\n",
              " 0.0004,\n",
              " 0.0004,\n",
              " 0.0004,\n",
              " 0.0005,\n",
              " 0.0006,\n",
              " 0.0006,\n",
              " 0.0007,\n",
              " 0.0008,\n",
              " 0.0009]"
            ]
          },
          "metadata": {},
          "execution_count": 17
        }
      ]
    },
    {
      "cell_type": "code",
      "source": [
        "np.log10(lrs) # not relevant"
      ],
      "metadata": {
        "colab": {
          "base_uri": "https://localhost:8080/"
        },
        "id": "-PYtnSMjHJaV",
        "outputId": "56e5b8da-15ae-4e11-92e2-997d0fc444b4"
      },
      "execution_count": 12,
      "outputs": [
        {
          "output_type": "execute_result",
          "data": {
            "text/plain": [
              "array([-8.  , -7.95, -7.9 , -7.85, -7.8 , -7.75, -7.7 , -7.65, -7.6 ,\n",
              "       -7.55, -7.5 , -7.45, -7.4 , -7.35, -7.3 , -7.25, -7.2 , -7.15,\n",
              "       -7.1 , -7.05, -7.  , -6.95, -6.9 , -6.85, -6.8 , -6.75, -6.7 ,\n",
              "       -6.65, -6.6 , -6.55, -6.5 , -6.45, -6.4 , -6.35, -6.3 , -6.25,\n",
              "       -6.2 , -6.15, -6.1 , -6.05, -6.  , -5.95, -5.9 , -5.85, -5.8 ,\n",
              "       -5.75, -5.7 , -5.65, -5.6 , -5.55, -5.5 , -5.45, -5.4 , -5.35,\n",
              "       -5.3 , -5.25, -5.2 , -5.15, -5.1 , -5.05, -5.  , -4.95, -4.9 ,\n",
              "       -4.85, -4.8 , -4.75, -4.7 , -4.65, -4.6 , -4.55, -4.5 , -4.45,\n",
              "       -4.4 , -4.35, -4.3 , -4.25, -4.2 , -4.15, -4.1 , -4.05, -4.  ,\n",
              "       -3.95, -3.9 , -3.85, -3.8 , -3.75, -3.7 , -3.65, -3.6 , -3.55,\n",
              "       -3.5 , -3.45, -3.4 , -3.35, -3.3 , -3.25, -3.2 , -3.15, -3.1 ,\n",
              "       -3.05])"
            ]
          },
          "metadata": {},
          "execution_count": 12
        }
      ]
    },
    {
      "cell_type": "markdown",
      "metadata": {
        "id": "i-lKNp4pq_w8"
      },
      "source": [
        "## Train the Model\n",
        "\n",
        "You can then proceed to train the model with your chosen learning rate. \n",
        "\n",
        "*Tip: When experimenting and you find yourself running different iterations of a model, you may want to use the [`clear_session()`](https://www.tensorflow.org/api_docs/python/tf/keras/backend/clear_session) method to declutter memory used by Keras. This is added in the first line below.*\n"
      ]
    },
    {
      "cell_type": "code",
      "execution_count": 18,
      "metadata": {
        "id": "4uh-97bpLZCA",
        "colab": {
          "base_uri": "https://localhost:8080/"
        },
        "outputId": "2995d5b4-1d6b-4173-f757-c7edfc9f54ea"
      },
      "outputs": [
        {
          "output_type": "stream",
          "name": "stdout",
          "text": [
            "Epoch 93/100\n",
            "31/31 [==============================] - 0s 11ms/step - loss: 4.5351 - mae: 5.0143\n",
            "Epoch 94/100\n",
            "31/31 [==============================] - 0s 11ms/step - loss: 4.5066 - mae: 4.9782\n",
            "Epoch 95/100\n",
            "31/31 [==============================] - 0s 11ms/step - loss: 4.4126 - mae: 4.8876\n",
            "Epoch 96/100\n",
            "31/31 [==============================] - 0s 11ms/step - loss: 4.4057 - mae: 4.8834\n",
            "Epoch 97/100\n",
            "31/31 [==============================] - 0s 11ms/step - loss: 4.4140 - mae: 4.8872\n",
            "Epoch 98/100\n",
            "31/31 [==============================] - 0s 11ms/step - loss: 4.3966 - mae: 4.8736\n",
            "Epoch 99/100\n",
            "31/31 [==============================] - 0s 10ms/step - loss: 4.4433 - mae: 4.9188\n",
            "Epoch 100/100\n",
            "31/31 [==============================] - 0s 10ms/step - loss: 4.3968 - mae: 4.8729\n"
          ]
        }
      ],
      "source": [
        "# Reset states generated by Keras\n",
        "tf.keras.backend.clear_session()\n",
        "\n",
        "# Build the model\n",
        "model = tf.keras.models.Sequential([\n",
        "  tf.keras.layers.Lambda(lambda x: tf.expand_dims(x, axis=-1),\n",
        "                      input_shape=[None]),\n",
        "   tf.keras.layers.Bidirectional(tf.keras.layers.LSTM(32, return_sequences=True)),\n",
        "  tf.keras.layers.Bidirectional(tf.keras.layers.LSTM(32)),\n",
        "  tf.keras.layers.Dense(1),\n",
        "  tf.keras.layers.Lambda(lambda x: x * 100.0)\n",
        "])\n",
        "\n",
        "# Set the learning rate\n",
        "learning_rate = 2e-6\n",
        "\n",
        "# Set the optimizer \n",
        "optimizer = tf.keras.optimizers.SGD(learning_rate=learning_rate, momentum=0.9)\n",
        "\n",
        "# Set the training parameters\n",
        "model.compile(loss=tf.keras.losses.Huber(),\n",
        "              optimizer=optimizer,\n",
        "              metrics=[\"mae\"])\n",
        "\n",
        "# Train the model\n",
        "history = model.fit(dataset,epochs=100)"
      ]
    },
    {
      "cell_type": "markdown",
      "metadata": {
        "id": "RjP4kbGiI7cw"
      },
      "source": [
        "## Model Prediction\n",
        "\n",
        "You will then generate batches of windows to generate predictions that align with the validation set."
      ]
    },
    {
      "cell_type": "code",
      "execution_count": 19,
      "metadata": {
        "id": "QO8cfKwKBBG6"
      },
      "outputs": [],
      "source": [
        "def model_forecast(model, series, window_size, batch_size):\n",
        "    \"\"\"Uses an input model to generate predictions on data windows\n",
        "\n",
        "    Args:\n",
        "      model (TF Keras Model) - model that accepts data windows\n",
        "      series (array of float) - contains the values of the time series\n",
        "      window_size (int) - the number of time steps to include in the window\n",
        "      batch_size (int) - the batch size\n",
        "\n",
        "    Returns:\n",
        "      forecast (numpy array) - array containing predictions\n",
        "    \"\"\"\n",
        "\n",
        "    # Generate a TF Dataset from the series values\n",
        "    dataset = tf.data.Dataset.from_tensor_slices(series)\n",
        "\n",
        "    # Window the data but only take those with the specified size\n",
        "    dataset = dataset.window(window_size, shift=1, drop_remainder=True)\n",
        "\n",
        "    # Flatten the windows by putting its elements in a single batch\n",
        "    dataset = dataset.flat_map(lambda w: w.batch(window_size))\n",
        "    \n",
        "    # Create batches of windows\n",
        "    dataset = dataset.batch(batch_size).prefetch(1)\n",
        "    \n",
        "    # Get predictions on the entire dataset\n",
        "    forecast = model.predict(dataset)\n",
        "    \n",
        "    return forecast"
      ]
    },
    {
      "cell_type": "code",
      "execution_count": 20,
      "metadata": {
        "id": "_plB3UseBD8o",
        "colab": {
          "base_uri": "https://localhost:8080/",
          "height": 388
        },
        "outputId": "fead7f39-5a11-458b-b94f-4fa05a3431d9"
      },
      "outputs": [
        {
          "output_type": "display_data",
          "data": {
            "text/plain": [
              "<Figure size 720x432 with 1 Axes>"
            ],
            "image/png": "[encoded data removed]"
          },
          "metadata": {
            "needs_background": "light"
          }
        }
      ],
      "source": [
        "# Reduce the original series\n",
        "forecast_series = series[split_time-window_size:-1]\n",
        "\n",
        "# Use helper function to generate predictions\n",
        "forecast = model_forecast(model, forecast_series, window_size, batch_size)\n",
        "\n",
        "# Drop single dimensional axis\n",
        "results = forecast.squeeze()\n",
        "\n",
        "# Plot the results\n",
        "plot_series(time_valid, (x_valid, results))"
      ]
    },
    {
      "cell_type": "markdown",
      "metadata": {
        "id": "Nn8iSQkZtaRC"
      },
      "source": [
        "You can then generate the metrics to evaluate the model's performance."
      ]
    },
    {
      "cell_type": "code",
      "execution_count": 21,
      "metadata": {
        "id": "-IKhueZaBGID",
        "colab": {
          "base_uri": "https://localhost:8080/"
        },
        "outputId": "4618679a-89bd-47c2-99d6-c4d2c930898a"
      },
      "outputs": [
        {
          "output_type": "stream",
          "name": "stdout",
          "text": [
            "76.34217\n",
            "6.35503\n"
          ]
        }
      ],
      "source": [
        "# Compute the MSE and MAE\n",
        "print(tf.keras.metrics.mean_squared_error(x_valid, results).numpy())\n",
        "print(tf.keras.metrics.mean_absolute_error(x_valid, results).numpy())"
      ]
    },
    {
      "cell_type": "markdown",
      "metadata": {
        "id": "bzPIqeMWvbPy"
      },
      "source": [
        "## Wrap Up\n",
        "\n",
        "This concludes this short exercise on using LSTMs for time series forecasting. Next week, you will build upon this and add convolutions. Then, you will start to move away from synthetic data and use real-world datasets. See you there!"
      ]
    },
    {
      "cell_type": "markdown",
      "metadata": {
        "id": "U5PqTePGHeMH"
      },
      "source": [
        "## Optional: Including a Validation Set while Training\n",
        "\n",
        "Back in the first course of this specialization, you saw how you can also monitor the performance of your model against a validation set while training. You can also do that for this lab. \n",
        "\n",
        "First, you need to generate a `val_set` which are data windows and labels that your model can accept. You can simply reuse the `windowed_dataset` function for that and you can pass in the `x_valid` points to generate the windows."
      ]
    },
    {
      "cell_type": "code",
      "execution_count": 22,
      "metadata": {
        "id": "kvFVwL3PC4iX"
      },
      "outputs": [],
      "source": [
        "# Generate data windows of the validation set\n",
        "val_set = windowed_dataset(x_valid, window_size, batch_size, shuffle_buffer_size)"
      ]
    },
    {
      "cell_type": "markdown",
      "metadata": {
        "id": "p68j6XxEvP9K"
      },
      "source": [
        "You can then do the same training as before but pass in the `val_set` to the `validation_data` parameter of the `fit()` method."
      ]
    },
    {
      "cell_type": "code",
      "execution_count": 23,
      "metadata": {
        "id": "wujKz6tXDSn0",
        "colab": {
          "base_uri": "https://localhost:8080/"
        },
        "outputId": "74fd4c59-1337-47ad-dee5-5e1ef16b590c"
      },
      "outputs": [
        {
          "output_type": "stream",
          "name": "stdout",
          "text": [
            "Epoch 1/100\n",
            "31/31 [==============================] - 8s 59ms/step - loss: 47.5995 - mae: 48.0986 - val_loss: 26.0956 - val_mae: 26.5947\n",
            "Epoch 2/100\n",
            "31/31 [==============================] - 1s 15ms/step - loss: 13.6257 - mae: 14.1195 - val_loss: 29.2581 - val_mae: 29.7556\n",
            "Epoch 3/100\n",
            "31/31 [==============================] - 1s 14ms/step - loss: 10.0251 - mae: 10.5081 - val_loss: 20.8228 - val_mae: 21.3194\n",
            "Epoch 4/100\n",
            "31/31 [==============================] - 1s 15ms/step - loss: 8.3472 - mae: 8.8322 - val_loss: 17.5487 - val_mae: 18.0454\n",
            "Epoch 5/100\n",
            "31/31 [==============================] - 1s 15ms/step - loss: 7.5231 - mae: 8.0042 - val_loss: 15.6633 - val_mae: 16.1594\n",
            "Epoch 6/100\n",
            "31/31 [==============================] - 1s 15ms/step - loss: 7.0298 - mae: 7.5112 - val_loss: 14.0104 - val_mae: 14.5029\n",
            "Epoch 7/100\n",
            "31/31 [==============================] - 1s 15ms/step - loss: 6.7178 - mae: 7.2034 - val_loss: 14.1905 - val_mae: 14.6853\n",
            "Epoch 8/100\n",
            "31/31 [==============================] - 1s 14ms/step - loss: 6.4949 - mae: 6.9756 - val_loss: 12.5665 - val_mae: 13.0585\n",
            "Epoch 9/100\n",
            "31/31 [==============================] - 1s 15ms/step - loss: 6.2861 - mae: 6.7676 - val_loss: 11.7388 - val_mae: 12.2280\n",
            "Epoch 10/100\n",
            "31/31 [==============================] - 1s 14ms/step - loss: 6.1740 - mae: 6.6562 - val_loss: 11.5045 - val_mae: 11.9930\n",
            "Epoch 11/100\n",
            "31/31 [==============================] - 1s 14ms/step - loss: 6.0350 - mae: 6.5156 - val_loss: 11.6575 - val_mae: 12.1498\n",
            "Epoch 12/100\n",
            "31/31 [==============================] - 1s 15ms/step - loss: 5.9333 - mae: 6.4156 - val_loss: 11.7282 - val_mae: 12.2217\n",
            "Epoch 13/100\n",
            "31/31 [==============================] - 1s 15ms/step - loss: 5.8320 - mae: 6.3134 - val_loss: 10.6851 - val_mae: 11.1745\n",
            "Epoch 14/100\n",
            "31/31 [==============================] - 1s 15ms/step - loss: 5.7837 - mae: 6.2623 - val_loss: 11.2694 - val_mae: 11.7622\n",
            "Epoch 15/100\n",
            "31/31 [==============================] - 1s 15ms/step - loss: 5.6349 - mae: 6.1167 - val_loss: 9.7613 - val_mae: 10.2517\n",
            "Epoch 16/100\n",
            "31/31 [==============================] - 1s 15ms/step - loss: 5.4795 - mae: 5.9579 - val_loss: 10.7530 - val_mae: 11.2450\n",
            "Epoch 17/100\n",
            "31/31 [==============================] - 1s 15ms/step - loss: 5.4921 - mae: 5.9726 - val_loss: 10.3180 - val_mae: 10.8099\n",
            "Epoch 18/100\n",
            "31/31 [==============================] - 1s 15ms/step - loss: 5.4196 - mae: 5.9027 - val_loss: 9.2484 - val_mae: 9.7386\n",
            "Epoch 19/100\n",
            "31/31 [==============================] - 1s 15ms/step - loss: 5.2937 - mae: 5.7730 - val_loss: 9.5969 - val_mae: 10.0847\n",
            "Epoch 20/100\n",
            "31/31 [==============================] - 1s 14ms/step - loss: 5.2880 - mae: 5.7684 - val_loss: 9.2565 - val_mae: 9.7455\n",
            "Epoch 21/100\n",
            "31/31 [==============================] - 1s 14ms/step - loss: 5.2259 - mae: 5.7065 - val_loss: 9.5663 - val_mae: 10.0565\n",
            "Epoch 22/100\n",
            "31/31 [==============================] - 1s 14ms/step - loss: 5.1262 - mae: 5.5995 - val_loss: 9.0484 - val_mae: 9.5357\n",
            "Epoch 23/100\n",
            "31/31 [==============================] - 1s 14ms/step - loss: 5.1516 - mae: 5.6325 - val_loss: 8.0156 - val_mae: 8.5025\n",
            "Epoch 24/100\n",
            "31/31 [==============================] - 1s 15ms/step - loss: 5.1441 - mae: 5.6207 - val_loss: 8.7514 - val_mae: 9.2357\n",
            "Epoch 25/100\n",
            "31/31 [==============================] - 1s 15ms/step - loss: 5.0324 - mae: 5.5098 - val_loss: 8.1695 - val_mae: 8.6575\n",
            "Epoch 26/100\n",
            "31/31 [==============================] - 1s 15ms/step - loss: 5.0019 - mae: 5.4820 - val_loss: 8.6787 - val_mae: 9.1642\n",
            "Epoch 27/100\n",
            "31/31 [==============================] - 1s 15ms/step - loss: 5.0091 - mae: 5.4878 - val_loss: 7.7907 - val_mae: 8.2795\n",
            "Epoch 28/100\n",
            "31/31 [==============================] - 1s 16ms/step - loss: 4.9761 - mae: 5.4557 - val_loss: 7.7037 - val_mae: 8.1908\n",
            "Epoch 29/100\n",
            "31/31 [==============================] - 1s 15ms/step - loss: 4.9597 - mae: 5.4385 - val_loss: 8.0022 - val_mae: 8.4897\n",
            "Epoch 30/100\n",
            "31/31 [==============================] - 1s 14ms/step - loss: 4.9158 - mae: 5.3971 - val_loss: 8.0586 - val_mae: 8.5466\n",
            "Epoch 31/100\n",
            "31/31 [==============================] - 1s 14ms/step - loss: 4.8931 - mae: 5.3689 - val_loss: 7.3397 - val_mae: 7.8249\n",
            "Epoch 32/100\n",
            "31/31 [==============================] - 1s 15ms/step - loss: 4.9015 - mae: 5.3793 - val_loss: 7.2607 - val_mae: 7.7460\n",
            "Epoch 33/100\n",
            "31/31 [==============================] - 1s 15ms/step - loss: 4.8205 - mae: 5.3002 - val_loss: 7.1769 - val_mae: 7.6638\n",
            "Epoch 34/100\n",
            "31/31 [==============================] - 1s 14ms/step - loss: 4.8214 - mae: 5.2989 - val_loss: 7.6877 - val_mae: 8.1739\n",
            "Epoch 35/100\n",
            "31/31 [==============================] - 1s 15ms/step - loss: 4.8001 - mae: 5.2804 - val_loss: 7.3415 - val_mae: 7.8227\n",
            "Epoch 36/100\n",
            "31/31 [==============================] - 1s 15ms/step - loss: 4.8521 - mae: 5.3228 - val_loss: 6.7793 - val_mae: 7.2626\n",
            "Epoch 37/100\n",
            "31/31 [==============================] - 1s 14ms/step - loss: 4.7993 - mae: 5.2794 - val_loss: 6.8945 - val_mae: 7.3789\n",
            "Epoch 38/100\n",
            "31/31 [==============================] - 1s 15ms/step - loss: 4.7597 - mae: 5.2400 - val_loss: 7.8418 - val_mae: 8.3300\n",
            "Epoch 39/100\n",
            "31/31 [==============================] - 1s 14ms/step - loss: 4.8294 - mae: 5.3068 - val_loss: 7.1078 - val_mae: 7.5901\n",
            "Epoch 40/100\n",
            "31/31 [==============================] - 1s 15ms/step - loss: 4.7559 - mae: 5.2354 - val_loss: 6.6769 - val_mae: 7.1610\n",
            "Epoch 41/100\n",
            "31/31 [==============================] - 1s 14ms/step - loss: 4.7100 - mae: 5.1892 - val_loss: 7.0996 - val_mae: 7.5793\n",
            "Epoch 42/100\n",
            "31/31 [==============================] - 1s 23ms/step - loss: 4.8638 - mae: 5.3426 - val_loss: 6.2622 - val_mae: 6.7489\n",
            "Epoch 43/100\n",
            "31/31 [==============================] - 1s 16ms/step - loss: 4.7478 - mae: 5.2262 - val_loss: 6.8560 - val_mae: 7.3400\n",
            "Epoch 44/100\n",
            "31/31 [==============================] - 1s 25ms/step - loss: 4.7158 - mae: 5.1897 - val_loss: 6.3768 - val_mae: 6.8597\n",
            "Epoch 45/100\n",
            "31/31 [==============================] - 1s 15ms/step - loss: 4.6816 - mae: 5.1584 - val_loss: 6.4488 - val_mae: 6.9346\n",
            "Epoch 46/100\n",
            "31/31 [==============================] - 1s 15ms/step - loss: 4.6415 - mae: 5.1205 - val_loss: 6.9976 - val_mae: 7.4775\n",
            "Epoch 47/100\n",
            "31/31 [==============================] - 1s 16ms/step - loss: 4.6874 - mae: 5.1685 - val_loss: 6.2309 - val_mae: 6.7133\n",
            "Epoch 48/100\n",
            "31/31 [==============================] - 1s 15ms/step - loss: 4.6415 - mae: 5.1183 - val_loss: 7.4789 - val_mae: 7.9665\n",
            "Epoch 49/100\n",
            "31/31 [==============================] - 1s 16ms/step - loss: 4.7194 - mae: 5.1963 - val_loss: 6.6760 - val_mae: 7.1546\n",
            "Epoch 50/100\n",
            "31/31 [==============================] - 1s 15ms/step - loss: 4.6855 - mae: 5.1639 - val_loss: 6.9117 - val_mae: 7.3919\n",
            "Epoch 51/100\n",
            "31/31 [==============================] - 1s 15ms/step - loss: 4.6409 - mae: 5.1190 - val_loss: 6.3822 - val_mae: 6.8663\n",
            "Epoch 52/100\n",
            "31/31 [==============================] - 1s 15ms/step - loss: 4.6557 - mae: 5.1376 - val_loss: 6.4164 - val_mae: 6.8997\n",
            "Epoch 53/100\n",
            "31/31 [==============================] - 1s 14ms/step - loss: 4.6290 - mae: 5.1088 - val_loss: 6.4230 - val_mae: 6.9046\n",
            "Epoch 54/100\n",
            "31/31 [==============================] - 1s 15ms/step - loss: 4.6213 - mae: 5.0967 - val_loss: 6.7904 - val_mae: 7.2714\n",
            "Epoch 55/100\n",
            "31/31 [==============================] - 1s 15ms/step - loss: 4.5774 - mae: 5.0573 - val_loss: 7.0271 - val_mae: 7.5083\n",
            "Epoch 56/100\n",
            "31/31 [==============================] - 1s 15ms/step - loss: 4.6443 - mae: 5.1208 - val_loss: 6.2474 - val_mae: 6.7310\n",
            "Epoch 57/100\n",
            "31/31 [==============================] - 1s 15ms/step - loss: 4.7213 - mae: 5.1998 - val_loss: 6.6021 - val_mae: 7.0813\n",
            "Epoch 58/100\n",
            "31/31 [==============================] - 1s 15ms/step - loss: 4.5864 - mae: 5.0650 - val_loss: 6.7838 - val_mae: 7.2655\n",
            "Epoch 59/100\n",
            "31/31 [==============================] - 1s 14ms/step - loss: 4.6659 - mae: 5.1440 - val_loss: 6.7732 - val_mae: 7.2542\n",
            "Epoch 60/100\n",
            "31/31 [==============================] - 1s 14ms/step - loss: 4.5949 - mae: 5.0773 - val_loss: 5.9689 - val_mae: 6.4513\n",
            "Epoch 61/100\n",
            "31/31 [==============================] - 1s 15ms/step - loss: 4.5548 - mae: 5.0354 - val_loss: 6.4550 - val_mae: 6.9365\n",
            "Epoch 62/100\n",
            "31/31 [==============================] - 1s 15ms/step - loss: 4.6046 - mae: 5.0794 - val_loss: 5.9622 - val_mae: 6.4426\n",
            "Epoch 63/100\n",
            "31/31 [==============================] - 1s 14ms/step - loss: 4.5614 - mae: 5.0379 - val_loss: 5.9662 - val_mae: 6.4463\n",
            "Epoch 64/100\n",
            "31/31 [==============================] - 1s 16ms/step - loss: 4.5999 - mae: 5.0775 - val_loss: 5.9390 - val_mae: 6.4198\n",
            "Epoch 65/100\n",
            "31/31 [==============================] - 1s 15ms/step - loss: 4.6596 - mae: 5.1383 - val_loss: 5.8104 - val_mae: 6.2960\n",
            "Epoch 66/100\n",
            "31/31 [==============================] - 1s 14ms/step - loss: 4.7432 - mae: 5.2180 - val_loss: 5.6169 - val_mae: 6.0938\n",
            "Epoch 67/100\n",
            "31/31 [==============================] - 1s 15ms/step - loss: 4.7390 - mae: 5.2158 - val_loss: 5.8697 - val_mae: 6.3538\n",
            "Epoch 68/100\n",
            "31/31 [==============================] - 1s 15ms/step - loss: 4.6304 - mae: 5.1087 - val_loss: 6.1984 - val_mae: 6.6779\n",
            "Epoch 69/100\n",
            "31/31 [==============================] - 1s 15ms/step - loss: 4.5607 - mae: 5.0371 - val_loss: 6.1459 - val_mae: 6.6243\n",
            "Epoch 70/100\n",
            "31/31 [==============================] - 1s 15ms/step - loss: 4.5382 - mae: 5.0192 - val_loss: 5.9544 - val_mae: 6.4335\n",
            "Epoch 71/100\n",
            "31/31 [==============================] - 1s 15ms/step - loss: 4.5456 - mae: 5.0242 - val_loss: 6.1447 - val_mae: 6.6227\n",
            "Epoch 72/100\n",
            "31/31 [==============================] - 1s 14ms/step - loss: 4.5547 - mae: 5.0334 - val_loss: 6.5620 - val_mae: 7.0438\n",
            "Epoch 73/100\n",
            "31/31 [==============================] - 1s 15ms/step - loss: 4.5504 - mae: 5.0295 - val_loss: 5.9462 - val_mae: 6.4223\n",
            "Epoch 74/100\n",
            "31/31 [==============================] - 1s 15ms/step - loss: 4.5076 - mae: 4.9847 - val_loss: 5.8376 - val_mae: 6.3186\n",
            "Epoch 75/100\n",
            "31/31 [==============================] - 1s 15ms/step - loss: 4.5052 - mae: 4.9855 - val_loss: 6.3954 - val_mae: 6.8758\n",
            "Epoch 76/100\n",
            "31/31 [==============================] - 1s 15ms/step - loss: 4.5965 - mae: 5.0770 - val_loss: 6.9268 - val_mae: 7.4090\n",
            "Epoch 77/100\n",
            "31/31 [==============================] - 1s 15ms/step - loss: 4.5432 - mae: 5.0217 - val_loss: 6.0547 - val_mae: 6.5328\n",
            "Epoch 78/100\n",
            "31/31 [==============================] - 1s 15ms/step - loss: 4.6847 - mae: 5.1612 - val_loss: 5.5454 - val_mae: 6.0244\n",
            "Epoch 79/100\n",
            "31/31 [==============================] - 1s 15ms/step - loss: 4.5369 - mae: 5.0120 - val_loss: 6.0826 - val_mae: 6.5591\n",
            "Epoch 80/100\n",
            "31/31 [==============================] - 1s 15ms/step - loss: 4.5628 - mae: 5.0327 - val_loss: 5.6164 - val_mae: 6.1006\n",
            "Epoch 81/100\n",
            "31/31 [==============================] - 1s 15ms/step - loss: 4.5097 - mae: 4.9918 - val_loss: 5.7173 - val_mae: 6.2035\n",
            "Epoch 82/100\n",
            "31/31 [==============================] - 1s 16ms/step - loss: 4.4937 - mae: 4.9727 - val_loss: 5.9274 - val_mae: 6.4043\n",
            "Epoch 83/100\n",
            "31/31 [==============================] - 1s 15ms/step - loss: 4.6286 - mae: 5.1067 - val_loss: 5.5068 - val_mae: 5.9853\n",
            "Epoch 84/100\n",
            "31/31 [==============================] - 1s 14ms/step - loss: 4.5636 - mae: 5.0424 - val_loss: 5.8658 - val_mae: 6.3423\n",
            "Epoch 85/100\n",
            "31/31 [==============================] - 1s 15ms/step - loss: 4.6487 - mae: 5.1289 - val_loss: 5.4124 - val_mae: 5.8889\n",
            "Epoch 86/100\n",
            "31/31 [==============================] - 1s 14ms/step - loss: 4.5263 - mae: 5.0033 - val_loss: 6.4290 - val_mae: 6.9097\n",
            "Epoch 87/100\n",
            "31/31 [==============================] - 1s 14ms/step - loss: 4.5804 - mae: 5.0571 - val_loss: 6.1569 - val_mae: 6.6354\n",
            "Epoch 88/100\n",
            "31/31 [==============================] - 1s 15ms/step - loss: 4.4756 - mae: 4.9530 - val_loss: 5.4334 - val_mae: 5.9114\n",
            "Epoch 89/100\n",
            "31/31 [==============================] - 1s 15ms/step - loss: 4.5337 - mae: 5.0138 - val_loss: 5.9311 - val_mae: 6.4074\n",
            "Epoch 90/100\n",
            "31/31 [==============================] - 1s 15ms/step - loss: 4.4909 - mae: 4.9689 - val_loss: 5.5915 - val_mae: 6.0787\n",
            "Epoch 91/100\n",
            "31/31 [==============================] - 1s 15ms/step - loss: 4.4947 - mae: 4.9728 - val_loss: 5.8427 - val_mae: 6.3198\n",
            "Epoch 92/100\n",
            "31/31 [==============================] - 1s 15ms/step - loss: 4.4818 - mae: 4.9605 - val_loss: 5.5082 - val_mae: 5.9915\n",
            "Epoch 93/100\n",
            "31/31 [==============================] - 1s 14ms/step - loss: 4.4437 - mae: 4.9230 - val_loss: 5.5451 - val_mae: 6.0313\n",
            "Epoch 94/100\n",
            "31/31 [==============================] - 1s 15ms/step - loss: 4.4914 - mae: 4.9679 - val_loss: 5.8171 - val_mae: 6.2934\n",
            "Epoch 95/100\n",
            "31/31 [==============================] - 1s 15ms/step - loss: 4.4756 - mae: 4.9500 - val_loss: 5.7646 - val_mae: 6.2417\n",
            "Epoch 96/100\n",
            "31/31 [==============================] - 1s 15ms/step - loss: 4.4852 - mae: 4.9630 - val_loss: 5.5219 - val_mae: 6.0061\n",
            "Epoch 97/100\n",
            "31/31 [==============================] - 1s 15ms/step - loss: 4.4711 - mae: 4.9486 - val_loss: 5.7350 - val_mae: 6.2131\n",
            "Epoch 98/100\n",
            "31/31 [==============================] - 1s 15ms/step - loss: 4.4473 - mae: 4.9255 - val_loss: 5.6821 - val_mae: 6.1630\n",
            "Epoch 99/100\n",
            "31/31 [==============================] - 1s 15ms/step - loss: 4.4698 - mae: 4.9471 - val_loss: 5.8860 - val_mae: 6.3639\n",
            "Epoch 100/100\n",
            "31/31 [==============================] - 1s 15ms/step - loss: 4.4723 - mae: 4.9505 - val_loss: 5.5048 - val_mae: 5.9893\n"
          ]
        }
      ],
      "source": [
        "# Reset states generated by Keras\n",
        "tf.keras.backend.clear_session()\n",
        "\n",
        "# Build the model\n",
        "model = tf.keras.models.Sequential([\n",
        "  tf.keras.layers.Lambda(lambda x: tf.expand_dims(x, axis=-1),\n",
        "                      input_shape=[None]),\n",
        "   tf.keras.layers.Bidirectional(tf.keras.layers.LSTM(32, return_sequences=True)),\n",
        "  tf.keras.layers.Bidirectional(tf.keras.layers.LSTM(32)),\n",
        "  tf.keras.layers.Dense(1),\n",
        "  tf.keras.layers.Lambda(lambda x: x * 100.0)\n",
        "])\n",
        "\n",
        "# Set the learning rate\n",
        "learning_rate = 2e-6\n",
        "\n",
        "# Set the optimizer \n",
        "optimizer = tf.keras.optimizers.SGD(learning_rate=learning_rate, momentum=0.9)\n",
        "\n",
        "# Set the training parameters\n",
        "model.compile(loss=tf.keras.losses.Huber(),\n",
        "              optimizer=optimizer,\n",
        "              metrics=[\"mae\"])\n",
        "\n",
        "# Train the model\n",
        "history = model.fit(dataset,epochs=100, validation_data=val_set)"
      ]
    },
    {
      "cell_type": "code",
      "source": [
        ""
      ],
      "metadata": {
        "id": "422wgNiCMeRy"
      },
      "execution_count": null,
      "outputs": []
    }
  ],
  "metadata": {
    "accelerator": "GPU",
    "colab": {
      "collapsed_sections": [],
      "name": "Copy of C4_W3_Lab_2_LSTM.ipynb",
      "provenance": []
    },
    "kernelspec": {
      "display_name": "Python 3",
      "language": "python",
      "name": "python3"
    },
    "language_info": {
      "codemirror_mode": {
        "name": "ipython",
        "version": 3
      },
      "file_extension": ".py",
      "mimetype": "text/x-python",
      "name": "python",
      "nbconvert_exporter": "python",
      "pygments_lexer": "ipython3",
      "version": "3.7.4"
    },
    "gpuClass": "standard"
  },
  "nbformat": 4,
  "nbformat_minor": 0
}