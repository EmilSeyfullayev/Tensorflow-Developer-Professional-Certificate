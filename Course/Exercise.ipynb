{
  "nbformat": 4,
  "nbformat_minor": 0,
  "metadata": {
    "colab": {
      "name": "Exercise.ipynb",
      "provenance": [],
      "collapsed_sections": [],
      "authorship_tag": "ABX9TyNYA4OMBGXjGBOPBFoaNS/n",
      "include_colab_link": true
    },
    "kernelspec": {
      "name": "python3",
      "display_name": "Python 3"
    },
    "language_info": {
      "name": "python"
    }
  },
  "cells": [
    {
      "cell_type": "markdown",
      "metadata": {
        "id": "view-in-github",
        "colab_type": "text"
      },
      "source": [
        "<a href=\"https://colab.research.google.com/github/EmilSeyfullayev/Tensorflow-Developer-Professional-Certificate/blob/main/Course/Exercise.ipynb\" target=\"_parent\"><img src=\"https://colab.research.google.com/assets/colab-badge.svg\" alt=\"Open In Colab\"/></a>"
      ]
    },
    {
      "cell_type": "code",
      "source": [
        "import numpy as np"
      ],
      "metadata": {
        "id": "pm4U40XYakZ_"
      },
      "execution_count": 23,
      "outputs": []
    },
    {
      "cell_type": "code",
      "source": [
        "import tensorflow as tf\n",
        "print(tf.__version__)\n",
        "\n",
        "mnist = tf.keras.datasets.mnist\n",
        "\n",
        "(training_images, training_labels) ,  (test_images, test_labels) = mnist.load_data()"
      ],
      "metadata": {
        "colab": {
          "base_uri": "https://localhost:8080/"
        },
        "id": "hlXIQDgcWuEh",
        "outputId": "29b43649-9930-45c8-8e5b-8ff1981dccb8"
      },
      "execution_count": 1,
      "outputs": [
        {
          "output_type": "stream",
          "name": "stdout",
          "text": [
            "2.8.0\n",
            "Downloading data from https://storage.googleapis.com/tensorflow/tf-keras-datasets/mnist.npz\n",
            "11493376/11490434 [==============================] - 0s 0us/step\n",
            "11501568/11490434 [==============================] - 0s 0us/step\n"
          ]
        }
      ]
    },
    {
      "cell_type": "code",
      "source": [
        "from tensorflow.keras.models import Sequential"
      ],
      "metadata": {
        "id": "eLgK9N2KXUcx"
      },
      "execution_count": 6,
      "outputs": []
    },
    {
      "cell_type": "code",
      "source": [
        "from tensorflow.keras.layers import Dense, Flatten"
      ],
      "metadata": {
        "id": "k9JmdTNzWuAU"
      },
      "execution_count": 2,
      "outputs": []
    },
    {
      "cell_type": "code",
      "source": [
        "training_images = training_images/255\n",
        "test_images = test_images/255"
      ],
      "metadata": {
        "id": "yCvJK3HSWt8d"
      },
      "execution_count": 5,
      "outputs": []
    },
    {
      "cell_type": "code",
      "source": [
        "model = Sequential([\n",
        "                    Flatten(),\n",
        "                    Dense(128, activation='relu'),\n",
        "                    Dense(10, activation = 'softmax')\n",
        "])"
      ],
      "metadata": {
        "id": "ezOFU35CWt16"
      },
      "execution_count": 7,
      "outputs": []
    },
    {
      "cell_type": "code",
      "source": [
        "model.compile(optimizer='sgd', loss='sparse_categorical_crossentropy', metrics=['accuracy'])"
      ],
      "metadata": {
        "id": "k6qOuZm8Wtx-"
      },
      "execution_count": 12,
      "outputs": []
    },
    {
      "cell_type": "code",
      "source": [
        "model.fit(training_images, training_labels, epochs=5)"
      ],
      "metadata": {
        "colab": {
          "base_uri": "https://localhost:8080/"
        },
        "id": "gSO-Sb42WtvF",
        "outputId": "95e53084-1ee2-48b8-e1b1-7e868eec12b9"
      },
      "execution_count": 13,
      "outputs": [
        {
          "output_type": "stream",
          "name": "stdout",
          "text": [
            "Epoch 1/5\n",
            "1875/1875 [==============================] - 4s 2ms/step - loss: 0.2175 - accuracy: 0.9390\n",
            "Epoch 2/5\n",
            "1875/1875 [==============================] - 4s 2ms/step - loss: 0.2026 - accuracy: 0.9438\n",
            "Epoch 3/5\n",
            "1875/1875 [==============================] - 4s 2ms/step - loss: 0.1896 - accuracy: 0.9471\n",
            "Epoch 4/5\n",
            "1875/1875 [==============================] - 4s 2ms/step - loss: 0.1784 - accuracy: 0.9499\n",
            "Epoch 5/5\n",
            "1875/1875 [==============================] - 5s 2ms/step - loss: 0.1682 - accuracy: 0.9535\n"
          ]
        },
        {
          "output_type": "execute_result",
          "data": {
            "text/plain": [
              "<keras.callbacks.History at 0x7fe46bc07250>"
            ]
          },
          "metadata": {},
          "execution_count": 13
        }
      ]
    },
    {
      "cell_type": "code",
      "source": [
        "model.evaluate(test_images, test_labels)"
      ],
      "metadata": {
        "colab": {
          "base_uri": "https://localhost:8080/"
        },
        "id": "kOkRYYYvWtrA",
        "outputId": "460a925d-dd60-4fa4-906e-939c61cb6ead"
      },
      "execution_count": 14,
      "outputs": [
        {
          "output_type": "stream",
          "name": "stdout",
          "text": [
            "313/313 [==============================] - 1s 1ms/step - loss: 0.1631 - accuracy: 0.9527\n"
          ]
        },
        {
          "output_type": "execute_result",
          "data": {
            "text/plain": [
              "[0.16309002041816711, 0.9527000188827515]"
            ]
          },
          "metadata": {},
          "execution_count": 14
        }
      ]
    },
    {
      "cell_type": "code",
      "source": [
        "model.predict(test_images[0:2]) "
      ],
      "metadata": {
        "colab": {
          "base_uri": "https://localhost:8080/"
        },
        "id": "zzXqp5rYWtm-",
        "outputId": "14806c36-1173-42a2-c00e-c4f704add700"
      },
      "execution_count": 17,
      "outputs": [
        {
          "output_type": "execute_result",
          "data": {
            "text/plain": [
              "array([[4.4357927e-05, 2.7268507e-07, 9.2576735e-04, 4.2909761e-03,\n",
              "        4.3754676e-07, 2.2010354e-04, 6.9911499e-09, 9.9433315e-01,\n",
              "        2.5263396e-05, 1.5973690e-04],\n",
              "       [6.0987659e-04, 1.2723132e-04, 9.8875004e-01, 6.6652051e-03,\n",
              "        5.6008158e-08, 6.4210373e-04, 1.2590474e-03, 2.0565929e-08,\n",
              "        1.9462531e-03, 7.4047477e-08]], dtype=float32)"
            ]
          },
          "metadata": {},
          "execution_count": 17
        }
      ]
    },
    {
      "cell_type": "code",
      "source": [
        "test_images[0:2].shape"
      ],
      "metadata": {
        "colab": {
          "base_uri": "https://localhost:8080/"
        },
        "id": "kuM9vUKeWtkD",
        "outputId": "7c7bc8b9-9303-479e-8fa1-bbbb6a40a722"
      },
      "execution_count": 18,
      "outputs": [
        {
          "output_type": "execute_result",
          "data": {
            "text/plain": [
              "(2, 28, 28)"
            ]
          },
          "metadata": {},
          "execution_count": 18
        }
      ]
    },
    {
      "cell_type": "code",
      "source": [
        "test_images[0].shape"
      ],
      "metadata": {
        "colab": {
          "base_uri": "https://localhost:8080/"
        },
        "id": "9uEPr2xZWtgD",
        "outputId": "7ea8a2cc-58bb-4835-8541-00aae39f4ab4"
      },
      "execution_count": 19,
      "outputs": [
        {
          "output_type": "execute_result",
          "data": {
            "text/plain": [
              "(28, 28)"
            ]
          },
          "metadata": {},
          "execution_count": 19
        }
      ]
    },
    {
      "cell_type": "code",
      "source": [
        "test_images[0].reshape(-1, 28, 28).shape"
      ],
      "metadata": {
        "colab": {
          "base_uri": "https://localhost:8080/"
        },
        "id": "S9NEMtFfWtbu",
        "outputId": "e6a9bf8a-dc1f-4431-baaf-22ed04837a8b"
      },
      "execution_count": 20,
      "outputs": [
        {
          "output_type": "execute_result",
          "data": {
            "text/plain": [
              "(1, 28, 28)"
            ]
          },
          "metadata": {},
          "execution_count": 20
        }
      ]
    },
    {
      "cell_type": "code",
      "source": [
        "np.argmax( # returns index highest from an array\n",
        "    model.predict(test_images[0].reshape(-1, 28, 28)) # model cannot predict one picture, because it is 28x28, but we have to have 3 dimensions\n",
        ") "
      ],
      "metadata": {
        "colab": {
          "base_uri": "https://localhost:8080/"
        },
        "id": "0g45Z6LBWtW7",
        "outputId": "682647a5-eb3c-442a-d331-e4b925703e56"
      },
      "execution_count": 24,
      "outputs": [
        {
          "output_type": "execute_result",
          "data": {
            "text/plain": [
              "7"
            ]
          },
          "metadata": {},
          "execution_count": 24
        }
      ]
    },
    {
      "cell_type": "code",
      "source": [
        "tf.keras.callbacks.Callback.on_epoch_end.__code__.co_varnames"
      ],
      "metadata": {
        "colab": {
          "base_uri": "https://localhost:8080/"
        },
        "id": "BnLTdwBOWtS1",
        "outputId": "e1875bfa-4d67-4afe-f7a2-9ecc96032ba7"
      },
      "execution_count": 27,
      "outputs": [
        {
          "output_type": "execute_result",
          "data": {
            "text/plain": [
              "('self', 'epoch', 'logs')"
            ]
          },
          "metadata": {},
          "execution_count": 27
        }
      ]
    },
    {
      "cell_type": "code",
      "source": [
        "np.array(dir(tf.keras.callbacks.Callback))"
      ],
      "metadata": {
        "colab": {
          "base_uri": "https://localhost:8080/"
        },
        "id": "aTscqmfNsntH",
        "outputId": "cc0e4426-300b-4597-c5dc-772c224bd7b5"
      },
      "execution_count": 48,
      "outputs": [
        {
          "output_type": "execute_result",
          "data": {
            "text/plain": [
              "array(['__class__', '__delattr__', '__dict__', '__dir__', '__doc__',\n",
              "       '__eq__', '__format__', '__ge__', '__getattribute__', '__gt__',\n",
              "       '__hash__', '__init__', '__init_subclass__', '__le__', '__lt__',\n",
              "       '__module__', '__ne__', '__new__', '__reduce__', '__reduce_ex__',\n",
              "       '__repr__', '__setattr__', '__sizeof__', '__str__',\n",
              "       '__subclasshook__', '__weakref__',\n",
              "       '_implements_predict_batch_hooks', '_implements_test_batch_hooks',\n",
              "       '_implements_train_batch_hooks', '_keras_api_names',\n",
              "       '_keras_api_names_v1', 'on_batch_begin', 'on_batch_end',\n",
              "       'on_epoch_begin', 'on_epoch_end', 'on_predict_batch_begin',\n",
              "       'on_predict_batch_end', 'on_predict_begin', 'on_predict_end',\n",
              "       'on_test_batch_begin', 'on_test_batch_end', 'on_test_begin',\n",
              "       'on_test_end', 'on_train_batch_begin', 'on_train_batch_end',\n",
              "       'on_train_begin', 'on_train_end', 'set_model', 'set_params'],\n",
              "      dtype='<U31')"
            ]
          },
          "metadata": {},
          "execution_count": 48
        }
      ]
    },
    {
      "cell_type": "code",
      "source": [
        "np.array(dir(tf.keras.callbacks.Callback())) # it has different results because here we initiated the class #particularly we searched for model"
      ],
      "metadata": {
        "colab": {
          "base_uri": "https://localhost:8080/"
        },
        "id": "-3Qbcpz8aiAl",
        "outputId": "4602114a-f0ed-4de2-d5e1-1e4403c7f6e6"
      },
      "execution_count": 49,
      "outputs": [
        {
          "output_type": "execute_result",
          "data": {
            "text/plain": [
              "array(['__class__', '__delattr__', '__dict__', '__dir__', '__doc__',\n",
              "       '__eq__', '__format__', '__ge__', '__getattribute__', '__gt__',\n",
              "       '__hash__', '__init__', '__init_subclass__', '__le__', '__lt__',\n",
              "       '__module__', '__ne__', '__new__', '__reduce__', '__reduce_ex__',\n",
              "       '__repr__', '__setattr__', '__sizeof__', '__str__',\n",
              "       '__subclasshook__', '__weakref__', '_chief_worker_only',\n",
              "       '_implements_predict_batch_hooks', '_implements_test_batch_hooks',\n",
              "       '_implements_train_batch_hooks', '_keras_api_names',\n",
              "       '_keras_api_names_v1', '_supports_tf_logs', 'model',\n",
              "       'on_batch_begin', 'on_batch_end', 'on_epoch_begin', 'on_epoch_end',\n",
              "       'on_predict_batch_begin', 'on_predict_batch_end',\n",
              "       'on_predict_begin', 'on_predict_end', 'on_test_batch_begin',\n",
              "       'on_test_batch_end', 'on_test_begin', 'on_test_end',\n",
              "       'on_train_batch_begin', 'on_train_batch_end', 'on_train_begin',\n",
              "       'on_train_end', 'set_model', 'set_params', 'validation_data'],\n",
              "      dtype='<U31')"
            ]
          },
          "metadata": {},
          "execution_count": 49
        }
      ]
    },
    {
      "cell_type": "code",
      "source": [
        "np.array(dir(tf.keras.callbacks.Callback().model))"
      ],
      "metadata": {
        "colab": {
          "base_uri": "https://localhost:8080/"
        },
        "id": "OMWeh068aiHE",
        "outputId": "edcd6fab-a9c0-4986-82cc-2812a8119d1b"
      },
      "execution_count": 85,
      "outputs": [
        {
          "output_type": "execute_result",
          "data": {
            "text/plain": [
              "array(['__bool__', '__class__', '__delattr__', '__dir__', '__doc__',\n",
              "       '__eq__', '__format__', '__ge__', '__getattribute__', '__gt__',\n",
              "       '__hash__', '__init__', '__init_subclass__', '__le__', '__lt__',\n",
              "       '__ne__', '__new__', '__reduce__', '__reduce_ex__', '__repr__',\n",
              "       '__setattr__', '__sizeof__', '__str__', '__subclasshook__'],\n",
              "      dtype='<U17')"
            ]
          },
          "metadata": {},
          "execution_count": 85
        }
      ]
    },
    {
      "cell_type": "code",
      "metadata": {
        "id": "ef_88AR-nwXG",
        "colab": {
          "base_uri": "https://localhost:8080/"
        },
        "outputId": "ed51439b-44eb-4450-db29-149c8598330f"
      },
      "source": [
        "import tensorflow as tf\n",
        "print(tf.__version__)\n",
        "\n",
        "class myCallback(tf.keras.callbacks.Callback):\n",
        "  def on_epoch_end(self, epoch, logs={}):\n",
        "    if(logs.get('loss')<0.4):\n",
        "      print(\"\\nReached 60% accuracy so cancelling training!\")\n",
        "      self.model.stop_training = True\n",
        "\n",
        "callbacks = myCallback()\n",
        "mnist = tf.keras.datasets.fashion_mnist\n",
        "(training_images, training_labels), (test_images, test_labels) = mnist.load_data()\n",
        "training_images=training_images/255.0\n",
        "test_images=test_images/255.0\n",
        "model = tf.keras.models.Sequential([\n",
        "  tf.keras.layers.Flatten(),\n",
        "  tf.keras.layers.Dense(512, activation=tf.nn.relu),\n",
        "  tf.keras.layers.Dense(10, activation=tf.nn.softmax)\n",
        "])\n",
        "model.compile(optimizer='adam', loss='sparse_categorical_crossentropy')\n",
        "model.fit(training_images, training_labels, epochs=5, callbacks=[callbacks])\n"
      ],
      "execution_count": 64,
      "outputs": [
        {
          "output_type": "stream",
          "name": "stdout",
          "text": [
            "2.8.0\n",
            "Epoch 1/5\n",
            "1875/1875 [==============================] - 9s 5ms/step - loss: 0.4744\n",
            "Epoch 2/5\n",
            "1866/1875 [============================>.] - ETA: 0s - loss: 0.3567\n",
            "Reached 60% accuracy so cancelling training!\n",
            "1875/1875 [==============================] - 9s 5ms/step - loss: 0.3567\n"
          ]
        },
        {
          "output_type": "execute_result",
          "data": {
            "text/plain": [
              "<keras.callbacks.History at 0x7fe469cbf110>"
            ]
          },
          "metadata": {},
          "execution_count": 64
        }
      ]
    },
    {
      "cell_type": "code",
      "source": [
        "np.array(dir(callbacks.model)) # if you have trained model you will have more attributes and methods"
      ],
      "metadata": {
        "colab": {
          "base_uri": "https://localhost:8080/"
        },
        "id": "EtiTIGZ7aiJi",
        "outputId": "ef063b39-dff6-464f-d879-893dddc8fb1e"
      },
      "execution_count": 84,
      "outputs": [
        {
          "output_type": "execute_result",
          "data": {
            "text/plain": [
              "array(['_SCALAR_UPRANKING_ON', '_TF_MODULE_IGNORED_PROPERTIES',\n",
              "       '__call__', '__class__', '__copy__', '__deepcopy__', '__delattr__',\n",
              "       '__dict__', '__dir__', '__doc__', '__eq__', '__format__', '__ge__',\n",
              "       '__getattribute__', '__getstate__', '__gt__', '__hash__',\n",
              "       '__init__', '__init_subclass__', '__le__', '__lt__', '__module__',\n",
              "       '__ne__', '__new__', '__reduce__', '__reduce_ex__', '__repr__',\n",
              "       '__setattr__', '__setstate__', '__sizeof__', '__str__',\n",
              "       '__subclasshook__', '__weakref__', '_activity_regularizer',\n",
              "       '_add_trackable', '_add_trackable_child',\n",
              "       '_add_variable_with_custom_getter', '_assert_compile_was_called',\n",
              "       '_assert_weights_created', '_auto_track_sub_layers', '_autocast',\n",
              "       '_autographed_call', '_base_model_initialized',\n",
              "       '_build_graph_network_for_inferred_shape', '_build_input_shape',\n",
              "       '_call_accepts_kwargs', '_call_arg_was_passed',\n",
              "       '_call_fn_arg_defaults', '_call_fn_arg_positions', '_call_fn_args',\n",
              "       '_call_full_argspec', '_callable_losses', '_cast_single_input',\n",
              "       '_check_call_args', '_checkpoint_dependencies', '_clear_losses',\n",
              "       '_cluster_coordinator', '_compile_was_called',\n",
              "       '_compiled_trainable_state', '_compute_dtype',\n",
              "       '_compute_dtype_object', '_compute_output_and_mask_jointly',\n",
              "       '_compute_tensor_usage_count', '_configure_steps_per_execution',\n",
              "       '_conform_to_reference_input', '_created_nodes', '_dedup_weights',\n",
              "       '_default_training_arg', '_deferred_dependencies',\n",
              "       '_delete_tracking', '_deserialization_dependencies',\n",
              "       '_deserialize_from_proto', '_distribution_strategy', '_dtype',\n",
              "       '_dtype_policy', '_dynamic', '_eager_losses',\n",
              "       '_enable_dict_to_input_mapping', '_expects_mask_arg',\n",
              "       '_expects_training_arg', '_feed_input_names', '_feed_input_shapes',\n",
              "       '_feed_inputs', '_flatten', '_flatten_layers', '_flatten_modules',\n",
              "       '_flatten_to_reference_inputs', '_functional_construction_call',\n",
              "       '_gather_children_attribute', '_gather_saveables_for_checkpoint',\n",
              "       '_get_call_arg_value', '_get_callback_model', '_get_cell_name',\n",
              "       '_get_compile_args', '_get_existing_metric', '_get_input_masks',\n",
              "       '_get_legacy_saved_model_children', '_get_node_attribute_at_index',\n",
              "       '_get_optimizer', '_get_save_spec', '_get_trainable_state',\n",
              "       '_graph_initialized', '_graph_network_add_loss',\n",
              "       '_graph_network_add_metric', '_handle_activity_regularization',\n",
              "       '_handle_deferred_dependencies',\n",
              "       '_handle_deferred_layer_dependencies',\n",
              "       '_handle_weight_regularization', '_has_explicit_input_shape',\n",
              "       '_in_multi_worker_mode', '_inbound_nodes', '_inbound_nodes_value',\n",
              "       '_infer_output_signature', '_inferred_input_shape',\n",
              "       '_init_batch_counters', '_init_call_fn_args',\n",
              "       '_init_graph_network', '_init_set_name', '_initial_weights',\n",
              "       '_input_coordinates', '_input_dtype', '_input_layers',\n",
              "       '_input_spec', '_insert_layers', '_instrument_layer_creation',\n",
              "       '_instrumented_keras_api', '_instrumented_keras_layer_class',\n",
              "       '_instrumented_keras_model_class', '_is_compiled',\n",
              "       '_is_graph_network', '_is_layer', '_is_layer_name_unique',\n",
              "       '_is_model_for_instrumentation', '_jit_compile',\n",
              "       '_keras_api_names', '_keras_api_names_v1',\n",
              "       '_keras_tensor_symbolic_call', '_layer_call_argspecs',\n",
              "       '_layer_checkpoint_dependencies',\n",
              "       '_list_extra_dependencies_for_serialization',\n",
              "       '_list_functions_for_serialization', '_lookup_dependency',\n",
              "       '_losses', '_map_resources', '_maybe_build', '_maybe_cast_inputs',\n",
              "       '_maybe_create_attribute', '_maybe_initialize_trackable',\n",
              "       '_maybe_load_initial_epoch_from_ckpt', '_metrics', '_metrics_lock',\n",
              "       '_must_restore_from_config', '_name',\n",
              "       '_name_based_attribute_restore', '_name_based_restores',\n",
              "       '_name_scope', '_nested_inputs', '_nested_outputs',\n",
              "       '_network_nodes', '_no_dependency', '_nodes_by_depth',\n",
              "       '_non_trainable_weights', '_obj_reference_counts',\n",
              "       '_obj_reference_counts_dict', '_object_identifier',\n",
              "       '_outbound_nodes', '_outbound_nodes_value', '_outer_name_scope',\n",
              "       '_output_coordinates', '_output_layers', '_output_mask_cache',\n",
              "       '_output_shape_cache', '_output_tensor_cache', '_predict_counter',\n",
              "       '_preload_simple_restoration',\n",
              "       '_preserve_input_structure_in_config', '_reset_compile_cache',\n",
              "       '_restore_from_checkpoint_position', '_run_eagerly',\n",
              "       '_run_internal_graph', '_saved_model_arg_spec',\n",
              "       '_saved_model_inputs_spec', '_self_name_based_restores',\n",
              "       '_self_saveable_object_factories', '_self_setattr_tracking',\n",
              "       '_self_tracked_trackables',\n",
              "       '_self_unconditional_checkpoint_dependencies',\n",
              "       '_self_unconditional_deferred_dependencies',\n",
              "       '_self_unconditional_dependency_names', '_self_update_uid',\n",
              "       '_serialize_to_proto', '_set_call_arg_value',\n",
              "       '_set_connectivity_metadata', '_set_dtype_policy', '_set_inputs',\n",
              "       '_set_mask_keras_history_checked', '_set_mask_metadata',\n",
              "       '_set_output_names', '_set_save_spec', '_set_trainable_state',\n",
              "       '_set_training_mode', '_setattr_tracking',\n",
              "       '_should_cast_single_input', '_should_compute_mask',\n",
              "       '_should_eval', '_single_restoration_from_checkpoint_position',\n",
              "       '_split_out_first_arg', '_stateful', '_steps_per_execution',\n",
              "       '_supports_masking', '_symbolic_call', '_tensor_usage_count',\n",
              "       '_test_counter', '_tf_api_names', '_tf_api_names_v1',\n",
              "       '_thread_local', '_track_trackable', '_trackable_children',\n",
              "       '_trackable_saved_model_saver', '_trackable_saver',\n",
              "       '_tracking_metadata', '_train_counter', '_trainable',\n",
              "       '_trainable_weights', '_training_state',\n",
              "       '_unconditional_checkpoint_dependencies',\n",
              "       '_unconditional_dependency_names', '_undeduplicated_weights',\n",
              "       '_update_uid', '_updated_config', '_updates',\n",
              "       '_use_input_spec_as_call_signature',\n",
              "       '_use_legacy_deferred_behavior', '_validate_compile',\n",
              "       '_validate_graph_inputs_and_outputs', '_validate_target_and_loss',\n",
              "       'activity_regularizer', 'add', 'add_loss', 'add_metric',\n",
              "       'add_update', 'add_variable', 'add_weight', 'apply', 'build',\n",
              "       'built', 'call', 'compile', 'compiled_loss', 'compiled_metrics',\n",
              "       'compute_dtype', 'compute_loss', 'compute_mask', 'compute_metrics',\n",
              "       'compute_output_shape', 'compute_output_signature', 'count_params',\n",
              "       'distribute_strategy', 'dtype', 'dtype_policy', 'dynamic',\n",
              "       'evaluate', 'evaluate_generator', 'finalize_state', 'fit',\n",
              "       'fit_generator', 'from_config', 'get_config', 'get_input_at',\n",
              "       'get_input_mask_at', 'get_input_shape_at', 'get_layer',\n",
              "       'get_losses_for', 'get_output_at', 'get_output_mask_at',\n",
              "       'get_output_shape_at', 'get_updates_for', 'get_weights', 'history',\n",
              "       'inbound_nodes', 'input', 'input_mask', 'input_names',\n",
              "       'input_shape', 'input_spec', 'inputs', 'layers', 'load_weights',\n",
              "       'loss', 'losses', 'make_predict_function', 'make_test_function',\n",
              "       'make_train_function', 'metrics', 'metrics_names', 'name',\n",
              "       'name_scope', 'non_trainable_variables', 'non_trainable_weights',\n",
              "       'optimizer', 'outbound_nodes', 'output', 'output_mask',\n",
              "       'output_names', 'output_shape', 'outputs', 'pop', 'predict',\n",
              "       'predict_function', 'predict_generator', 'predict_on_batch',\n",
              "       'predict_step', 'reset_metrics', 'reset_states', 'run_eagerly',\n",
              "       'save', 'save_spec', 'save_weights', 'set_weights',\n",
              "       'state_updates', 'stateful', 'stop_training', 'submodules',\n",
              "       'summary', 'supports_masking', 'test_function', 'test_on_batch',\n",
              "       'test_step', 'to_json', 'to_yaml', 'train_function',\n",
              "       'train_on_batch', 'train_step', 'train_tf_function', 'trainable',\n",
              "       'trainable_variables', 'trainable_weights', 'updates',\n",
              "       'variable_dtype', 'variables', 'weights', 'with_name_scope'],\n",
              "      dtype='<U44')"
            ]
          },
          "metadata": {},
          "execution_count": 84
        }
      ]
    },
    {
      "cell_type": "code",
      "source": [
        ""
      ],
      "metadata": {
        "id": "9uK7mPUuaiN2"
      },
      "execution_count": null,
      "outputs": []
    },
    {
      "cell_type": "code",
      "source": [
        ""
      ],
      "metadata": {
        "id": "1Gd4FMydaiPp"
      },
      "execution_count": null,
      "outputs": []
    },
    {
      "cell_type": "code",
      "source": [
        ""
      ],
      "metadata": {
        "id": "Y0-2bdAUaiSn"
      },
      "execution_count": null,
      "outputs": []
    },
    {
      "cell_type": "code",
      "source": [
        ""
      ],
      "metadata": {
        "id": "CxrwOPpIWtKI"
      },
      "execution_count": null,
      "outputs": []
    },
    {
      "cell_type": "code",
      "metadata": {
        "id": "nWe47GuxtPMJ"
      },
      "source": [
        "import tensorflow as tf"
      ],
      "execution_count": null,
      "outputs": []
    },
    {
      "cell_type": "code",
      "metadata": {
        "id": "jhEB1CZ2tjjQ"
      },
      "source": [
        "mnist = tf.keras.datasets.fashion_mnist"
      ],
      "execution_count": null,
      "outputs": []
    },
    {
      "cell_type": "code",
      "metadata": {
        "id": "cOg4XikIu59X",
        "colab": {
          "base_uri": "https://localhost:8080/"
        },
        "outputId": "033f4c56-4097-41a2-e669-1a9d76fde06b"
      },
      "source": [
        "(trainin_images, training_labels), (test_images, test_labels) = mnist.load_data()"
      ],
      "execution_count": null,
      "outputs": [
        {
          "output_type": "stream",
          "text": [
            "Downloading data from https://storage.googleapis.com/tensorflow/tf-keras-datasets/train-labels-idx1-ubyte.gz\n",
            "32768/29515 [=================================] - 0s 0us/step\n",
            "Downloading data from https://storage.googleapis.com/tensorflow/tf-keras-datasets/train-images-idx3-ubyte.gz\n",
            "26427392/26421880 [==============================] - 0s 0us/step\n",
            "Downloading data from https://storage.googleapis.com/tensorflow/tf-keras-datasets/t10k-labels-idx1-ubyte.gz\n",
            "8192/5148 [===============================================] - 0s 0us/step\n",
            "Downloading data from https://storage.googleapis.com/tensorflow/tf-keras-datasets/t10k-images-idx3-ubyte.gz\n",
            "4423680/4422102 [==============================] - 0s 0us/step\n"
          ],
          "name": "stdout"
        }
      ]
    },
    {
      "cell_type": "code",
      "metadata": {
        "colab": {
          "base_uri": "https://localhost:8080/",
          "height": 282
        },
        "id": "CPmuOdudvFJv",
        "outputId": "5eebe91d-4642-4547-d92b-c0f6845b8186"
      },
      "source": [
        "import numpy as np\n",
        "np.set_printoptions(linewidth=200)\n",
        "import matplotlib.pyplot as plt\n",
        "plt.imshow(trainin_images[200]#, cmap='gray'\n",
        "           )"
      ],
      "execution_count": null,
      "outputs": [
        {
          "output_type": "execute_result",
          "data": {
            "text/plain": [
              "<matplotlib.image.AxesImage at 0x7f5e3f8ee450>"
            ]
          },
          "metadata": {
            "tags": []
          },
          "execution_count": 4
        },
        {
          "output_type": "display_data",
          "data": {
            "image/png": "[encoded data removed]",
            "text/plain": [
              "<Figure size 432x288 with 1 Axes>"
            ]
          },
          "metadata": {
            "tags": [],
            "needs_background": "light"
          }
        }
      ]
    },
    {
      "cell_type": "code",
      "metadata": {
        "colab": {
          "base_uri": "https://localhost:8080/"
        },
        "id": "sBWC9KNXwRDO",
        "outputId": "6663f4dc-54fb-415c-ddd1-98113443be94"
      },
      "source": [
        "trainin_images[200].shape"
      ],
      "execution_count": null,
      "outputs": [
        {
          "output_type": "execute_result",
          "data": {
            "text/plain": [
              "(28, 28)"
            ]
          },
          "metadata": {
            "tags": []
          },
          "execution_count": 5
        }
      ]
    },
    {
      "cell_type": "code",
      "metadata": {
        "colab": {
          "base_uri": "https://localhost:8080/"
        },
        "id": "lZzJWM3nwuHA",
        "outputId": "9c85abf8-54e1-4f56-aa95-4aa9cab987b7"
      },
      "source": [
        "training_labels[200]"
      ],
      "execution_count": null,
      "outputs": [
        {
          "output_type": "execute_result",
          "data": {
            "text/plain": [
              "8"
            ]
          },
          "metadata": {
            "tags": []
          },
          "execution_count": 9
        }
      ]
    },
    {
      "cell_type": "code",
      "metadata": {
        "colab": {
          "base_uri": "https://localhost:8080/"
        },
        "id": "-ui2ZIIfyY8T",
        "outputId": "0d4a573d-52af-4904-ce81-fcc5999f7682"
      },
      "source": [
        "trainin_images[200]"
      ],
      "execution_count": null,
      "outputs": [
        {
          "output_type": "execute_result",
          "data": {
            "text/plain": [
              "array([[  0,   0,   0,   0,   0,   0,   0,   0,   0,   0,   0,   0,   0,  82, 122,  37,   0,   5,   0,   0,   0,   0,   0,   0,   0,   0,   0,   0],\n",
              "       [  0,   0,   0,   0,   0,   0,   0,   0,   0,   0,   2,   0,  38, 100,  28, 121,   0,   1,   0,   0,   0,   0,   0,   0,   0,   0,   0,   0],\n",
              "       [  0,   0,   0,   0,   0,   0,   0,   0,   0,   0,   5,   0,  86,  43,   0, 136,  15,   0,   2,   0,   0,   0,   0,   0,   0,   0,   0,   0],\n",
              "       [  0,   0,   0,   0,   0,   0,   0,   0,   0,   0,   2,   0, 104,  30,   0, 102,  40,   0,   3,   0,   0,   0,   0,   0,   0,   0,   0,   0],\n",
              "       [  0,   0,   0,   0,   0,   0,   0,   0,   0,   3,   0,   0, 111,   2,   0,  73,  81,   0,   4,   0,   0,   0,   0,   0,   0,   0,   0,   0],\n",
              "       [  0,   0,   0,   0,   0,   0,   0,   0,   0,   2,   0,  17,  87,   0,   0,  45,  81,   0,   4,   0,   0,   0,   0,   0,   0,   0,   0,   0],\n",
              "       [  0,   0,   0,   0,   0,   0,   0,   0,   0,   4,   0,  54,  90,   0,   0,  24,  92,   0,   4,   0,   0,   0,   0,   0,   0,   0,   0,   0],\n",
              "       [  0,   0,   0,   0,   0,   0,   0,   0,   0,   3,   0,  76,  30,   0,   0,   0,  93,   0,   0,   0,   0,   0,   0,   0,   0,   0,   0,   0],\n",
              "       [  0,   0,   0,   0,   0,   0,   0,   0,   0,   1,   0,  74,   0,   0,   0,   0,  86,   0,   0,   1,   0,   0,   0,   0,   0,   0,   0,   0],\n",
              "       [  0,   0,   0,   0,   0,   0,   0,   0,   0,   0,   0, 109,   0,   0,   1,   0,  86,  11,   0,   2,   0,   0,   0,   0,   0,   0,   0,   0],\n",
              "       [  0,   0,   0,   0,   0,   0,   0,   0,   2,   0,  31,  79,   0,   2,   2,   0, 115,  38,   0,   4,   0,   0,   0,   0,   0,   0,   0,   0],\n",
              "       [  0,   0,   0,   0,   0,   0,   0,   0,   5,   0,  66,  90,   0,   1,   1,   0, 136,  58,   0,   5,   0,   0,   0,   0,   0,   0,   0,   0],\n",
              "       [  0,   0,   0,   0,   0,   0,   0,   0,   5,   0,  82, 136,   0,   3,   4,   0, 195,  76,   0,   5,   0,   0,   0,   0,   0,   0,   0,   0],\n",
              "       [  0,   0,   0,   0,   0,   0,   0,   0,   0,   0,  95, 166,   0,   0,   0,   0, 144,  80,   0,   0,   0,   0,   0,   0,   0,   0,   0,   0],\n",
              "       [  0,   0,   0,   0,   0,   0,   0,   0,   0,  45, 145, 191,  20,  65,  68,  40, 148, 159,  79,  60,   0,   0,   0,   0,   0,   0,   0,   0],\n",
              "       [  0,   0,   0,   0,   0,   0,   0,   0,  70, 228, 173, 214, 208, 211, 215, 216, 204, 204, 211, 164,   3,   0,   0,   0,   0,   0,   0,   0],\n",
              "       [  0,   0,   0,   0,   0,   0,   0,   0,  57, 176, 167, 205, 199, 190, 193, 195, 193, 196, 183, 182,   0,   0,   0,   0,   0,   0,   0,   0],\n",
              "       [  0,   0,   0,   0,   0,   0,   0,   0,  80, 200, 186, 219, 204, 191, 204, 210, 204, 205, 189, 184,   0,   0,   0,   0,   0,   0,   0,   0],\n",
              "       [  0,   0,   0,   0,   0,   0,   0,   0, 145, 170, 173, 188, 202, 202, 219, 211, 204, 212, 198, 220,   0,   0,   0,   0,   0,   0,   0,   0],\n",
              "       [  0,   0,   0,   0,   0,   0,   0,   0, 174, 174, 188, 192, 211, 210, 215, 217, 214, 219, 192, 248,   0,   0,   0,   0,   0,   0,   0,   0],\n",
              "       [  0,   0,   0,   0,   0,   0,   0,   0, 180, 190, 175, 158, 209, 209, 211, 217, 215, 214, 190, 249,   4,   0,   0,   0,   0,   0,   0,   0],\n",
              "       [  0,   0,   0,   0,   0,   0,   0,   0, 184, 188, 180, 210, 209, 205, 218, 216, 212, 208, 195, 253,  16,   0,   0,   0,   0,   0,   0,   0],\n",
              "       [  0,   0,   0,   0,   0,   0,   0,   0, 183, 201, 172, 203, 206, 208, 216, 215, 213, 213, 196, 255,  26,   0,   0,   0,   0,   0,   0,   0],\n",
              "       [  0,   0,   0,   0,   0,   0,   0,   0, 180, 215, 184, 199, 214, 219, 227, 218, 219, 223, 200, 228,  40,   0,   0,   0,   0,   0,   0,   0],\n",
              "       [  0,   0,   0,   0,   0,   0,   0,   0, 187, 218, 185, 206, 216, 215, 221, 229, 219, 218, 200, 232,  53,   0,   0,   0,   0,   0,   0,   0],\n",
              "       [  0,   0,   0,   0,   0,   0,   0,   0, 184, 207, 188, 198, 217, 165, 146, 214, 214, 214, 200, 231,  57,   0,   0,   0,   0,   0,   0,   0],\n",
              "       [  0,   0,   0,   0,   0,   0,   0,   0, 211, 252, 229, 240, 244, 252, 253, 253, 250, 231, 227, 245,  67,   0,   0,   0,   0,   0,   0,   0],\n",
              "       [  0,   0,   0,   0,   0,   0,   0,   0, 109, 171, 157, 163, 161, 167, 160, 149, 142, 145, 145, 149,  11,   0,   0,   0,   0,   0,   0,   0]], dtype=uint8)"
            ]
          },
          "metadata": {
            "tags": []
          },
          "execution_count": 11
        }
      ]
    },
    {
      "cell_type": "code",
      "metadata": {
        "id": "Lcxcjj8CycZK"
      },
      "source": [
        "import pandas as pd"
      ],
      "execution_count": null,
      "outputs": []
    },
    {
      "cell_type": "code",
      "metadata": {
        "colab": {
          "base_uri": "https://localhost:8080/",
          "height": 888
        },
        "id": "bztV31_EymDb",
        "outputId": "c78af915-f86d-47e0-c203-06b2e8aefced"
      },
      "source": [
        "pd.DataFrame(trainin_images[200])"
      ],
      "execution_count": null,
      "outputs": [
        {
          "output_type": "execute_result",
          "data": {
            "text/html": [
              "<div>\n",
              "<style scoped>\n",
              "    .dataframe tbody tr th:only-of-type {\n",
              "        vertical-align: middle;\n",
              "    }\n",
              "\n",
              "    .dataframe tbody tr th {\n",
              "        vertical-align: top;\n",
              "    }\n",
              "\n",
              "    .dataframe thead th {\n",
              "        text-align: right;\n",
              "    }\n",
              "</style>\n",
              "<table border=\"1\" class=\"dataframe\">\n",
              "  <thead>\n",
              "    <tr style=\"text-align: right;\">\n",
              "      <th></th>\n",
              "      <th>0</th>\n",
              "      <th>1</th>\n",
              "      <th>2</th>\n",
              "      <th>3</th>\n",
              "      <th>4</th>\n",
              "      <th>5</th>\n",
              "      <th>6</th>\n",
              "      <th>7</th>\n",
              "      <th>8</th>\n",
              "      <th>9</th>\n",
              "      <th>10</th>\n",
              "      <th>11</th>\n",
              "      <th>12</th>\n",
              "      <th>13</th>\n",
              "      <th>14</th>\n",
              "      <th>15</th>\n",
              "      <th>16</th>\n",
              "      <th>17</th>\n",
              "      <th>18</th>\n",
              "      <th>19</th>\n",
              "      <th>20</th>\n",
              "      <th>21</th>\n",
              "      <th>22</th>\n",
              "      <th>23</th>\n",
              "      <th>24</th>\n",
              "      <th>25</th>\n",
              "      <th>26</th>\n",
              "      <th>27</th>\n",
              "    </tr>\n",
              "  </thead>\n",
              "  <tbody>\n",
              "    <tr>\n",
              "      <th>0</th>\n",
              "      <td>0</td>\n",
              "      <td>0</td>\n",
              "      <td>0</td>\n",
              "      <td>0</td>\n",
              "      <td>0</td>\n",
              "      <td>0</td>\n",
              "      <td>0</td>\n",
              "      <td>0</td>\n",
              "      <td>0</td>\n",
              "      <td>0</td>\n",
              "      <td>0</td>\n",
              "      <td>0</td>\n",
              "      <td>0</td>\n",
              "      <td>82</td>\n",
              "      <td>122</td>\n",
              "      <td>37</td>\n",
              "      <td>0</td>\n",
              "      <td>5</td>\n",
              "      <td>0</td>\n",
              "      <td>0</td>\n",
              "      <td>0</td>\n",
              "      <td>0</td>\n",
              "      <td>0</td>\n",
              "      <td>0</td>\n",
              "      <td>0</td>\n",
              "      <td>0</td>\n",
              "      <td>0</td>\n",
              "      <td>0</td>\n",
              "    </tr>\n",
              "    <tr>\n",
              "      <th>1</th>\n",
              "      <td>0</td>\n",
              "      <td>0</td>\n",
              "      <td>0</td>\n",
              "      <td>0</td>\n",
              "      <td>0</td>\n",
              "      <td>0</td>\n",
              "      <td>0</td>\n",
              "      <td>0</td>\n",
              "      <td>0</td>\n",
              "      <td>0</td>\n",
              "      <td>2</td>\n",
              "      <td>0</td>\n",
              "      <td>38</td>\n",
              "      <td>100</td>\n",
              "      <td>28</td>\n",
              "      <td>121</td>\n",
              "      <td>0</td>\n",
              "      <td>1</td>\n",
              "      <td>0</td>\n",
              "      <td>0</td>\n",
              "      <td>0</td>\n",
              "      <td>0</td>\n",
              "      <td>0</td>\n",
              "      <td>0</td>\n",
              "      <td>0</td>\n",
              "      <td>0</td>\n",
              "      <td>0</td>\n",
              "      <td>0</td>\n",
              "    </tr>\n",
              "    <tr>\n",
              "      <th>2</th>\n",
              "      <td>0</td>\n",
              "      <td>0</td>\n",
              "      <td>0</td>\n",
              "      <td>0</td>\n",
              "      <td>0</td>\n",
              "      <td>0</td>\n",
              "      <td>0</td>\n",
              "      <td>0</td>\n",
              "      <td>0</td>\n",
              "      <td>0</td>\n",
              "      <td>5</td>\n",
              "      <td>0</td>\n",
              "      <td>86</td>\n",
              "      <td>43</td>\n",
              "      <td>0</td>\n",
              "      <td>136</td>\n",
              "      <td>15</td>\n",
              "      <td>0</td>\n",
              "      <td>2</td>\n",
              "      <td>0</td>\n",
              "      <td>0</td>\n",
              "      <td>0</td>\n",
              "      <td>0</td>\n",
              "      <td>0</td>\n",
              "      <td>0</td>\n",
              "      <td>0</td>\n",
              "      <td>0</td>\n",
              "      <td>0</td>\n",
              "    </tr>\n",
              "    <tr>\n",
              "      <th>3</th>\n",
              "      <td>0</td>\n",
              "      <td>0</td>\n",
              "      <td>0</td>\n",
              "      <td>0</td>\n",
              "      <td>0</td>\n",
              "      <td>0</td>\n",
              "      <td>0</td>\n",
              "      <td>0</td>\n",
              "      <td>0</td>\n",
              "      <td>0</td>\n",
              "      <td>2</td>\n",
              "      <td>0</td>\n",
              "      <td>104</td>\n",
              "      <td>30</td>\n",
              "      <td>0</td>\n",
              "      <td>102</td>\n",
              "      <td>40</td>\n",
              "      <td>0</td>\n",
              "      <td>3</td>\n",
              "      <td>0</td>\n",
              "      <td>0</td>\n",
              "      <td>0</td>\n",
              "      <td>0</td>\n",
              "      <td>0</td>\n",
              "      <td>0</td>\n",
              "      <td>0</td>\n",
              "      <td>0</td>\n",
              "      <td>0</td>\n",
              "    </tr>\n",
              "    <tr>\n",
              "      <th>4</th>\n",
              "      <td>0</td>\n",
              "      <td>0</td>\n",
              "      <td>0</td>\n",
              "      <td>0</td>\n",
              "      <td>0</td>\n",
              "      <td>0</td>\n",
              "      <td>0</td>\n",
              "      <td>0</td>\n",
              "      <td>0</td>\n",
              "      <td>3</td>\n",
              "      <td>0</td>\n",
              "      <td>0</td>\n",
              "      <td>111</td>\n",
              "      <td>2</td>\n",
              "      <td>0</td>\n",
              "      <td>73</td>\n",
              "      <td>81</td>\n",
              "      <td>0</td>\n",
              "      <td>4</td>\n",
              "      <td>0</td>\n",
              "      <td>0</td>\n",
              "      <td>0</td>\n",
              "      <td>0</td>\n",
              "      <td>0</td>\n",
              "      <td>0</td>\n",
              "      <td>0</td>\n",
              "      <td>0</td>\n",
              "      <td>0</td>\n",
              "    </tr>\n",
              "    <tr>\n",
              "      <th>5</th>\n",
              "      <td>0</td>\n",
              "      <td>0</td>\n",
              "      <td>0</td>\n",
              "      <td>0</td>\n",
              "      <td>0</td>\n",
              "      <td>0</td>\n",
              "      <td>0</td>\n",
              "      <td>0</td>\n",
              "      <td>0</td>\n",
              "      <td>2</td>\n",
              "      <td>0</td>\n",
              "      <td>17</td>\n",
              "      <td>87</td>\n",
              "      <td>0</td>\n",
              "      <td>0</td>\n",
              "      <td>45</td>\n",
              "      <td>81</td>\n",
              "      <td>0</td>\n",
              "      <td>4</td>\n",
              "      <td>0</td>\n",
              "      <td>0</td>\n",
              "      <td>0</td>\n",
              "      <td>0</td>\n",
              "      <td>0</td>\n",
              "      <td>0</td>\n",
              "      <td>0</td>\n",
              "      <td>0</td>\n",
              "      <td>0</td>\n",
              "    </tr>\n",
              "    <tr>\n",
              "      <th>6</th>\n",
              "      <td>0</td>\n",
              "      <td>0</td>\n",
              "      <td>0</td>\n",
              "      <td>0</td>\n",
              "      <td>0</td>\n",
              "      <td>0</td>\n",
              "      <td>0</td>\n",
              "      <td>0</td>\n",
              "      <td>0</td>\n",
              "      <td>4</td>\n",
              "      <td>0</td>\n",
              "      <td>54</td>\n",
              "      <td>90</td>\n",
              "      <td>0</td>\n",
              "      <td>0</td>\n",
              "      <td>24</td>\n",
              "      <td>92</td>\n",
              "      <td>0</td>\n",
              "      <td>4</td>\n",
              "      <td>0</td>\n",
              "      <td>0</td>\n",
              "      <td>0</td>\n",
              "      <td>0</td>\n",
              "      <td>0</td>\n",
              "      <td>0</td>\n",
              "      <td>0</td>\n",
              "      <td>0</td>\n",
              "      <td>0</td>\n",
              "    </tr>\n",
              "    <tr>\n",
              "      <th>7</th>\n",
              "      <td>0</td>\n",
              "      <td>0</td>\n",
              "      <td>0</td>\n",
              "      <td>0</td>\n",
              "      <td>0</td>\n",
              "      <td>0</td>\n",
              "      <td>0</td>\n",
              "      <td>0</td>\n",
              "      <td>0</td>\n",
              "      <td>3</td>\n",
              "      <td>0</td>\n",
              "      <td>76</td>\n",
              "      <td>30</td>\n",
              "      <td>0</td>\n",
              "      <td>0</td>\n",
              "      <td>0</td>\n",
              "      <td>93</td>\n",
              "      <td>0</td>\n",
              "      <td>0</td>\n",
              "      <td>0</td>\n",
              "      <td>0</td>\n",
              "      <td>0</td>\n",
              "      <td>0</td>\n",
              "      <td>0</td>\n",
              "      <td>0</td>\n",
              "      <td>0</td>\n",
              "      <td>0</td>\n",
              "      <td>0</td>\n",
              "    </tr>\n",
              "    <tr>\n",
              "      <th>8</th>\n",
              "      <td>0</td>\n",
              "      <td>0</td>\n",
              "      <td>0</td>\n",
              "      <td>0</td>\n",
              "      <td>0</td>\n",
              "      <td>0</td>\n",
              "      <td>0</td>\n",
              "      <td>0</td>\n",
              "      <td>0</td>\n",
              "      <td>1</td>\n",
              "      <td>0</td>\n",
              "      <td>74</td>\n",
              "      <td>0</td>\n",
              "      <td>0</td>\n",
              "      <td>0</td>\n",
              "      <td>0</td>\n",
              "      <td>86</td>\n",
              "      <td>0</td>\n",
              "      <td>0</td>\n",
              "      <td>1</td>\n",
              "      <td>0</td>\n",
              "      <td>0</td>\n",
              "      <td>0</td>\n",
              "      <td>0</td>\n",
              "      <td>0</td>\n",
              "      <td>0</td>\n",
              "      <td>0</td>\n",
              "      <td>0</td>\n",
              "    </tr>\n",
              "    <tr>\n",
              "      <th>9</th>\n",
              "      <td>0</td>\n",
              "      <td>0</td>\n",
              "      <td>0</td>\n",
              "      <td>0</td>\n",
              "      <td>0</td>\n",
              "      <td>0</td>\n",
              "      <td>0</td>\n",
              "      <td>0</td>\n",
              "      <td>0</td>\n",
              "      <td>0</td>\n",
              "      <td>0</td>\n",
              "      <td>109</td>\n",
              "      <td>0</td>\n",
              "      <td>0</td>\n",
              "      <td>1</td>\n",
              "      <td>0</td>\n",
              "      <td>86</td>\n",
              "      <td>11</td>\n",
              "      <td>0</td>\n",
              "      <td>2</td>\n",
              "      <td>0</td>\n",
              "      <td>0</td>\n",
              "      <td>0</td>\n",
              "      <td>0</td>\n",
              "      <td>0</td>\n",
              "      <td>0</td>\n",
              "      <td>0</td>\n",
              "      <td>0</td>\n",
              "    </tr>\n",
              "    <tr>\n",
              "      <th>10</th>\n",
              "      <td>0</td>\n",
              "      <td>0</td>\n",
              "      <td>0</td>\n",
              "      <td>0</td>\n",
              "      <td>0</td>\n",
              "      <td>0</td>\n",
              "      <td>0</td>\n",
              "      <td>0</td>\n",
              "      <td>2</td>\n",
              "      <td>0</td>\n",
              "      <td>31</td>\n",
              "      <td>79</td>\n",
              "      <td>0</td>\n",
              "      <td>2</td>\n",
              "      <td>2</td>\n",
              "      <td>0</td>\n",
              "      <td>115</td>\n",
              "      <td>38</td>\n",
              "      <td>0</td>\n",
              "      <td>4</td>\n",
              "      <td>0</td>\n",
              "      <td>0</td>\n",
              "      <td>0</td>\n",
              "      <td>0</td>\n",
              "      <td>0</td>\n",
              "      <td>0</td>\n",
              "      <td>0</td>\n",
              "      <td>0</td>\n",
              "    </tr>\n",
              "    <tr>\n",
              "      <th>11</th>\n",
              "      <td>0</td>\n",
              "      <td>0</td>\n",
              "      <td>0</td>\n",
              "      <td>0</td>\n",
              "      <td>0</td>\n",
              "      <td>0</td>\n",
              "      <td>0</td>\n",
              "      <td>0</td>\n",
              "      <td>5</td>\n",
              "      <td>0</td>\n",
              "      <td>66</td>\n",
              "      <td>90</td>\n",
              "      <td>0</td>\n",
              "      <td>1</td>\n",
              "      <td>1</td>\n",
              "      <td>0</td>\n",
              "      <td>136</td>\n",
              "      <td>58</td>\n",
              "      <td>0</td>\n",
              "      <td>5</td>\n",
              "      <td>0</td>\n",
              "      <td>0</td>\n",
              "      <td>0</td>\n",
              "      <td>0</td>\n",
              "      <td>0</td>\n",
              "      <td>0</td>\n",
              "      <td>0</td>\n",
              "      <td>0</td>\n",
              "    </tr>\n",
              "    <tr>\n",
              "      <th>12</th>\n",
              "      <td>0</td>\n",
              "      <td>0</td>\n",
              "      <td>0</td>\n",
              "      <td>0</td>\n",
              "      <td>0</td>\n",
              "      <td>0</td>\n",
              "      <td>0</td>\n",
              "      <td>0</td>\n",
              "      <td>5</td>\n",
              "      <td>0</td>\n",
              "      <td>82</td>\n",
              "      <td>136</td>\n",
              "      <td>0</td>\n",
              "      <td>3</td>\n",
              "      <td>4</td>\n",
              "      <td>0</td>\n",
              "      <td>195</td>\n",
              "      <td>76</td>\n",
              "      <td>0</td>\n",
              "      <td>5</td>\n",
              "      <td>0</td>\n",
              "      <td>0</td>\n",
              "      <td>0</td>\n",
              "      <td>0</td>\n",
              "      <td>0</td>\n",
              "      <td>0</td>\n",
              "      <td>0</td>\n",
              "      <td>0</td>\n",
              "    </tr>\n",
              "    <tr>\n",
              "      <th>13</th>\n",
              "      <td>0</td>\n",
              "      <td>0</td>\n",
              "      <td>0</td>\n",
              "      <td>0</td>\n",
              "      <td>0</td>\n",
              "      <td>0</td>\n",
              "      <td>0</td>\n",
              "      <td>0</td>\n",
              "      <td>0</td>\n",
              "      <td>0</td>\n",
              "      <td>95</td>\n",
              "      <td>166</td>\n",
              "      <td>0</td>\n",
              "      <td>0</td>\n",
              "      <td>0</td>\n",
              "      <td>0</td>\n",
              "      <td>144</td>\n",
              "      <td>80</td>\n",
              "      <td>0</td>\n",
              "      <td>0</td>\n",
              "      <td>0</td>\n",
              "      <td>0</td>\n",
              "      <td>0</td>\n",
              "      <td>0</td>\n",
              "      <td>0</td>\n",
              "      <td>0</td>\n",
              "      <td>0</td>\n",
              "      <td>0</td>\n",
              "    </tr>\n",
              "    <tr>\n",
              "      <th>14</th>\n",
              "      <td>0</td>\n",
              "      <td>0</td>\n",
              "      <td>0</td>\n",
              "      <td>0</td>\n",
              "      <td>0</td>\n",
              "      <td>0</td>\n",
              "      <td>0</td>\n",
              "      <td>0</td>\n",
              "      <td>0</td>\n",
              "      <td>45</td>\n",
              "      <td>145</td>\n",
              "      <td>191</td>\n",
              "      <td>20</td>\n",
              "      <td>65</td>\n",
              "      <td>68</td>\n",
              "      <td>40</td>\n",
              "      <td>148</td>\n",
              "      <td>159</td>\n",
              "      <td>79</td>\n",
              "      <td>60</td>\n",
              "      <td>0</td>\n",
              "      <td>0</td>\n",
              "      <td>0</td>\n",
              "      <td>0</td>\n",
              "      <td>0</td>\n",
              "      <td>0</td>\n",
              "      <td>0</td>\n",
              "      <td>0</td>\n",
              "    </tr>\n",
              "    <tr>\n",
              "      <th>15</th>\n",
              "      <td>0</td>\n",
              "      <td>0</td>\n",
              "      <td>0</td>\n",
              "      <td>0</td>\n",
              "      <td>0</td>\n",
              "      <td>0</td>\n",
              "      <td>0</td>\n",
              "      <td>0</td>\n",
              "      <td>70</td>\n",
              "      <td>228</td>\n",
              "      <td>173</td>\n",
              "      <td>214</td>\n",
              "      <td>208</td>\n",
              "      <td>211</td>\n",
              "      <td>215</td>\n",
              "      <td>216</td>\n",
              "      <td>204</td>\n",
              "      <td>204</td>\n",
              "      <td>211</td>\n",
              "      <td>164</td>\n",
              "      <td>3</td>\n",
              "      <td>0</td>\n",
              "      <td>0</td>\n",
              "      <td>0</td>\n",
              "      <td>0</td>\n",
              "      <td>0</td>\n",
              "      <td>0</td>\n",
              "      <td>0</td>\n",
              "    </tr>\n",
              "    <tr>\n",
              "      <th>16</th>\n",
              "      <td>0</td>\n",
              "      <td>0</td>\n",
              "      <td>0</td>\n",
              "      <td>0</td>\n",
              "      <td>0</td>\n",
              "      <td>0</td>\n",
              "      <td>0</td>\n",
              "      <td>0</td>\n",
              "      <td>57</td>\n",
              "      <td>176</td>\n",
              "      <td>167</td>\n",
              "      <td>205</td>\n",
              "      <td>199</td>\n",
              "      <td>190</td>\n",
              "      <td>193</td>\n",
              "      <td>195</td>\n",
              "      <td>193</td>\n",
              "      <td>196</td>\n",
              "      <td>183</td>\n",
              "      <td>182</td>\n",
              "      <td>0</td>\n",
              "      <td>0</td>\n",
              "      <td>0</td>\n",
              "      <td>0</td>\n",
              "      <td>0</td>\n",
              "      <td>0</td>\n",
              "      <td>0</td>\n",
              "      <td>0</td>\n",
              "    </tr>\n",
              "    <tr>\n",
              "      <th>17</th>\n",
              "      <td>0</td>\n",
              "      <td>0</td>\n",
              "      <td>0</td>\n",
              "      <td>0</td>\n",
              "      <td>0</td>\n",
              "      <td>0</td>\n",
              "      <td>0</td>\n",
              "      <td>0</td>\n",
              "      <td>80</td>\n",
              "      <td>200</td>\n",
              "      <td>186</td>\n",
              "      <td>219</td>\n",
              "      <td>204</td>\n",
              "      <td>191</td>\n",
              "      <td>204</td>\n",
              "      <td>210</td>\n",
              "      <td>204</td>\n",
              "      <td>205</td>\n",
              "      <td>189</td>\n",
              "      <td>184</td>\n",
              "      <td>0</td>\n",
              "      <td>0</td>\n",
              "      <td>0</td>\n",
              "      <td>0</td>\n",
              "      <td>0</td>\n",
              "      <td>0</td>\n",
              "      <td>0</td>\n",
              "      <td>0</td>\n",
              "    </tr>\n",
              "    <tr>\n",
              "      <th>18</th>\n",
              "      <td>0</td>\n",
              "      <td>0</td>\n",
              "      <td>0</td>\n",
              "      <td>0</td>\n",
              "      <td>0</td>\n",
              "      <td>0</td>\n",
              "      <td>0</td>\n",
              "      <td>0</td>\n",
              "      <td>145</td>\n",
              "      <td>170</td>\n",
              "      <td>173</td>\n",
              "      <td>188</td>\n",
              "      <td>202</td>\n",
              "      <td>202</td>\n",
              "      <td>219</td>\n",
              "      <td>211</td>\n",
              "      <td>204</td>\n",
              "      <td>212</td>\n",
              "      <td>198</td>\n",
              "      <td>220</td>\n",
              "      <td>0</td>\n",
              "      <td>0</td>\n",
              "      <td>0</td>\n",
              "      <td>0</td>\n",
              "      <td>0</td>\n",
              "      <td>0</td>\n",
              "      <td>0</td>\n",
              "      <td>0</td>\n",
              "    </tr>\n",
              "    <tr>\n",
              "      <th>19</th>\n",
              "      <td>0</td>\n",
              "      <td>0</td>\n",
              "      <td>0</td>\n",
              "      <td>0</td>\n",
              "      <td>0</td>\n",
              "      <td>0</td>\n",
              "      <td>0</td>\n",
              "      <td>0</td>\n",
              "      <td>174</td>\n",
              "      <td>174</td>\n",
              "      <td>188</td>\n",
              "      <td>192</td>\n",
              "      <td>211</td>\n",
              "      <td>210</td>\n",
              "      <td>215</td>\n",
              "      <td>217</td>\n",
              "      <td>214</td>\n",
              "      <td>219</td>\n",
              "      <td>192</td>\n",
              "      <td>248</td>\n",
              "      <td>0</td>\n",
              "      <td>0</td>\n",
              "      <td>0</td>\n",
              "      <td>0</td>\n",
              "      <td>0</td>\n",
              "      <td>0</td>\n",
              "      <td>0</td>\n",
              "      <td>0</td>\n",
              "    </tr>\n",
              "    <tr>\n",
              "      <th>20</th>\n",
              "      <td>0</td>\n",
              "      <td>0</td>\n",
              "      <td>0</td>\n",
              "      <td>0</td>\n",
              "      <td>0</td>\n",
              "      <td>0</td>\n",
              "      <td>0</td>\n",
              "      <td>0</td>\n",
              "      <td>180</td>\n",
              "      <td>190</td>\n",
              "      <td>175</td>\n",
              "      <td>158</td>\n",
              "      <td>209</td>\n",
              "      <td>209</td>\n",
              "      <td>211</td>\n",
              "      <td>217</td>\n",
              "      <td>215</td>\n",
              "      <td>214</td>\n",
              "      <td>190</td>\n",
              "      <td>249</td>\n",
              "      <td>4</td>\n",
              "      <td>0</td>\n",
              "      <td>0</td>\n",
              "      <td>0</td>\n",
              "      <td>0</td>\n",
              "      <td>0</td>\n",
              "      <td>0</td>\n",
              "      <td>0</td>\n",
              "    </tr>\n",
              "    <tr>\n",
              "      <th>21</th>\n",
              "      <td>0</td>\n",
              "      <td>0</td>\n",
              "      <td>0</td>\n",
              "      <td>0</td>\n",
              "      <td>0</td>\n",
              "      <td>0</td>\n",
              "      <td>0</td>\n",
              "      <td>0</td>\n",
              "      <td>184</td>\n",
              "      <td>188</td>\n",
              "      <td>180</td>\n",
              "      <td>210</td>\n",
              "      <td>209</td>\n",
              "      <td>205</td>\n",
              "      <td>218</td>\n",
              "      <td>216</td>\n",
              "      <td>212</td>\n",
              "      <td>208</td>\n",
              "      <td>195</td>\n",
              "      <td>253</td>\n",
              "      <td>16</td>\n",
              "      <td>0</td>\n",
              "      <td>0</td>\n",
              "      <td>0</td>\n",
              "      <td>0</td>\n",
              "      <td>0</td>\n",
              "      <td>0</td>\n",
              "      <td>0</td>\n",
              "    </tr>\n",
              "    <tr>\n",
              "      <th>22</th>\n",
              "      <td>0</td>\n",
              "      <td>0</td>\n",
              "      <td>0</td>\n",
              "      <td>0</td>\n",
              "      <td>0</td>\n",
              "      <td>0</td>\n",
              "      <td>0</td>\n",
              "      <td>0</td>\n",
              "      <td>183</td>\n",
              "      <td>201</td>\n",
              "      <td>172</td>\n",
              "      <td>203</td>\n",
              "      <td>206</td>\n",
              "      <td>208</td>\n",
              "      <td>216</td>\n",
              "      <td>215</td>\n",
              "      <td>213</td>\n",
              "      <td>213</td>\n",
              "      <td>196</td>\n",
              "      <td>255</td>\n",
              "      <td>26</td>\n",
              "      <td>0</td>\n",
              "      <td>0</td>\n",
              "      <td>0</td>\n",
              "      <td>0</td>\n",
              "      <td>0</td>\n",
              "      <td>0</td>\n",
              "      <td>0</td>\n",
              "    </tr>\n",
              "    <tr>\n",
              "      <th>23</th>\n",
              "      <td>0</td>\n",
              "      <td>0</td>\n",
              "      <td>0</td>\n",
              "      <td>0</td>\n",
              "      <td>0</td>\n",
              "      <td>0</td>\n",
              "      <td>0</td>\n",
              "      <td>0</td>\n",
              "      <td>180</td>\n",
              "      <td>215</td>\n",
              "      <td>184</td>\n",
              "      <td>199</td>\n",
              "      <td>214</td>\n",
              "      <td>219</td>\n",
              "      <td>227</td>\n",
              "      <td>218</td>\n",
              "      <td>219</td>\n",
              "      <td>223</td>\n",
              "      <td>200</td>\n",
              "      <td>228</td>\n",
              "      <td>40</td>\n",
              "      <td>0</td>\n",
              "      <td>0</td>\n",
              "      <td>0</td>\n",
              "      <td>0</td>\n",
              "      <td>0</td>\n",
              "      <td>0</td>\n",
              "      <td>0</td>\n",
              "    </tr>\n",
              "    <tr>\n",
              "      <th>24</th>\n",
              "      <td>0</td>\n",
              "      <td>0</td>\n",
              "      <td>0</td>\n",
              "      <td>0</td>\n",
              "      <td>0</td>\n",
              "      <td>0</td>\n",
              "      <td>0</td>\n",
              "      <td>0</td>\n",
              "      <td>187</td>\n",
              "      <td>218</td>\n",
              "      <td>185</td>\n",
              "      <td>206</td>\n",
              "      <td>216</td>\n",
              "      <td>215</td>\n",
              "      <td>221</td>\n",
              "      <td>229</td>\n",
              "      <td>219</td>\n",
              "      <td>218</td>\n",
              "      <td>200</td>\n",
              "      <td>232</td>\n",
              "      <td>53</td>\n",
              "      <td>0</td>\n",
              "      <td>0</td>\n",
              "      <td>0</td>\n",
              "      <td>0</td>\n",
              "      <td>0</td>\n",
              "      <td>0</td>\n",
              "      <td>0</td>\n",
              "    </tr>\n",
              "    <tr>\n",
              "      <th>25</th>\n",
              "      <td>0</td>\n",
              "      <td>0</td>\n",
              "      <td>0</td>\n",
              "      <td>0</td>\n",
              "      <td>0</td>\n",
              "      <td>0</td>\n",
              "      <td>0</td>\n",
              "      <td>0</td>\n",
              "      <td>184</td>\n",
              "      <td>207</td>\n",
              "      <td>188</td>\n",
              "      <td>198</td>\n",
              "      <td>217</td>\n",
              "      <td>165</td>\n",
              "      <td>146</td>\n",
              "      <td>214</td>\n",
              "      <td>214</td>\n",
              "      <td>214</td>\n",
              "      <td>200</td>\n",
              "      <td>231</td>\n",
              "      <td>57</td>\n",
              "      <td>0</td>\n",
              "      <td>0</td>\n",
              "      <td>0</td>\n",
              "      <td>0</td>\n",
              "      <td>0</td>\n",
              "      <td>0</td>\n",
              "      <td>0</td>\n",
              "    </tr>\n",
              "    <tr>\n",
              "      <th>26</th>\n",
              "      <td>0</td>\n",
              "      <td>0</td>\n",
              "      <td>0</td>\n",
              "      <td>0</td>\n",
              "      <td>0</td>\n",
              "      <td>0</td>\n",
              "      <td>0</td>\n",
              "      <td>0</td>\n",
              "      <td>211</td>\n",
              "      <td>252</td>\n",
              "      <td>229</td>\n",
              "      <td>240</td>\n",
              "      <td>244</td>\n",
              "      <td>252</td>\n",
              "      <td>253</td>\n",
              "      <td>253</td>\n",
              "      <td>250</td>\n",
              "      <td>231</td>\n",
              "      <td>227</td>\n",
              "      <td>245</td>\n",
              "      <td>67</td>\n",
              "      <td>0</td>\n",
              "      <td>0</td>\n",
              "      <td>0</td>\n",
              "      <td>0</td>\n",
              "      <td>0</td>\n",
              "      <td>0</td>\n",
              "      <td>0</td>\n",
              "    </tr>\n",
              "    <tr>\n",
              "      <th>27</th>\n",
              "      <td>0</td>\n",
              "      <td>0</td>\n",
              "      <td>0</td>\n",
              "      <td>0</td>\n",
              "      <td>0</td>\n",
              "      <td>0</td>\n",
              "      <td>0</td>\n",
              "      <td>0</td>\n",
              "      <td>109</td>\n",
              "      <td>171</td>\n",
              "      <td>157</td>\n",
              "      <td>163</td>\n",
              "      <td>161</td>\n",
              "      <td>167</td>\n",
              "      <td>160</td>\n",
              "      <td>149</td>\n",
              "      <td>142</td>\n",
              "      <td>145</td>\n",
              "      <td>145</td>\n",
              "      <td>149</td>\n",
              "      <td>11</td>\n",
              "      <td>0</td>\n",
              "      <td>0</td>\n",
              "      <td>0</td>\n",
              "      <td>0</td>\n",
              "      <td>0</td>\n",
              "      <td>0</td>\n",
              "      <td>0</td>\n",
              "    </tr>\n",
              "  </tbody>\n",
              "</table>\n",
              "</div>"
            ],
            "text/plain": [
              "    0   1   2   3   4   5   6   7    8   ...   19  20  21  22  23  24  25  26  27\n",
              "0    0   0   0   0   0   0   0   0    0  ...    0   0   0   0   0   0   0   0   0\n",
              "1    0   0   0   0   0   0   0   0    0  ...    0   0   0   0   0   0   0   0   0\n",
              "2    0   0   0   0   0   0   0   0    0  ...    0   0   0   0   0   0   0   0   0\n",
              "3    0   0   0   0   0   0   0   0    0  ...    0   0   0   0   0   0   0   0   0\n",
              "4    0   0   0   0   0   0   0   0    0  ...    0   0   0   0   0   0   0   0   0\n",
              "5    0   0   0   0   0   0   0   0    0  ...    0   0   0   0   0   0   0   0   0\n",
              "6    0   0   0   0   0   0   0   0    0  ...    0   0   0   0   0   0   0   0   0\n",
              "7    0   0   0   0   0   0   0   0    0  ...    0   0   0   0   0   0   0   0   0\n",
              "8    0   0   0   0   0   0   0   0    0  ...    1   0   0   0   0   0   0   0   0\n",
              "9    0   0   0   0   0   0   0   0    0  ...    2   0   0   0   0   0   0   0   0\n",
              "10   0   0   0   0   0   0   0   0    2  ...    4   0   0   0   0   0   0   0   0\n",
              "11   0   0   0   0   0   0   0   0    5  ...    5   0   0   0   0   0   0   0   0\n",
              "12   0   0   0   0   0   0   0   0    5  ...    5   0   0   0   0   0   0   0   0\n",
              "13   0   0   0   0   0   0   0   0    0  ...    0   0   0   0   0   0   0   0   0\n",
              "14   0   0   0   0   0   0   0   0    0  ...   60   0   0   0   0   0   0   0   0\n",
              "15   0   0   0   0   0   0   0   0   70  ...  164   3   0   0   0   0   0   0   0\n",
              "16   0   0   0   0   0   0   0   0   57  ...  182   0   0   0   0   0   0   0   0\n",
              "17   0   0   0   0   0   0   0   0   80  ...  184   0   0   0   0   0   0   0   0\n",
              "18   0   0   0   0   0   0   0   0  145  ...  220   0   0   0   0   0   0   0   0\n",
              "19   0   0   0   0   0   0   0   0  174  ...  248   0   0   0   0   0   0   0   0\n",
              "20   0   0   0   0   0   0   0   0  180  ...  249   4   0   0   0   0   0   0   0\n",
              "21   0   0   0   0   0   0   0   0  184  ...  253  16   0   0   0   0   0   0   0\n",
              "22   0   0   0   0   0   0   0   0  183  ...  255  26   0   0   0   0   0   0   0\n",
              "23   0   0   0   0   0   0   0   0  180  ...  228  40   0   0   0   0   0   0   0\n",
              "24   0   0   0   0   0   0   0   0  187  ...  232  53   0   0   0   0   0   0   0\n",
              "25   0   0   0   0   0   0   0   0  184  ...  231  57   0   0   0   0   0   0   0\n",
              "26   0   0   0   0   0   0   0   0  211  ...  245  67   0   0   0   0   0   0   0\n",
              "27   0   0   0   0   0   0   0   0  109  ...  149  11   0   0   0   0   0   0   0\n",
              "\n",
              "[28 rows x 28 columns]"
            ]
          },
          "metadata": {
            "tags": []
          },
          "execution_count": 13
        }
      ]
    },
    {
      "cell_type": "code",
      "metadata": {
        "id": "B1DtMv_Xyp4o"
      },
      "source": [
        "# to make sure output gives float we add .0 to 255\n",
        "train_images_scaled = trainin_images/255.0\n",
        "test_images_scaled = test_images/255.0"
      ],
      "execution_count": null,
      "outputs": []
    },
    {
      "cell_type": "code",
      "metadata": {
        "colab": {
          "base_uri": "https://localhost:8080/"
        },
        "id": "mhGC46_Pzbid",
        "outputId": "76b99f50-9b95-46fc-99b3-99aeed53ea82"
      },
      "source": [
        "int(5/1)"
      ],
      "execution_count": null,
      "outputs": [
        {
          "output_type": "execute_result",
          "data": {
            "text/plain": [
              "5"
            ]
          },
          "metadata": {
            "tags": []
          },
          "execution_count": 29
        }
      ]
    },
    {
      "cell_type": "code",
      "metadata": {
        "colab": {
          "base_uri": "https://localhost:8080/"
        },
        "id": "AyZy-zd_ze-Y",
        "outputId": "343d0ce9-b62f-4640-f009-86b7d459ff88"
      },
      "source": [
        "0/2"
      ],
      "execution_count": null,
      "outputs": [
        {
          "output_type": "execute_result",
          "data": {
            "text/plain": [
              "0.0"
            ]
          },
          "metadata": {
            "tags": []
          },
          "execution_count": 32
        }
      ]
    },
    {
      "cell_type": "code",
      "metadata": {
        "colab": {
          "base_uri": "https://localhost:8080/"
        },
        "id": "PBsTJcBHzkcg",
        "outputId": "69c770ae-4c99-4667-cb83-ee7bad46ac94"
      },
      "source": [
        "np.array(2)/1"
      ],
      "execution_count": null,
      "outputs": [
        {
          "output_type": "execute_result",
          "data": {
            "text/plain": [
              "2.0"
            ]
          },
          "metadata": {
            "tags": []
          },
          "execution_count": 30
        }
      ]
    },
    {
      "cell_type": "code",
      "metadata": {
        "colab": {
          "base_uri": "https://localhost:8080/"
        },
        "id": "v6lUq61DzA53",
        "outputId": "eb657035-aea0-4f82-84ed-f706b3586534"
      },
      "source": [
        "# see how output is long actually\n",
        "train_images_scaled[200][24][15]"
      ],
      "execution_count": null,
      "outputs": [
        {
          "output_type": "execute_result",
          "data": {
            "text/plain": [
              "0.8980392156862745"
            ]
          },
          "metadata": {
            "tags": []
          },
          "execution_count": 38
        }
      ]
    },
    {
      "cell_type": "code",
      "metadata": {
        "id": "PG6yFmJf4Mef"
      },
      "source": [
        "from tensorflow.keras.models import Sequential\n",
        "from tensorflow.keras.layers import Dense, Flatten\n",
        "from tensorflow.keras.callbacks import EarlyStopping"
      ],
      "execution_count": null,
      "outputs": []
    },
    {
      "cell_type": "code",
      "metadata": {
        "id": "ndJpvc6q4MAE"
      },
      "source": [
        "model = Sequential()\n",
        "model.add(Flatten())\n",
        "model.add(Dense(1024, activation=tf.nn.relu))\n",
        "model.add(Dense(10, activation=tf.nn.softmax))"
      ],
      "execution_count": null,
      "outputs": []
    },
    {
      "cell_type": "code",
      "metadata": {
        "id": "D1nsvC7149y-"
      },
      "source": [
        "model.compile(\n",
        "    optimizer = tf.optimizers.Nadam(),\n",
        "    loss = tf.losses.sparse_categorical_crossentropy,\n",
        "    metrics = ['accuracy']\n",
        ")"
      ],
      "execution_count": null,
      "outputs": []
    },
    {
      "cell_type": "code",
      "metadata": {
        "colab": {
          "base_uri": "https://localhost:8080/"
        },
        "id": "CvKd_MedHsMz",
        "outputId": "d3d764cc-6e3a-4973-fe2e-98171184f091"
      },
      "source": [
        "history = model.fit(\n",
        "    train_images_scaled, training_labels,\n",
        "    validation_data = (test_images_scaled, test_labels),\n",
        "    epochs = 30, callbacks = [EarlyStopping(patience=2)]\n",
        ")"
      ],
      "execution_count": null,
      "outputs": [
        {
          "output_type": "stream",
          "text": [
            "Epoch 1/30\n",
            "1875/1875 [==============================] - 27s 14ms/step - loss: 0.4590 - accuracy: 0.8347 - val_loss: 0.4223 - val_accuracy: 0.8441\n",
            "Epoch 2/30\n",
            "1875/1875 [==============================] - 27s 14ms/step - loss: 0.3450 - accuracy: 0.8738 - val_loss: 0.3672 - val_accuracy: 0.8658\n",
            "Epoch 3/30\n",
            "1875/1875 [==============================] - 27s 14ms/step - loss: 0.3098 - accuracy: 0.8856 - val_loss: 0.3399 - val_accuracy: 0.8766\n",
            "Epoch 4/30\n",
            "1875/1875 [==============================] - 26s 14ms/step - loss: 0.2855 - accuracy: 0.8931 - val_loss: 0.3366 - val_accuracy: 0.8843\n",
            "Epoch 5/30\n",
            "1875/1875 [==============================] - 26s 14ms/step - loss: 0.2685 - accuracy: 0.9007 - val_loss: 0.3275 - val_accuracy: 0.8822\n",
            "Epoch 6/30\n",
            "1875/1875 [==============================] - 26s 14ms/step - loss: 0.2532 - accuracy: 0.9053 - val_loss: 0.3330 - val_accuracy: 0.8820\n",
            "Epoch 7/30\n",
            "1875/1875 [==============================] - 26s 14ms/step - loss: 0.2419 - accuracy: 0.9097 - val_loss: 0.3637 - val_accuracy: 0.8701\n"
          ],
          "name": "stdout"
        }
      ]
    },
    {
      "cell_type": "code",
      "metadata": {
        "colab": {
          "base_uri": "https://localhost:8080/",
          "height": 282
        },
        "id": "9cz7YkcpIBJy",
        "outputId": "ff0604fd-e0a6-414d-c507-51f493b1e9bb"
      },
      "source": [
        "import pandas as pd\n",
        "pd.DataFrame(history.history).plot()"
      ],
      "execution_count": null,
      "outputs": [
        {
          "output_type": "execute_result",
          "data": {
            "text/plain": [
              "<matplotlib.axes._subplots.AxesSubplot at 0x7f5e3888d410>"
            ]
          },
          "metadata": {
            "tags": []
          },
          "execution_count": 23
        },
        {
          "output_type": "display_data",
          "data": {
            "image/png": "[encoded data removed]",
            "text/plain": [
              "<Figure size 432x288 with 1 Axes>"
            ]
          },
          "metadata": {
            "tags": [],
            "needs_background": "light"
          }
        }
      ]
    },
    {
      "cell_type": "code",
      "metadata": {
        "id": "MMBqif1RKj-N"
      },
      "source": [
        "classifications = model.predict(test_images_scaled)"
      ],
      "execution_count": null,
      "outputs": []
    },
    {
      "cell_type": "code",
      "metadata": {
        "colab": {
          "base_uri": "https://localhost:8080/",
          "height": 110
        },
        "id": "8q9D92zYKjya",
        "outputId": "b663930f-f7b0-4eb7-9090-072152dbc05e"
      },
      "source": [
        "pd.DataFrame(classifications).head(2)"
      ],
      "execution_count": null,
      "outputs": [
        {
          "output_type": "execute_result",
          "data": {
            "text/html": [
              "<div>\n",
              "<style scoped>\n",
              "    .dataframe tbody tr th:only-of-type {\n",
              "        vertical-align: middle;\n",
              "    }\n",
              "\n",
              "    .dataframe tbody tr th {\n",
              "        vertical-align: top;\n",
              "    }\n",
              "\n",
              "    .dataframe thead th {\n",
              "        text-align: right;\n",
              "    }\n",
              "</style>\n",
              "<table border=\"1\" class=\"dataframe\">\n",
              "  <thead>\n",
              "    <tr style=\"text-align: right;\">\n",
              "      <th></th>\n",
              "      <th>0</th>\n",
              "      <th>1</th>\n",
              "      <th>2</th>\n",
              "      <th>3</th>\n",
              "      <th>4</th>\n",
              "      <th>5</th>\n",
              "      <th>6</th>\n",
              "      <th>7</th>\n",
              "      <th>8</th>\n",
              "      <th>9</th>\n",
              "    </tr>\n",
              "  </thead>\n",
              "  <tbody>\n",
              "    <tr>\n",
              "      <th>0</th>\n",
              "      <td>3.093725e-08</td>\n",
              "      <td>3.245900e-09</td>\n",
              "      <td>1.583902e-07</td>\n",
              "      <td>3.698303e-10</td>\n",
              "      <td>6.999410e-08</td>\n",
              "      <td>3.974203e-04</td>\n",
              "      <td>1.340191e-07</td>\n",
              "      <td>1.754094e-02</td>\n",
              "      <td>5.063663e-07</td>\n",
              "      <td>9.820608e-01</td>\n",
              "    </tr>\n",
              "    <tr>\n",
              "      <th>1</th>\n",
              "      <td>2.015904e-05</td>\n",
              "      <td>1.121512e-15</td>\n",
              "      <td>9.994324e-01</td>\n",
              "      <td>1.421647e-09</td>\n",
              "      <td>2.033552e-04</td>\n",
              "      <td>5.125889e-09</td>\n",
              "      <td>3.440285e-04</td>\n",
              "      <td>1.834630e-15</td>\n",
              "      <td>6.023712e-09</td>\n",
              "      <td>7.107336e-14</td>\n",
              "    </tr>\n",
              "  </tbody>\n",
              "</table>\n",
              "</div>"
            ],
            "text/plain": [
              "              0             1  ...             8             9\n",
              "0  3.093725e-08  3.245900e-09  ...  5.063663e-07  9.820608e-01\n",
              "1  2.015904e-05  1.121512e-15  ...  6.023712e-09  7.107336e-14\n",
              "\n",
              "[2 rows x 10 columns]"
            ]
          },
          "metadata": {
            "tags": []
          },
          "execution_count": 25
        }
      ]
    },
    {
      "cell_type": "code",
      "metadata": {
        "colab": {
          "base_uri": "https://localhost:8080/"
        },
        "id": "KU9TOBdbKjqn",
        "outputId": "4c1b06c2-eddc-4c6f-c179-c475a20bce29"
      },
      "source": [
        "print(classifications[0])"
      ],
      "execution_count": null,
      "outputs": [
        {
          "output_type": "stream",
          "text": [
            "[3.0937251e-08 3.2459002e-09 1.5839016e-07 3.6983028e-10 6.9994101e-08 3.9742028e-04 1.3401912e-07 1.7540935e-02 5.0636635e-07 9.8206079e-01]\n"
          ],
          "name": "stdout"
        }
      ]
    },
    {
      "cell_type": "code",
      "metadata": {
        "colab": {
          "base_uri": "https://localhost:8080/"
        },
        "id": "QnGD143ZKjkx",
        "outputId": "ff488899-3949-4631-9350-cb9587b2acc5"
      },
      "source": [
        "print(test_labels[0])"
      ],
      "execution_count": null,
      "outputs": [
        {
          "output_type": "stream",
          "text": [
            "9\n"
          ],
          "name": "stdout"
        }
      ]
    },
    {
      "cell_type": "code",
      "metadata": {
        "colab": {
          "base_uri": "https://localhost:8080/"
        },
        "id": "6c9-u1bZKjez",
        "outputId": "5b27c72f-a58d-42dc-9c7d-4bd12309fb92"
      },
      "source": [
        "for i in classifications[0]:\n",
        "  print(round(i, 3))"
      ],
      "execution_count": null,
      "outputs": [
        {
          "output_type": "stream",
          "text": [
            "0.0\n",
            "0.0\n",
            "0.0\n",
            "0.0\n",
            "0.0\n",
            "0.0\n",
            "0.0\n",
            "0.018\n",
            "0.0\n",
            "0.982\n"
          ],
          "name": "stdout"
        }
      ]
    },
    {
      "cell_type": "code",
      "metadata": {
        "colab": {
          "base_uri": "https://localhost:8080/"
        },
        "id": "-Mzph9CwKjYw",
        "outputId": "b0c0e290-ff0b-4045-d4c6-5e2b8b27b20f"
      },
      "source": [
        "classifications_classes = model.predict_classes(test_images_scaled)"
      ],
      "execution_count": null,
      "outputs": [
        {
          "output_type": "stream",
          "text": [
            "/usr/local/lib/python3.7/dist-packages/tensorflow/python/keras/engine/sequential.py:455: UserWarning: `model.predict_classes()` is deprecated and will be removed after 2021-01-01. Please use instead:* `np.argmax(model.predict(x), axis=-1)`,   if your model does multi-class classification   (e.g. if it uses a `softmax` last-layer activation).* `(model.predict(x) > 0.5).astype(\"int32\")`,   if your model does binary classification   (e.g. if it uses a `sigmoid` last-layer activation).\n",
            "  warnings.warn('`model.predict_classes()` is deprecated and '\n"
          ],
          "name": "stderr"
        }
      ]
    },
    {
      "cell_type": "code",
      "metadata": {
        "colab": {
          "base_uri": "https://localhost:8080/",
          "height": 110
        },
        "id": "vVhvePYjKjSL",
        "outputId": "b49f8fd1-f96b-4e19-84d5-a5ba6d0aee0f"
      },
      "source": [
        "pd.DataFrame(classifications_classes).head(2)"
      ],
      "execution_count": null,
      "outputs": [
        {
          "output_type": "execute_result",
          "data": {
            "text/html": [
              "<div>\n",
              "<style scoped>\n",
              "    .dataframe tbody tr th:only-of-type {\n",
              "        vertical-align: middle;\n",
              "    }\n",
              "\n",
              "    .dataframe tbody tr th {\n",
              "        vertical-align: top;\n",
              "    }\n",
              "\n",
              "    .dataframe thead th {\n",
              "        text-align: right;\n",
              "    }\n",
              "</style>\n",
              "<table border=\"1\" class=\"dataframe\">\n",
              "  <thead>\n",
              "    <tr style=\"text-align: right;\">\n",
              "      <th></th>\n",
              "      <th>0</th>\n",
              "    </tr>\n",
              "  </thead>\n",
              "  <tbody>\n",
              "    <tr>\n",
              "      <th>0</th>\n",
              "      <td>9</td>\n",
              "    </tr>\n",
              "    <tr>\n",
              "      <th>1</th>\n",
              "      <td>2</td>\n",
              "    </tr>\n",
              "  </tbody>\n",
              "</table>\n",
              "</div>"
            ],
            "text/plain": [
              "   0\n",
              "0  9\n",
              "1  2"
            ]
          },
          "metadata": {
            "tags": []
          },
          "execution_count": 30
        }
      ]
    },
    {
      "cell_type": "code",
      "metadata": {
        "colab": {
          "base_uri": "https://localhost:8080/",
          "height": 110
        },
        "id": "C6qs8F01KjGd",
        "outputId": "6e2858e2-5b20-450b-888f-5eb0bc08c9a6"
      },
      "source": [
        "classifications_argmax = np.argmax(\n",
        "    model.predict(test_images_scaled), axis=-1\n",
        ")\n",
        "pd.DataFrame(classifications_argmax).head(2)"
      ],
      "execution_count": null,
      "outputs": [
        {
          "output_type": "execute_result",
          "data": {
            "text/html": [
              "<div>\n",
              "<style scoped>\n",
              "    .dataframe tbody tr th:only-of-type {\n",
              "        vertical-align: middle;\n",
              "    }\n",
              "\n",
              "    .dataframe tbody tr th {\n",
              "        vertical-align: top;\n",
              "    }\n",
              "\n",
              "    .dataframe thead th {\n",
              "        text-align: right;\n",
              "    }\n",
              "</style>\n",
              "<table border=\"1\" class=\"dataframe\">\n",
              "  <thead>\n",
              "    <tr style=\"text-align: right;\">\n",
              "      <th></th>\n",
              "      <th>0</th>\n",
              "    </tr>\n",
              "  </thead>\n",
              "  <tbody>\n",
              "    <tr>\n",
              "      <th>0</th>\n",
              "      <td>9</td>\n",
              "    </tr>\n",
              "    <tr>\n",
              "      <th>1</th>\n",
              "      <td>2</td>\n",
              "    </tr>\n",
              "  </tbody>\n",
              "</table>\n",
              "</div>"
            ],
            "text/plain": [
              "   0\n",
              "0  9\n",
              "1  2"
            ]
          },
          "metadata": {
            "tags": []
          },
          "execution_count": 31
        }
      ]
    },
    {
      "cell_type": "code",
      "metadata": {
        "id": "yU4JGrYcZ0kZ"
      },
      "source": [
        "x = np.array([[4,2,3], [1,9,3], [3,9,0], [5,9,8]])"
      ],
      "execution_count": null,
      "outputs": []
    },
    {
      "cell_type": "code",
      "metadata": {
        "id": "UV57odefNzzz",
        "colab": {
          "base_uri": "https://localhost:8080/"
        },
        "outputId": "a5eca14c-e2fd-405a-ea19-556a458a4781"
      },
      "source": [
        "np.argmax(x, axis=0)"
      ],
      "execution_count": null,
      "outputs": [
        {
          "output_type": "execute_result",
          "data": {
            "text/plain": [
              "array([3, 1, 3])"
            ]
          },
          "metadata": {
            "tags": []
          },
          "execution_count": 44
        }
      ]
    },
    {
      "cell_type": "code",
      "metadata": {
        "colab": {
          "base_uri": "https://localhost:8080/"
        },
        "id": "ZzjY_gWLZ0wn",
        "outputId": "4cccfc47-205e-425e-a478-2c689c7cc343"
      },
      "source": [
        "np.argmax(x, axis=1)"
      ],
      "execution_count": null,
      "outputs": [
        {
          "output_type": "execute_result",
          "data": {
            "text/plain": [
              "array([0, 1, 1, 1])"
            ]
          },
          "metadata": {
            "tags": []
          },
          "execution_count": 45
        }
      ]
    },
    {
      "cell_type": "code",
      "metadata": {
        "colab": {
          "base_uri": "https://localhost:8080/"
        },
        "id": "i7ouJ-0PZ07H",
        "outputId": "12f35b76-549f-4a08-86be-adab92ff84e2"
      },
      "source": [
        "np.argmax(x, axis=-1)"
      ],
      "execution_count": null,
      "outputs": [
        {
          "output_type": "execute_result",
          "data": {
            "text/plain": [
              "array([0, 1, 1, 1])"
            ]
          },
          "metadata": {
            "tags": []
          },
          "execution_count": 46
        }
      ]
    },
    {
      "cell_type": "code",
      "metadata": {
        "colab": {
          "base_uri": "https://localhost:8080/"
        },
        "id": "bdUkalqSZ1Hn",
        "outputId": "71a04e65-87cb-4016-ccb1-a177a08788ec"
      },
      "source": [
        "x.shape"
      ],
      "execution_count": null,
      "outputs": [
        {
          "output_type": "execute_result",
          "data": {
            "text/plain": [
              "(4, 3)"
            ]
          },
          "metadata": {
            "tags": []
          },
          "execution_count": 47
        }
      ]
    },
    {
      "cell_type": "code",
      "metadata": {
        "colab": {
          "base_uri": "https://localhost:8080/"
        },
        "id": "WzZ_hkJeZ1RX",
        "outputId": "3519d3a5-3efc-4367-9f68-f1829dc8f119"
      },
      "source": [
        "x = x.reshape(2, 2, 3)\n",
        "x"
      ],
      "execution_count": null,
      "outputs": [
        {
          "output_type": "execute_result",
          "data": {
            "text/plain": [
              "array([[[4, 2, 3],\n",
              "        [1, 9, 3]],\n",
              "\n",
              "       [[3, 9, 0],\n",
              "        [5, 9, 8]]])"
            ]
          },
          "metadata": {
            "tags": []
          },
          "execution_count": 53
        }
      ]
    },
    {
      "cell_type": "code",
      "metadata": {
        "colab": {
          "base_uri": "https://localhost:8080/"
        },
        "id": "T3HxYa56Z1bX",
        "outputId": "921e49bf-3922-49e1-b445-87d2b849c792"
      },
      "source": [
        "np.argmax(x, axis=1)"
      ],
      "execution_count": null,
      "outputs": [
        {
          "output_type": "execute_result",
          "data": {
            "text/plain": [
              "array([[0, 1, 0],\n",
              "       [1, 0, 1]])"
            ]
          },
          "metadata": {
            "tags": []
          },
          "execution_count": 54
        }
      ]
    },
    {
      "cell_type": "code",
      "metadata": {
        "id": "e6op2oxINz57",
        "colab": {
          "base_uri": "https://localhost:8080/"
        },
        "outputId": "8e09fe2d-6378-4238-9f44-1a548348355f"
      },
      "source": [
        "# -1 means last existing shape, if x is 2 dimenasional, then -1 = 1, if three dimensional -1=2 (i.e 0, 1, 2)\n",
        "# if 4d then -1=3\n",
        "np.argmax(x, axis=-1)"
      ],
      "execution_count": null,
      "outputs": [
        {
          "output_type": "execute_result",
          "data": {
            "text/plain": [
              "array([[0, 1],\n",
              "       [1, 1]])"
            ]
          },
          "metadata": {
            "tags": []
          },
          "execution_count": 55
        }
      ]
    },
    {
      "cell_type": "code",
      "metadata": {
        "id": "8UUY9eDeNz_z",
        "colab": {
          "base_uri": "https://localhost:8080/"
        },
        "outputId": "8cdeb7f4-ba51-47b8-eeaa-e90af8c8a007"
      },
      "source": [
        "np.argmax(x, axis=2)"
      ],
      "execution_count": null,
      "outputs": [
        {
          "output_type": "execute_result",
          "data": {
            "text/plain": [
              "array([[0, 1],\n",
              "       [1, 1]])"
            ]
          },
          "metadata": {
            "tags": []
          },
          "execution_count": 56
        }
      ]
    },
    {
      "cell_type": "code",
      "metadata": {
        "colab": {
          "base_uri": "https://localhost:8080/"
        },
        "id": "3tGYf0B65jAY",
        "outputId": "ac839eab-a480-4b4d-b751-f749a40e4751"
      },
      "source": [
        "# training on not normalized data\n",
        "\n",
        "model2 = Sequential()\n",
        "model2.add(Flatten())\n",
        "model2.add(Dense(128, activation=tf.nn.relu))\n",
        "model2.add(Dense(10, activation=tf.nn.softmax))\n",
        "\n",
        "model2.compile(\n",
        "    optimizer = tf.optimizers.Nadam(),\n",
        "    loss = tf.losses.sparse_categorical_crossentropy,\n",
        "    metrics = ['accuracy']\n",
        ")\n",
        "\n",
        "history_not_normalized = model2.fit(\n",
        "    trainin_images, training_labels,\n",
        "    validation_data = (test_images_scaled, test_labels),\n",
        "    epochs = 30, callbacks = [EarlyStopping(patience=2)]\n",
        ")\n",
        "\n",
        "# Accuracy is low"
      ],
      "execution_count": null,
      "outputs": [
        {
          "output_type": "stream",
          "text": [
            "Epoch 1/30\n",
            "1875/1875 [==============================] - 7s 4ms/step - loss: 3.7673 - accuracy: 0.7043 - val_loss: 2.2384 - val_accuracy: 0.1095\n",
            "Epoch 2/30\n",
            "1875/1875 [==============================] - 7s 4ms/step - loss: 0.6201 - accuracy: 0.7829 - val_loss: 2.3258 - val_accuracy: 0.1001\n",
            "Epoch 3/30\n",
            "1875/1875 [==============================] - 6s 3ms/step - loss: 0.5449 - accuracy: 0.8102 - val_loss: 2.4384 - val_accuracy: 0.1001\n"
          ],
          "name": "stdout"
        }
      ]
    },
    {
      "cell_type": "code",
      "metadata": {
        "id": "5lnTPEjbN0E3",
        "colab": {
          "base_uri": "https://localhost:8080/"
        },
        "outputId": "57f0a5f5-c3ba-4128-8751-ddb09781c5c2"
      },
      "source": [
        "tf.keras.callbacks.Callback()"
      ],
      "execution_count": null,
      "outputs": [
        {
          "output_type": "execute_result",
          "data": {
            "text/plain": [
              "tensorflow.python.keras.callbacks.Callback"
            ]
          },
          "metadata": {
            "tags": []
          },
          "execution_count": 63
        }
      ]
    },
    {
      "cell_type": "code",
      "metadata": {
        "id": "92IbXz0YN0JI"
      },
      "source": [
        "# training_finished = False\n",
        "\n",
        "# class MyCallback(tf.keras.callbacks.Callback):\n",
        "#    def on_train_end(self, logs=None):\n",
        "#      global training_finished\n",
        "#      training_finished = True\n",
        "\n",
        "# model = tf.keras.Sequential([tf.keras.layers.Dense(1, input_shape=(1,))])\n",
        "# model.compile(loss='mean_squared_error')\n",
        "# model.fit(tf.constant([[1.0]]), tf.constant([[1.0]]),\n",
        "#            callbacks=[MyCallback()])\n",
        "# assert training_finished == True"
      ],
      "execution_count": null,
      "outputs": []
    },
    {
      "cell_type": "code",
      "metadata": {
        "id": "gZ-VbnthN0N1"
      },
      "source": [
        "dir(\n",
        "   tf.keras.callbacks.Callback\n",
        ")"
      ],
      "execution_count": null,
      "outputs": []
    },
    {
      "cell_type": "code",
      "metadata": {
        "colab": {
          "base_uri": "https://localhost:8080/"
        },
        "id": "8IGgzUXHnwGp",
        "outputId": "5292081c-33ff-40b1-af7a-d09e3f1727ef"
      },
      "source": [
        "!pip install see\n",
        "from see import see\n",
        "\n",
        "see(\n",
        "   tf.keras.callbacks.Callback\n",
        ")"
      ],
      "execution_count": 43,
      "outputs": [
        {
          "output_type": "stream",
          "name": "stdout",
          "text": [
            "Requirement already satisfied: see in /usr/local/lib/python3.7/dist-packages (1.4.1)\n"
          ]
        },
        {
          "output_type": "execute_result",
          "data": {
            "text/plain": [
              "    isclass                    <                          <=\n",
              "    ==                         !=                         >\n",
              "    >=                         dir()                      hash()\n",
              "    help()                     repr()                     str()\n",
              "    .on_batch_begin()          .on_batch_end()            .on_epoch_begin()\n",
              "    .on_epoch_end()            .on_predict_batch_begin()\n",
              "    .on_predict_batch_end()    .on_predict_begin()        .on_predict_end()\n",
              "    .on_test_batch_begin()     .on_test_batch_end()       .on_test_begin()\n",
              "    .on_test_end()             .on_train_batch_begin()\n",
              "    .on_train_batch_end()      .on_train_begin()          .on_train_end()\n",
              "    .set_model()               .set_params()"
            ]
          },
          "metadata": {},
          "execution_count": 43
        }
      ]
    },
    {
      "cell_type": "code",
      "source": [
        "from see import see\n",
        "\n",
        "see(\n",
        "   tf.keras.callbacks.Callback()\n",
        ")"
      ],
      "metadata": {
        "colab": {
          "base_uri": "https://localhost:8080/"
        },
        "id": "U0_x1r7ZrVAx",
        "outputId": "c67b473a-925c-4e84-8a00-8e959b3e1502"
      },
      "execution_count": 44,
      "outputs": [
        {
          "output_type": "execute_result",
          "data": {
            "text/plain": [
              "    <                         <=                        ==\n",
              "    !=                        >                         >=\n",
              "    dir()                     hash()                    help()\n",
              "    repr()                    str()                     .model\n",
              "    .on_batch_begin()         .on_batch_end()           .on_epoch_begin()\n",
              "    .on_epoch_end()           .on_predict_batch_begin()\n",
              "    .on_predict_batch_end()                             .on_predict_begin()\n",
              "    .on_predict_end()         .on_test_batch_begin()    .on_test_batch_end()\n",
              "    .on_test_begin()          .on_test_end()\n",
              "    .on_train_batch_begin()                             .on_train_batch_end()\n",
              "    .on_train_begin()         .on_train_end()           .set_model()\n",
              "    .set_params()             .validation_data"
            ]
          },
          "metadata": {},
          "execution_count": 44
        }
      ]
    },
    {
      "cell_type": "code",
      "metadata": {
        "colab": {
          "base_uri": "https://localhost:8080/"
        },
        "id": "eNz0Qw6rnwPn",
        "outputId": "26731673-4930-4fd9-f085-645f01bd0544"
      },
      "source": [
        "see(\n",
        "   model\n",
        ")"
      ],
      "execution_count": null,
      "outputs": [
        {
          "output_type": "stream",
          "text": [
            "/usr/local/lib/python3.7/dist-packages/tensorflow/python/keras/engine/training.py:2426: UserWarning: `Model.state_updates` will be removed in a future version. This property should not be used in TensorFlow 2.0, as `updates` are applied automatically.\n",
            "  warnings.warn('`Model.state_updates` will be removed in a future version. '\n",
            "/usr/local/lib/python3.7/dist-packages/tensorflow/python/keras/engine/base_layer.py:1331: UserWarning: `layer.updates` will be removed in a future version. This property should not be used in TensorFlow 2.0, as `updates` are applied automatically.\n",
            "  warnings.warn('`layer.updates` will be removed in a future version. '\n"
          ],
          "name": "stderr"
        },
        {
          "output_type": "execute_result",
          "data": {
            "text/plain": [
              "    ()                       <                        <=\n",
              "    ==                       !=                       >\n",
              "    >=                       dir()                    hash()\n",
              "    help()                   repr()                   str()\n",
              "    .activity_regularizer    .add()                   .add_loss()\n",
              "    .add_metric()            .add_update()            .add_variable()\n",
              "    .add_weight()            .apply()                 .build()\n",
              "    .built                   .call()                  .compile()\n",
              "    .compiled_loss()         .compiled_metrics        .compute_dtype\n",
              "    .compute_mask()          .compute_output_shape()\n",
              "    .compute_output_signature()                       .count_params()\n",
              "    .distribute_strategy     .dtype                   .dtype_policy\n",
              "    .dynamic                 .evaluate()              .evaluate_generator()\n",
              "    .fit()                   .fit_generator()         .from_config()\n",
              "    .get_config()            .get_input_at()          .get_input_mask_at()\n",
              "    .get_input_shape_at()    .get_layer()             .get_losses_for()\n",
              "    .get_output_at()         .get_output_mask_at()    .get_output_shape_at()\n",
              "    .get_updates_for()       .get_weights()           .history\n",
              "    .inbound_nodes           .input                   .input_mask\n",
              "    .input_names             .input_shape             .input_spec\n",
              "    .inputs                  .layers                  .load_weights()\n",
              "    .loss()                  .losses                  .make_predict_function()\n",
              "    .make_test_function()    .make_train_function()\n",
              "    .metrics                 .metrics_names           .name\n",
              "    .name_scope()            .non_trainable_variables\n",
              "    .non_trainable_weights                            .optimizer\n",
              "    .outbound_nodes          .output                  .output_mask\n",
              "    .output_names            .output_shape            .outputs\n",
              "    .pop()                   .predict()               .predict_classes()\n",
              "    .predict_function()      .predict_generator()     .predict_on_batch()\n",
              "    .predict_proba()         .predict_step()          .reset_metrics()\n",
              "    .reset_states()          .run_eagerly             .save()\n",
              "    .save_weights()          .set_weights()           .state_updates\n",
              "    .stateful                .stop_training           .submodules\n",
              "    .summary()               .supports_masking        .test_function()\n",
              "    .test_on_batch()         .test_step()             .to_json()\n",
              "    .to_yaml()               .train_function()        .train_on_batch()\n",
              "    .train_step()            .trainable               .trainable_variables\n",
              "    .trainable_weights       .updates                 .variable_dtype\n",
              "    .variables               .weights                 .with_name_scope()"
            ]
          },
          "metadata": {
            "tags": []
          },
          "execution_count": 100
        }
      ]
    },
    {
      "cell_type": "code",
      "metadata": {
        "colab": {
          "base_uri": "https://localhost:8080/"
        },
        "id": "AZ1h45JVzheP",
        "outputId": "c2968f9f-ca62-473b-90f4-b6c745490b8a"
      },
      "source": [
        "hash(len)"
      ],
      "execution_count": null,
      "outputs": [
        {
          "output_type": "execute_result",
          "data": {
            "text/plain": [
              "2837493598382"
            ]
          },
          "metadata": {
            "tags": []
          },
          "execution_count": 104
        }
      ]
    },
    {
      "cell_type": "code",
      "metadata": {
        "colab": {
          "base_uri": "https://localhost:8080/"
        },
        "id": "1tM1upjiekGf",
        "outputId": "d68c2175-39d1-4c80-d3fb-b49c1f56e645"
      },
      "source": [
        "trainin_images.shape"
      ],
      "execution_count": null,
      "outputs": [
        {
          "output_type": "execute_result",
          "data": {
            "text/plain": [
              "(60000, 28, 28)"
            ]
          },
          "metadata": {
            "tags": []
          },
          "execution_count": 105
        }
      ]
    },
    {
      "cell_type": "code",
      "metadata": {
        "colab": {
          "base_uri": "https://localhost:8080/"
        },
        "id": "MsWVpjq3nwsn",
        "outputId": "2eece696-1e7d-4736-ea23-98947361f58d"
      },
      "source": [
        "pd.DataFrame(history.history).plot()"
      ],
      "execution_count": null,
      "outputs": [
        {
          "output_type": "execute_result",
          "data": {
            "text/plain": [
              "{}"
            ]
          },
          "metadata": {
            "tags": []
          },
          "execution_count": 108
        }
      ]
    },
    {
      "cell_type": "code",
      "metadata": {
        "id": "FcVc62TcfIJd"
      },
      "source": [
        "classes = np.argmax(model.predict(test_images), axis=-1)"
      ],
      "execution_count": null,
      "outputs": []
    },
    {
      "cell_type": "code",
      "metadata": {
        "colab": {
          "base_uri": "https://localhost:8080/",
          "height": 417
        },
        "id": "7aFFG625fIWd",
        "outputId": "0e1555aa-34d9-4464-ea0f-03a27342ff24"
      },
      "source": [
        "pd.DataFrame(classes)"
      ],
      "execution_count": null,
      "outputs": [
        {
          "output_type": "execute_result",
          "data": {
            "text/html": [
              "<div>\n",
              "<style scoped>\n",
              "    .dataframe tbody tr th:only-of-type {\n",
              "        vertical-align: middle;\n",
              "    }\n",
              "\n",
              "    .dataframe tbody tr th {\n",
              "        vertical-align: top;\n",
              "    }\n",
              "\n",
              "    .dataframe thead th {\n",
              "        text-align: right;\n",
              "    }\n",
              "</style>\n",
              "<table border=\"1\" class=\"dataframe\">\n",
              "  <thead>\n",
              "    <tr style=\"text-align: right;\">\n",
              "      <th></th>\n",
              "      <th>0</th>\n",
              "    </tr>\n",
              "  </thead>\n",
              "  <tbody>\n",
              "    <tr>\n",
              "      <th>0</th>\n",
              "      <td>9</td>\n",
              "    </tr>\n",
              "    <tr>\n",
              "      <th>1</th>\n",
              "      <td>2</td>\n",
              "    </tr>\n",
              "    <tr>\n",
              "      <th>2</th>\n",
              "      <td>1</td>\n",
              "    </tr>\n",
              "    <tr>\n",
              "      <th>3</th>\n",
              "      <td>1</td>\n",
              "    </tr>\n",
              "    <tr>\n",
              "      <th>4</th>\n",
              "      <td>6</td>\n",
              "    </tr>\n",
              "    <tr>\n",
              "      <th>...</th>\n",
              "      <td>...</td>\n",
              "    </tr>\n",
              "    <tr>\n",
              "      <th>9995</th>\n",
              "      <td>9</td>\n",
              "    </tr>\n",
              "    <tr>\n",
              "      <th>9996</th>\n",
              "      <td>1</td>\n",
              "    </tr>\n",
              "    <tr>\n",
              "      <th>9997</th>\n",
              "      <td>8</td>\n",
              "    </tr>\n",
              "    <tr>\n",
              "      <th>9998</th>\n",
              "      <td>1</td>\n",
              "    </tr>\n",
              "    <tr>\n",
              "      <th>9999</th>\n",
              "      <td>5</td>\n",
              "    </tr>\n",
              "  </tbody>\n",
              "</table>\n",
              "<p>10000 rows × 1 columns</p>\n",
              "</div>"
            ],
            "text/plain": [
              "      0\n",
              "0     9\n",
              "1     2\n",
              "2     1\n",
              "3     1\n",
              "4     6\n",
              "...  ..\n",
              "9995  9\n",
              "9996  1\n",
              "9997  8\n",
              "9998  1\n",
              "9999  5\n",
              "\n",
              "[10000 rows x 1 columns]"
            ]
          },
          "metadata": {
            "tags": []
          },
          "execution_count": 115
        }
      ]
    },
    {
      "cell_type": "code",
      "metadata": {
        "id": "Cf2BdDUgfIiM"
      },
      "source": [
        "probabilities = model.predict(test_images)"
      ],
      "execution_count": null,
      "outputs": []
    },
    {
      "cell_type": "code",
      "metadata": {
        "colab": {
          "base_uri": "https://localhost:8080/"
        },
        "id": "DW3HQ_F_fIt6",
        "outputId": "ac20cb6e-80a7-43ae-c1ec-ef0e856b8d25"
      },
      "source": [
        "probabilities[0][-1]"
      ],
      "execution_count": null,
      "outputs": [
        {
          "output_type": "execute_result",
          "data": {
            "text/plain": [
              "0.999998"
            ]
          },
          "metadata": {
            "tags": []
          },
          "execution_count": 120
        }
      ]
    },
    {
      "cell_type": "markdown",
      "metadata": {
        "id": "BMT4N-yDpfjX"
      },
      "source": [
        "# Custom Callbacks\n",
        "### tf.kears.activations.relu - this is preferred with Suquential models\n",
        "### tf.nn.relu - this can be y = tf.nn.relu(x) - activations word is not used"
      ]
    },
    {
      "cell_type": "code",
      "metadata": {
        "id": "YL-ng6AycyPo"
      },
      "source": [
        "import tensorflow as tf"
      ],
      "execution_count": null,
      "outputs": []
    },
    {
      "cell_type": "code",
      "metadata": {
        "id": "UhqkMh5dc72c"
      },
      "source": [
        "class myCallback(tf.keras.callbacks.Callback):\n",
        "  def on_epoch_end(self, epoch, logs = {}):\n",
        "    if (logs.get(\"accuracy\")) >= 0.9:\n",
        "      self.model.stop_training = True"
      ],
      "execution_count": null,
      "outputs": []
    },
    {
      "cell_type": "code",
      "metadata": {
        "colab": {
          "base_uri": "https://localhost:8080/"
        },
        "id": "HrxVGJAbd6zB",
        "outputId": "af92f781-a400-40d2-f668-f021565d0b10"
      },
      "source": [
        "mnist = tf.keras.datasets.fashion_mnist\n",
        "\n",
        "(x_train, y_train),(x_test, y_test) = mnist.load_data()"
      ],
      "execution_count": null,
      "outputs": [
        {
          "output_type": "stream",
          "text": [
            "Downloading data from https://storage.googleapis.com/tensorflow/tf-keras-datasets/train-labels-idx1-ubyte.gz\n",
            "32768/29515 [=================================] - 0s 0us/step\n",
            "Downloading data from https://storage.googleapis.com/tensorflow/tf-keras-datasets/train-images-idx3-ubyte.gz\n",
            "26427392/26421880 [==============================] - 0s 0us/step\n",
            "Downloading data from https://storage.googleapis.com/tensorflow/tf-keras-datasets/t10k-labels-idx1-ubyte.gz\n",
            "8192/5148 [===============================================] - 0s 0us/step\n",
            "Downloading data from https://storage.googleapis.com/tensorflow/tf-keras-datasets/t10k-images-idx3-ubyte.gz\n",
            "4423680/4422102 [==============================] - 0s 0us/step\n"
          ],
          "name": "stdout"
        }
      ]
    },
    {
      "cell_type": "code",
      "metadata": {
        "id": "4aRtTEUHd6t-"
      },
      "source": [
        "x_train = x_train/255\n",
        "x_test = x_test/255"
      ],
      "execution_count": null,
      "outputs": []
    },
    {
      "cell_type": "code",
      "metadata": {
        "id": "39zVWK0Md6la"
      },
      "source": [
        "from tensorflow.keras.models import Sequential\n",
        "from tensorflow.keras.layers import Flatten, Dense"
      ],
      "execution_count": null,
      "outputs": []
    },
    {
      "cell_type": "code",
      "metadata": {
        "id": "MbA2_mgdd6fY"
      },
      "source": [
        "model = Sequential()\n",
        "model.add(Flatten(input_shape=(28, 28)))\n",
        "model.add(Dense(128, activation=tf.keras.activations.selu))\n",
        "model.add(Dense(10, tf.keras.activations.softmax))"
      ],
      "execution_count": null,
      "outputs": []
    },
    {
      "cell_type": "code",
      "metadata": {
        "id": "jWYtQA4tir4z"
      },
      "source": [
        "tf.nn.ac"
      ],
      "execution_count": null,
      "outputs": []
    },
    {
      "cell_type": "code",
      "metadata": {
        "id": "Ehqmy-sEd6Ya"
      },
      "source": [
        "model.compile(optimizer=tf.optimizers.Nadam(),\n",
        "              loss = tf.losses.sparse_categorical_crossentropy,\n",
        "              metrics = ['accuracy'])"
      ],
      "execution_count": null,
      "outputs": []
    },
    {
      "cell_type": "code",
      "metadata": {
        "id": "61D7aUC3gdHq"
      },
      "source": [
        "callback = myCallback()"
      ],
      "execution_count": null,
      "outputs": []
    },
    {
      "cell_type": "code",
      "metadata": {
        "colab": {
          "base_uri": "https://localhost:8080/"
        },
        "id": "ECgmYc0Vd6No",
        "outputId": "1d46d994-bc83-4542-95f4-ab9eb42dc7fc"
      },
      "source": [
        "history = model.fit(\n",
        "    x_train, y_train, validation_data = (x_test, y_test), callbacks=[callback],\n",
        "    epochs=20\n",
        ")"
      ],
      "execution_count": null,
      "outputs": [
        {
          "output_type": "stream",
          "text": [
            "Epoch 1/20\n",
            "   1/1875 [..............................] - ETA: 4:53 - loss: 0.2318 - accuracy: 0.9062WARNING:tensorflow:Callback method `on_train_batch_end` is slow compared to the batch time (batch time: 0.0041s vs `on_train_batch_end` time: 0.0257s). Check your callbacks.\n",
            "1875/1875 [==============================] - 7s 4ms/step - loss: 0.3012 - accuracy: 0.8893 - val_loss: 0.3723 - val_accuracy: 0.8641\n",
            "Epoch 2/20\n",
            "1875/1875 [==============================] - 8s 4ms/step - loss: 0.2850 - accuracy: 0.8945 - val_loss: 0.3370 - val_accuracy: 0.8784\n",
            "Epoch 3/20\n",
            "1875/1875 [==============================] - 8s 4ms/step - loss: 0.2723 - accuracy: 0.8990 - val_loss: 0.3356 - val_accuracy: 0.8787\n",
            "Epoch 4/20\n",
            "1875/1875 [==============================] - 7s 4ms/step - loss: 0.2619 - accuracy: 0.9028 - val_loss: 0.3309 - val_accuracy: 0.8791\n"
          ],
          "name": "stdout"
        }
      ]
    },
    {
      "cell_type": "markdown",
      "metadata": {
        "id": "Mb3NIHXqd5up"
      },
      "source": [
        "# Using Convolutions and MaxPooling"
      ]
    },
    {
      "cell_type": "code",
      "metadata": {
        "colab": {
          "base_uri": "https://localhost:8080/"
        },
        "id": "tEvq0rRYnwd1",
        "outputId": "f4252487-cb52-485b-8d6e-71bca1c17e91"
      },
      "source": [
        "import tensorflow as tf\n",
        "print(tf.__version__)\n",
        "mnist = tf.keras.datasets.fashion_mnist\n",
        "(training_images, training_labels), (test_images, test_labels) = mnist.load_data()\n",
        "training_images=training_images.reshape(60000, 28, 28, 1)\n",
        "training_images=training_images / 255.0\n",
        "test_images = test_images.reshape(10000, 28, 28, 1)\n",
        "test_images=test_images/255.0\n",
        "model = tf.keras.models.Sequential([\n",
        "  tf.keras.layers.Conv2D(64, (3,3), activation='relu', input_shape=(28, 28, 1)),\n",
        "  tf.keras.layers.MaxPooling2D(2, 2),\n",
        "  tf.keras.layers.Conv2D(64, (3,3), activation='relu'),\n",
        "  tf.keras.layers.MaxPooling2D(2,2),\n",
        "  tf.keras.layers.Flatten(),\n",
        "  tf.keras.layers.Dense(128, activation='relu'),\n",
        "  tf.keras.layers.Dense(10, activation='softmax')\n",
        "])\n",
        "model.compile(optimizer='adam', loss='sparse_categorical_crossentropy', metrics=['accuracy'])\n",
        "model.summary()\n",
        "model.fit(training_images, training_labels, epochs=5)\n",
        "test_loss = model.evaluate(test_images, test_labels)\n"
      ],
      "execution_count": null,
      "outputs": [
        {
          "output_type": "stream",
          "text": [
            "2.5.0\n",
            "Model: \"sequential_4\"\n",
            "_________________________________________________________________\n",
            "Layer (type)                 Output Shape              Param #   \n",
            "=================================================================\n",
            "conv2d (Conv2D)              (None, 26, 26, 64)        640       \n",
            "_________________________________________________________________\n",
            "max_pooling2d (MaxPooling2D) (None, 13, 13, 64)        0         \n",
            "_________________________________________________________________\n",
            "conv2d_1 (Conv2D)            (None, 11, 11, 64)        36928     \n",
            "_________________________________________________________________\n",
            "max_pooling2d_1 (MaxPooling2 (None, 5, 5, 64)          0         \n",
            "_________________________________________________________________\n",
            "flatten_4 (Flatten)          (None, 1600)              0         \n",
            "_________________________________________________________________\n",
            "dense_8 (Dense)              (None, 128)               204928    \n",
            "_________________________________________________________________\n",
            "dense_9 (Dense)              (None, 10)                1290      \n",
            "=================================================================\n",
            "Total params: 243,786\n",
            "Trainable params: 243,786\n",
            "Non-trainable params: 0\n",
            "_________________________________________________________________\n",
            "Epoch 1/5\n",
            "1875/1875 [==============================] - 82s 43ms/step - loss: 0.4498 - accuracy: 0.8354\n",
            "Epoch 2/5\n",
            "1875/1875 [==============================] - 81s 43ms/step - loss: 0.2961 - accuracy: 0.8932\n",
            "Epoch 3/5\n",
            "1875/1875 [==============================] - 80s 43ms/step - loss: 0.2501 - accuracy: 0.9072\n",
            "Epoch 4/5\n",
            "1875/1875 [==============================] - 80s 43ms/step - loss: 0.2161 - accuracy: 0.9206\n",
            "Epoch 5/5\n",
            "1875/1875 [==============================] - 80s 42ms/step - loss: 0.1916 - accuracy: 0.9287\n",
            "313/313 [==============================] - 4s 12ms/step - loss: 0.2570 - accuracy: 0.9050\n"
          ],
          "name": "stdout"
        }
      ]
    },
    {
      "cell_type": "code",
      "metadata": {
        "colab": {
          "base_uri": "https://localhost:8080/"
        },
        "id": "UDkLAPV2nx5n",
        "outputId": "5b574c37-c2b7-4d62-fb98-ebd4c989988a"
      },
      "source": [
        "import tensorflow as tf\n",
        "print(tf.__version__)\n",
        "mnist = tf.keras.datasets.fashion_mnist\n",
        "(training_images, training_labels), (test_images, test_labels) = mnist.load_data()\n",
        "training_images=training_images.reshape(60000, 28, 28, 1)\n",
        "training_images=training_images / 255.0\n",
        "test_images = test_images.reshape(10000, 28, 28, 1)\n",
        "test_images=test_images/255.0\n",
        "model = tf.keras.models.Sequential([\n",
        "  tf.keras.layers.Conv2D(64, (3,3), activation='relu', input_shape=(28, 28, 1)),\n",
        "  tf.keras.layers.MaxPooling2D(2, 2),\n",
        "  tf.keras.layers.Conv2D(64, (3,3), activation='relu'),\n",
        "  tf.keras.layers.MaxPooling2D(2,2),\n",
        "  tf.keras.layers.Flatten(),\n",
        "  tf.keras.layers.Dense(1024, activation='relu'),\n",
        "  tf.keras.layers.Dense(10, activation='softmax')\n",
        "])\n",
        "model.compile(optimizer='nadam', loss='sparse_categorical_crossentropy', metrics=['accuracy'])\n",
        "model.summary()\n",
        "model.fit(training_images, training_labels, validation_data = (test_images, test_labels),epochs=30, \n",
        "          callbacks = [EarlyStopping(patience=2)])\n",
        "test_loss = model.evaluate(test_images, test_labels)"
      ],
      "execution_count": null,
      "outputs": [
        {
          "output_type": "stream",
          "text": [
            "2.5.0\n",
            "Model: \"sequential_5\"\n",
            "_________________________________________________________________\n",
            "Layer (type)                 Output Shape              Param #   \n",
            "=================================================================\n",
            "conv2d_2 (Conv2D)            (None, 26, 26, 64)        640       \n",
            "_________________________________________________________________\n",
            "max_pooling2d_2 (MaxPooling2 (None, 13, 13, 64)        0         \n",
            "_________________________________________________________________\n",
            "conv2d_3 (Conv2D)            (None, 11, 11, 64)        36928     \n",
            "_________________________________________________________________\n",
            "max_pooling2d_3 (MaxPooling2 (None, 5, 5, 64)          0         \n",
            "_________________________________________________________________\n",
            "flatten_5 (Flatten)          (None, 1600)              0         \n",
            "_________________________________________________________________\n",
            "dense_10 (Dense)             (None, 1024)              1639424   \n",
            "_________________________________________________________________\n",
            "dense_11 (Dense)             (None, 10)                10250     \n",
            "=================================================================\n",
            "Total params: 1,687,242\n",
            "Trainable params: 1,687,242\n",
            "Non-trainable params: 0\n",
            "_________________________________________________________________\n",
            "Epoch 1/30\n",
            "1875/1875 [==============================] - 136s 72ms/step - loss: 0.3975 - accuracy: 0.8539 - val_loss: 0.3281 - val_accuracy: 0.8801\n",
            "Epoch 2/30\n",
            "1875/1875 [==============================] - 137s 73ms/step - loss: 0.2620 - accuracy: 0.9036 - val_loss: 0.2696 - val_accuracy: 0.9003\n",
            "Epoch 3/30\n",
            "1875/1875 [==============================] - 136s 73ms/step - loss: 0.2170 - accuracy: 0.9183 - val_loss: 0.2563 - val_accuracy: 0.9052\n",
            "Epoch 4/30\n",
            "1875/1875 [==============================] - 135s 72ms/step - loss: 0.1797 - accuracy: 0.9325 - val_loss: 0.2460 - val_accuracy: 0.9113\n",
            "Epoch 5/30\n",
            "1875/1875 [==============================] - 135s 72ms/step - loss: 0.1476 - accuracy: 0.9441 - val_loss: 0.2592 - val_accuracy: 0.9141\n",
            "Epoch 6/30\n",
            "1875/1875 [==============================] - 134s 71ms/step - loss: 0.1239 - accuracy: 0.9526 - val_loss: 0.2887 - val_accuracy: 0.9099\n",
            "313/313 [==============================] - 5s 15ms/step - loss: 0.2887 - accuracy: 0.9099\n"
          ],
          "name": "stdout"
        }
      ]
    },
    {
      "cell_type": "code",
      "metadata": {
        "id": "H016uq60N0SF"
      },
      "source": [
        "mnist = tf.keras.datasets.fashion_mnist\n",
        "(training_images, training_labels), (test_images, test_labels) = mnist.load_data()"
      ],
      "execution_count": null,
      "outputs": []
    },
    {
      "cell_type": "code",
      "metadata": {
        "id": "iLEbRTsysAAF"
      },
      "source": [
        "import numpy as np"
      ],
      "execution_count": null,
      "outputs": []
    },
    {
      "cell_type": "code",
      "metadata": {
        "id": "B3QbQaservrT"
      },
      "source": [
        "x = np.array([[1,2], [2,3], [3,4]])"
      ],
      "execution_count": null,
      "outputs": []
    },
    {
      "cell_type": "code",
      "metadata": {
        "colab": {
          "base_uri": "https://localhost:8080/"
        },
        "id": "mdPtgTc8rvxi",
        "outputId": "1a29ad17-2a92-40f4-dca4-48474e9decbf"
      },
      "source": [
        "x.shape"
      ],
      "execution_count": null,
      "outputs": [
        {
          "output_type": "execute_result",
          "data": {
            "text/plain": [
              "(3, 2)"
            ]
          },
          "metadata": {
            "tags": []
          },
          "execution_count": 44
        }
      ]
    },
    {
      "cell_type": "code",
      "metadata": {
        "colab": {
          "base_uri": "https://localhost:8080/"
        },
        "id": "9Wq_ECoqrv4n",
        "outputId": "46070730-1f4a-470b-8d36-18c85258168b"
      },
      "source": [
        "x.reshape(3,2,1)"
      ],
      "execution_count": null,
      "outputs": [
        {
          "output_type": "execute_result",
          "data": {
            "text/plain": [
              "array([[[1],\n",
              "        [2]],\n",
              "\n",
              "       [[2],\n",
              "        [3]],\n",
              "\n",
              "       [[3],\n",
              "        [4]]])"
            ]
          },
          "metadata": {
            "tags": []
          },
          "execution_count": 59
        }
      ]
    },
    {
      "cell_type": "code",
      "metadata": {
        "colab": {
          "base_uri": "https://localhost:8080/"
        },
        "id": "hH1UN5iqtA3W",
        "outputId": "259de676-2201-471f-a710-50bd97abcb95"
      },
      "source": [
        "x.reshape(3,2,1,1)"
      ],
      "execution_count": null,
      "outputs": [
        {
          "output_type": "execute_result",
          "data": {
            "text/plain": [
              "array([[[[1]],\n",
              "\n",
              "        [[2]]],\n",
              "\n",
              "\n",
              "       [[[2]],\n",
              "\n",
              "        [[3]]],\n",
              "\n",
              "\n",
              "       [[[3]],\n",
              "\n",
              "        [[4]]]])"
            ]
          },
          "metadata": {
            "tags": []
          },
          "execution_count": 58
        }
      ]
    },
    {
      "cell_type": "code",
      "metadata": {
        "colab": {
          "base_uri": "https://localhost:8080/"
        },
        "id": "THh5oi4Qrv1b",
        "outputId": "b6a638dc-bcfc-44e1-90d8-90099ddd7acd"
      },
      "source": [
        "x.reshape(3,2,1,1).shape"
      ],
      "execution_count": null,
      "outputs": [
        {
          "output_type": "execute_result",
          "data": {
            "text/plain": [
              "(3, 2, 1, 1)"
            ]
          },
          "metadata": {
            "tags": []
          },
          "execution_count": 47
        }
      ]
    },
    {
      "cell_type": "code",
      "metadata": {
        "colab": {
          "base_uri": "https://localhost:8080/"
        },
        "id": "T9V_s-wJrv74",
        "outputId": "5f5659d6-c4f3-4bea-f496-be6d7aa49e00"
      },
      "source": [
        "x"
      ],
      "execution_count": null,
      "outputs": [
        {
          "output_type": "execute_result",
          "data": {
            "text/plain": [
              "array([[1, 2],\n",
              "       [2, 3],\n",
              "       [3, 4]])"
            ]
          },
          "metadata": {
            "tags": []
          },
          "execution_count": 50
        }
      ]
    },
    {
      "cell_type": "code",
      "metadata": {
        "colab": {
          "base_uri": "https://localhost:8080/"
        },
        "id": "ZKap7CH3svO4",
        "outputId": "09ce0511-336e-477d-f3b2-48c5842e9ebe"
      },
      "source": [
        "x.reshape(1,3,2)"
      ],
      "execution_count": null,
      "outputs": [
        {
          "output_type": "execute_result",
          "data": {
            "text/plain": [
              "array([[[1, 2],\n",
              "        [2, 3],\n",
              "        [3, 4]]])"
            ]
          },
          "metadata": {
            "tags": []
          },
          "execution_count": 57
        }
      ]
    },
    {
      "cell_type": "code",
      "metadata": {
        "id": "m3e0B_ttzc6p"
      },
      "source": [
        "from tensorflow.keras.layers import Conv2D, MaxPooling2D\n",
        "from tensorflow.keras.callbacks import EarlyStopping"
      ],
      "execution_count": null,
      "outputs": []
    },
    {
      "cell_type": "code",
      "metadata": {
        "id": "84NcSfFQN0Vt"
      },
      "source": [
        "model = Sequential()"
      ],
      "execution_count": null,
      "outputs": []
    },
    {
      "cell_type": "code",
      "metadata": {
        "id": "njth7DjECe8f"
      },
      "source": [
        "model.add(Conv2D(64, (3,3), activation='relu', input_shape=(28, 28, 1)))\n",
        "model.add(MaxPooling2D(2,2))\n",
        "model.add(Conv2D(64, (3,3), activation='relu'))\n",
        "model.add(Flatten())\n",
        "model.add(Dense(128, activation='selu'))\n",
        "model.add(Dense(10, activation='softmax'))"
      ],
      "execution_count": null,
      "outputs": []
    },
    {
      "cell_type": "code",
      "metadata": {
        "id": "o_wyVbbn1Aae"
      },
      "source": [
        "model.compile(optimizer='nadam', loss=tf.losses.sparse_categorical_crossentropy, \n",
        "              metrics=['accuracy'])"
      ],
      "execution_count": null,
      "outputs": []
    },
    {
      "cell_type": "code",
      "metadata": {
        "colab": {
          "base_uri": "https://localhost:8080/"
        },
        "id": "UVMsStWH1xEG",
        "outputId": "e3c8e1e1-35d1-4d02-9e13-b7a90763ac67"
      },
      "source": [
        "x_train.shape"
      ],
      "execution_count": null,
      "outputs": [
        {
          "output_type": "execute_result",
          "data": {
            "text/plain": [
              "(60000, 28, 28)"
            ]
          },
          "metadata": {
            "tags": []
          },
          "execution_count": 68
        }
      ]
    },
    {
      "cell_type": "code",
      "metadata": {
        "id": "t1C6cRWg1mSV"
      },
      "source": [
        "x_train = x_train.reshape(60000, 28, 28, 1)/255\n",
        "x_test = x_test.reshape(10000, 28, 28, 1)/255"
      ],
      "execution_count": null,
      "outputs": []
    },
    {
      "cell_type": "code",
      "metadata": {
        "id": "OIaDUuur2LGX"
      },
      "source": [
        ""
      ],
      "execution_count": null,
      "outputs": []
    },
    {
      "cell_type": "code",
      "metadata": {
        "colab": {
          "base_uri": "https://localhost:8080/"
        },
        "id": "rQX7NsBe1iJG",
        "outputId": "bc9811d7-4990-4c0a-a354-55b1ca3c86c5"
      },
      "source": [
        "history = model.fit(x_train, y_train, validation_data=(x_test, y_test), epochs=15,\n",
        "          callbacks=[EarlyStopping(patience=3)])"
      ],
      "execution_count": null,
      "outputs": [
        {
          "output_type": "stream",
          "text": [
            "Epoch 1/15\n",
            "1875/1875 [==============================] - 118s 62ms/step - loss: 0.6880 - accuracy: 0.7428 - val_loss: 0.5380 - val_accuracy: 0.7988\n",
            "Epoch 2/15\n",
            "1875/1875 [==============================] - 115s 61ms/step - loss: 0.4558 - accuracy: 0.8378 - val_loss: 0.4504 - val_accuracy: 0.8389\n",
            "Epoch 3/15\n",
            "1875/1875 [==============================] - 115s 61ms/step - loss: 0.3981 - accuracy: 0.8561 - val_loss: 0.4127 - val_accuracy: 0.8563\n",
            "Epoch 4/15\n",
            "1875/1875 [==============================] - 114s 61ms/step - loss: 0.3638 - accuracy: 0.8699 - val_loss: 0.3894 - val_accuracy: 0.8633\n",
            "Epoch 5/15\n",
            "1875/1875 [==============================] - 114s 61ms/step - loss: 0.3373 - accuracy: 0.8777 - val_loss: 0.3634 - val_accuracy: 0.8719\n",
            "Epoch 6/15\n",
            "1875/1875 [==============================] - 114s 61ms/step - loss: 0.3173 - accuracy: 0.8853 - val_loss: 0.3461 - val_accuracy: 0.8749\n",
            "Epoch 7/15\n",
            "1875/1875 [==============================] - 114s 61ms/step - loss: 0.3030 - accuracy: 0.8891 - val_loss: 0.3330 - val_accuracy: 0.8804\n",
            "Epoch 8/15\n",
            "1875/1875 [==============================] - 114s 61ms/step - loss: 0.2907 - accuracy: 0.8927 - val_loss: 0.3175 - val_accuracy: 0.8884\n",
            "Epoch 9/15\n",
            "1875/1875 [==============================] - 113s 60ms/step - loss: 0.2806 - accuracy: 0.8962 - val_loss: 0.3482 - val_accuracy: 0.8743\n",
            "Epoch 10/15\n",
            "1875/1875 [==============================] - 113s 60ms/step - loss: 0.2690 - accuracy: 0.9014 - val_loss: 0.3438 - val_accuracy: 0.8762\n",
            "Epoch 11/15\n",
            "1875/1875 [==============================] - 114s 61ms/step - loss: 0.2601 - accuracy: 0.9039 - val_loss: 0.3210 - val_accuracy: 0.8878\n"
          ],
          "name": "stdout"
        }
      ]
    },
    {
      "cell_type": "code",
      "metadata": {
        "colab": {
          "base_uri": "https://localhost:8080/",
          "height": 392
        },
        "id": "RZzYrgTl2XjO",
        "outputId": "5eaacea8-2b81-4d62-942e-d313e8939eb0"
      },
      "source": [
        "import pandas as pd\n",
        "pd.DataFrame(history.history)"
      ],
      "execution_count": null,
      "outputs": [
        {
          "output_type": "execute_result",
          "data": {
            "text/html": [
              "<div>\n",
              "<style scoped>\n",
              "    .dataframe tbody tr th:only-of-type {\n",
              "        vertical-align: middle;\n",
              "    }\n",
              "\n",
              "    .dataframe tbody tr th {\n",
              "        vertical-align: top;\n",
              "    }\n",
              "\n",
              "    .dataframe thead th {\n",
              "        text-align: right;\n",
              "    }\n",
              "</style>\n",
              "<table border=\"1\" class=\"dataframe\">\n",
              "  <thead>\n",
              "    <tr style=\"text-align: right;\">\n",
              "      <th></th>\n",
              "      <th>loss</th>\n",
              "      <th>accuracy</th>\n",
              "      <th>val_loss</th>\n",
              "      <th>val_accuracy</th>\n",
              "    </tr>\n",
              "  </thead>\n",
              "  <tbody>\n",
              "    <tr>\n",
              "      <th>0</th>\n",
              "      <td>0.688023</td>\n",
              "      <td>0.742800</td>\n",
              "      <td>0.538008</td>\n",
              "      <td>0.7988</td>\n",
              "    </tr>\n",
              "    <tr>\n",
              "      <th>1</th>\n",
              "      <td>0.455817</td>\n",
              "      <td>0.837817</td>\n",
              "      <td>0.450429</td>\n",
              "      <td>0.8389</td>\n",
              "    </tr>\n",
              "    <tr>\n",
              "      <th>2</th>\n",
              "      <td>0.398103</td>\n",
              "      <td>0.856150</td>\n",
              "      <td>0.412701</td>\n",
              "      <td>0.8563</td>\n",
              "    </tr>\n",
              "    <tr>\n",
              "      <th>3</th>\n",
              "      <td>0.363798</td>\n",
              "      <td>0.869917</td>\n",
              "      <td>0.389413</td>\n",
              "      <td>0.8633</td>\n",
              "    </tr>\n",
              "    <tr>\n",
              "      <th>4</th>\n",
              "      <td>0.337307</td>\n",
              "      <td>0.877700</td>\n",
              "      <td>0.363422</td>\n",
              "      <td>0.8719</td>\n",
              "    </tr>\n",
              "    <tr>\n",
              "      <th>5</th>\n",
              "      <td>0.317272</td>\n",
              "      <td>0.885317</td>\n",
              "      <td>0.346081</td>\n",
              "      <td>0.8749</td>\n",
              "    </tr>\n",
              "    <tr>\n",
              "      <th>6</th>\n",
              "      <td>0.303000</td>\n",
              "      <td>0.889067</td>\n",
              "      <td>0.332987</td>\n",
              "      <td>0.8804</td>\n",
              "    </tr>\n",
              "    <tr>\n",
              "      <th>7</th>\n",
              "      <td>0.290652</td>\n",
              "      <td>0.892717</td>\n",
              "      <td>0.317472</td>\n",
              "      <td>0.8884</td>\n",
              "    </tr>\n",
              "    <tr>\n",
              "      <th>8</th>\n",
              "      <td>0.280550</td>\n",
              "      <td>0.896200</td>\n",
              "      <td>0.348212</td>\n",
              "      <td>0.8743</td>\n",
              "    </tr>\n",
              "    <tr>\n",
              "      <th>9</th>\n",
              "      <td>0.269032</td>\n",
              "      <td>0.901417</td>\n",
              "      <td>0.343846</td>\n",
              "      <td>0.8762</td>\n",
              "    </tr>\n",
              "    <tr>\n",
              "      <th>10</th>\n",
              "      <td>0.260108</td>\n",
              "      <td>0.903850</td>\n",
              "      <td>0.321017</td>\n",
              "      <td>0.8878</td>\n",
              "    </tr>\n",
              "  </tbody>\n",
              "</table>\n",
              "</div>"
            ],
            "text/plain": [
              "        loss  accuracy  val_loss  val_accuracy\n",
              "0   0.688023  0.742800  0.538008        0.7988\n",
              "1   0.455817  0.837817  0.450429        0.8389\n",
              "2   0.398103  0.856150  0.412701        0.8563\n",
              "3   0.363798  0.869917  0.389413        0.8633\n",
              "4   0.337307  0.877700  0.363422        0.8719\n",
              "5   0.317272  0.885317  0.346081        0.8749\n",
              "6   0.303000  0.889067  0.332987        0.8804\n",
              "7   0.290652  0.892717  0.317472        0.8884\n",
              "8   0.280550  0.896200  0.348212        0.8743\n",
              "9   0.269032  0.901417  0.343846        0.8762\n",
              "10  0.260108  0.903850  0.321017        0.8878"
            ]
          },
          "metadata": {
            "tags": []
          },
          "execution_count": 73
        }
      ]
    },
    {
      "cell_type": "code",
      "metadata": {
        "id": "riTOJtLs7c7-"
      },
      "source": [
        "import matplotlib.pyplot as plt"
      ],
      "execution_count": null,
      "outputs": []
    },
    {
      "cell_type": "code",
      "metadata": {
        "id": "1_BM4eRy7lVt",
        "outputId": "991fa03d-191d-4760-8f98-3f48df15f843",
        "colab": {
          "base_uri": "https://localhost:8080/",
          "height": 282
        }
      },
      "source": [
        "pd.DataFrame(history.history).plot()"
      ],
      "execution_count": null,
      "outputs": [
        {
          "output_type": "execute_result",
          "data": {
            "text/plain": [
              "<matplotlib.axes._subplots.AxesSubplot at 0x7fd881b7a510>"
            ]
          },
          "metadata": {
            "tags": []
          },
          "execution_count": 75
        },
        {
          "output_type": "display_data",
          "data": {
            "image/png": "[encoded data removed]",
            "text/plain": [
              "<Figure size 432x288 with 1 Axes>"
            ]
          },
          "metadata": {
            "tags": [],
            "needs_background": "light"
          }
        }
      ]
    },
    {
      "cell_type": "code",
      "metadata": {
        "id": "_MNsN_bE7npc"
      },
      "source": [
        ""
      ],
      "execution_count": null,
      "outputs": []
    }
  ]
}